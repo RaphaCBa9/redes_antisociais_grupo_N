{
 "cells": [
  {
   "cell_type": "code",
   "execution_count": 3,
   "metadata": {
    "execution": {
     "iopub.execute_input": "2024-08-27T20:39:25.727125Z",
     "iopub.status.busy": "2024-08-27T20:39:25.726705Z",
     "iopub.status.idle": "2024-08-27T20:39:25.731666Z",
     "shell.execute_reply": "2024-08-27T20:39:25.730747Z",
     "shell.execute_reply.started": "2024-08-27T20:39:25.727096Z"
    }
   },
   "outputs": [],
   "source": [
    "import netpixi\n",
    "from graph_tool import draw\n",
    "import graph_tool_extras as gte\n",
    "\n",
    "import distribution as dst\n",
    "from graph_tool import centrality"
   ]
  },
  {
   "cell_type": "code",
   "execution_count": 4,
   "metadata": {
    "execution": {
     "iopub.execute_input": "2024-08-27T20:39:28.075780Z",
     "iopub.status.busy": "2024-08-27T20:39:28.075279Z",
     "iopub.status.idle": "2024-08-27T20:39:32.016419Z",
     "shell.execute_reply": "2024-08-27T20:39:32.015380Z",
     "shell.execute_reply.started": "2024-08-27T20:39:28.075756Z"
    }
   },
   "outputs": [],
   "source": [
    "g = gte.load('./rede.net.gz')"
   ]
  },
  {
   "cell_type": "code",
   "execution_count": 5,
   "metadata": {
    "execution": {
     "iopub.execute_input": "2024-08-27T20:39:33.086265Z",
     "iopub.status.busy": "2024-08-27T20:39:33.085774Z",
     "iopub.status.idle": "2024-08-27T20:39:33.097282Z",
     "shell.execute_reply": "2024-08-27T20:39:33.096115Z",
     "shell.execute_reply.started": "2024-08-27T20:39:33.086241Z"
    }
   },
   "outputs": [
    {
     "name": "stdout",
     "output_type": "stream",
     "text": [
      "Número de Verticies: 17903\n",
      "Número de Arestas: 197031\n"
     ]
    }
   ],
   "source": [
    "print(f'Número de Verticies: {g.num_vertices()}')\n",
    "print(f'Número de Arestas: {g.num_edges()}')"
   ]
  },
  {
   "cell_type": "code",
   "execution_count": 6,
   "metadata": {
    "execution": {
     "iopub.execute_input": "2024-08-27T20:39:34.143640Z",
     "iopub.status.busy": "2024-08-27T20:39:34.142992Z",
     "iopub.status.idle": "2024-08-27T20:39:34.148450Z",
     "shell.execute_reply": "2024-08-27T20:39:34.147379Z",
     "shell.execute_reply.started": "2024-08-27T20:39:34.143617Z"
    }
   },
   "outputs": [
    {
     "name": "stdout",
     "output_type": "stream",
     "text": [
      "Densidade: 0.122952%\n"
     ]
    }
   ],
   "source": [
    "print(f'Densidade: {g.density()}%')"
   ]
  },
  {
   "cell_type": "code",
   "execution_count": 7,
   "metadata": {
    "execution": {
     "iopub.execute_input": "2024-08-27T20:39:35.150266Z",
     "iopub.status.busy": "2024-08-27T20:39:35.149554Z",
     "iopub.status.idle": "2024-08-27T20:39:35.176434Z",
     "shell.execute_reply": "2024-08-27T20:39:35.175438Z",
     "shell.execute_reply.started": "2024-08-27T20:39:35.150238Z"
    }
   },
   "outputs": [
    {
     "name": "stdout",
     "output_type": "stream",
     "text": [
      "Transitividade: 31.777791%\n"
     ]
    }
   ],
   "source": [
    "print(f'Transitividade: {g.transitivity()}%')"
   ]
  },
  {
   "cell_type": "code",
   "execution_count": 8,
   "metadata": {
    "execution": {
     "iopub.execute_input": "2024-08-27T20:39:36.548314Z",
     "iopub.status.busy": "2024-08-27T20:39:36.547859Z",
     "iopub.status.idle": "2024-08-27T20:39:36.569760Z",
     "shell.execute_reply": "2024-08-27T20:39:36.568662Z",
     "shell.execute_reply.started": "2024-08-27T20:39:36.548293Z"
    }
   },
   "outputs": [
    {
     "data": {
      "text/plain": [
       "count    17903.000000\n",
       "mean        22.010948\n",
       "std         31.016923\n",
       "min          1.000000\n",
       "25%          4.000000\n",
       "50%         10.000000\n",
       "75%         28.000000\n",
       "max        504.000000\n",
       "dtype: float64"
      ]
     },
     "execution_count": 8,
     "metadata": {},
     "output_type": "execute_result"
    }
   ],
   "source": [
    "degrees = g.get_total_degrees()\n",
    "degrees.describe()"
   ]
  },
  {
   "cell_type": "code",
   "execution_count": 9,
   "metadata": {
    "execution": {
     "iopub.execute_input": "2024-08-27T20:39:38.121059Z",
     "iopub.status.busy": "2024-08-27T20:39:38.120714Z",
     "iopub.status.idle": "2024-08-27T20:39:38.305374Z",
     "shell.execute_reply": "2024-08-27T20:39:38.304569Z",
     "shell.execute_reply.started": "2024-08-27T20:39:38.121039Z"
    }
   },
   "outputs": [
    {
     "data": {
      "image/png": "[encoded data removed]",
      "text/plain": [
       "<Figure size 640x480 with 1 Axes>"
      ]
     },
     "metadata": {},
     "output_type": "display_data"
    }
   ],
   "source": [
    "degrees.hist(bins=50, edgecolor='white', linewidth=0.5);"
   ]
  },
  {
   "cell_type": "code",
   "execution_count": 10,
   "metadata": {
    "execution": {
     "iopub.execute_input": "2024-08-27T20:39:40.076136Z",
     "iopub.status.busy": "2024-08-27T20:39:40.075676Z",
     "iopub.status.idle": "2024-08-27T20:39:40.089195Z",
     "shell.execute_reply": "2024-08-27T20:39:40.087904Z",
     "shell.execute_reply.started": "2024-08-27T20:39:40.076115Z"
    }
   },
   "outputs": [
    {
     "name": "stdout",
     "output_type": "stream",
     "text": [
      "Not Normal: <0.001\n"
     ]
    }
   ],
   "source": [
    "p_value = dst.not_normal(degrees)\n",
    "print(f'Not Normal: {'<0.001' if p_value < 0.001 else float(p_value)}')"
   ]
  },
  {
   "cell_type": "code",
   "execution_count": 11,
   "metadata": {
    "execution": {
     "iopub.execute_input": "2024-08-27T20:39:43.178917Z",
     "iopub.status.busy": "2024-08-27T20:39:43.178433Z",
     "iopub.status.idle": "2024-08-27T20:39:43.303226Z",
     "shell.execute_reply": "2024-08-27T20:39:43.302311Z",
     "shell.execute_reply.started": "2024-08-27T20:39:43.178897Z"
    }
   },
   "outputs": [
    {
     "name": "stdout",
     "output_type": "stream",
     "text": [
      "More Powerlaw than Lognormal: 0.8680756462375805 \n"
     ]
    },
    {
     "name": "stderr",
     "output_type": "stream",
     "text": [
      "Calculating best minimal value for power law fit\n",
      "/opt/miniconda/envs/jupyterlab/lib/python3.12/site-packages/powerlaw.py:699: RuntimeWarning: invalid value encountered in divide\n",
      "  (CDF_diff**2) /\n"
     ]
    }
   ],
   "source": [
    "powerlaw, p_value = dst.more_powerlaw_than_lognormal(degrees)\n",
    "print(f'More Powerlaw than Lognormal: {'{float(p_value)} (Inconclusivo)' if 0.05 < p_value < 0.1 else ('<0.001' if  p_value < 0.001 else float(p_value))} {'[powerlaw]' if powerlaw else ''}')"
   ]
  },
  {
   "cell_type": "code",
   "execution_count": 12,
   "metadata": {
    "execution": {
     "iopub.execute_input": "2024-08-27T20:39:44.682331Z",
     "iopub.status.busy": "2024-08-27T20:39:44.681628Z",
     "iopub.status.idle": "2024-08-27T20:39:44.717390Z",
     "shell.execute_reply": "2024-08-27T20:39:44.716632Z",
     "shell.execute_reply.started": "2024-08-27T20:39:44.682305Z"
    }
   },
   "outputs": [
    {
     "name": "stdout",
     "output_type": "stream",
     "text": [
      "More Powerlaw than Exponential: 0.014483332945893693 [powerlaw]\n"
     ]
    },
    {
     "name": "stderr",
     "output_type": "stream",
     "text": [
      "Calculating best minimal value for power law fit\n"
     ]
    }
   ],
   "source": [
    "powerlaw, p_value = dst.more_powerlaw_than_exponential(degrees)\n",
    "print(f'More Powerlaw than Exponential: {'{float(p_value)} (Inconclusivo)' if 0.05 < p_value < 0.1 else ('<0.001' if  p_value < 0.001 else float(p_value))} {'[powerlaw]' if powerlaw else ''}')"
   ]
  },
  {
   "cell_type": "code",
   "execution_count": null,
   "metadata": {
    "execution": {
     "iopub.execute_input": "2024-08-27T19:58:35.055078Z",
     "iopub.status.busy": "2024-08-27T19:58:35.054523Z"
    }
   },
   "outputs": [],
   "source": [
    "distances = g.get_distances()\n",
    "distances.describe()"
   ]
  },
  {
   "cell_type": "code",
   "execution_count": null,
   "metadata": {},
   "outputs": [],
   "source": [
    "distances.hist()"
   ]
  },
  {
   "cell_type": "markdown",
   "metadata": {},
   "source": [
    "## Closeness"
   ]
  },
  {
   "cell_type": "markdown",
   "metadata": {},
   "source": [
    "Primeiro, calculamos a centralidade _closeness_ com `closeness`."
   ]
  },
  {
   "cell_type": "code",
   "execution_count": 13,
   "metadata": {
    "execution": {
     "iopub.execute_input": "2024-08-27T20:39:47.610497Z",
     "iopub.status.busy": "2024-08-27T20:39:47.609843Z",
     "iopub.status.idle": "2024-08-27T20:40:03.890227Z",
     "shell.execute_reply": "2024-08-27T20:40:03.888995Z",
     "shell.execute_reply.started": "2024-08-27T20:39:47.610471Z"
    }
   },
   "outputs": [],
   "source": [
    "c = centrality.closeness(g, harmonic=True)"
   ]
  },
  {
   "cell_type": "markdown",
   "metadata": {},
   "source": [
    "Depois, adicionamos a propriedade de vértice ao grafo com `add_vp`."
   ]
  },
  {
   "cell_type": "code",
   "execution_count": 14,
   "metadata": {
    "execution": {
     "iopub.execute_input": "2024-08-27T20:42:28.062165Z",
     "iopub.status.busy": "2024-08-27T20:42:28.061421Z",
     "iopub.status.idle": "2024-08-27T20:42:28.068005Z",
     "shell.execute_reply": "2024-08-27T20:42:28.066988Z",
     "shell.execute_reply.started": "2024-08-27T20:42:28.062137Z"
    }
   },
   "outputs": [],
   "source": [
    "g.add_vp('closeness', c)"
   ]
  },
  {
   "cell_type": "markdown",
   "metadata": {
    "execution": {
     "iopub.execute_input": "2024-08-27T20:43:17.919919Z",
     "iopub.status.busy": "2024-08-27T20:43:17.919442Z",
     "iopub.status.idle": "2024-08-27T20:43:17.929572Z",
     "shell.execute_reply": "2024-08-27T20:43:17.928259Z",
     "shell.execute_reply.started": "2024-08-27T20:43:17.919897Z"
    }
   },
   "source": [
    "Então, salvamos a rede modificada para podermos visualizá-la."
   ]
  },
  {
   "cell_type": "code",
   "execution_count": 16,
   "metadata": {
    "execution": {
     "iopub.execute_input": "2024-08-27T20:43:41.694517Z",
     "iopub.status.busy": "2024-08-27T20:43:41.694056Z",
     "iopub.status.idle": "2024-08-27T20:43:49.565470Z",
     "shell.execute_reply": "2024-08-27T20:43:49.564608Z",
     "shell.execute_reply.started": "2024-08-27T20:43:41.694493Z"
    }
   },
   "outputs": [],
   "source": [
    "gte.save(g, 'closeness.net.gz')"
   ]
  },
  {
   "cell_type": "markdown",
   "metadata": {},
   "source": [
    "Para visualizar a rede, precisamos descomentar as linhas abaixo quando nenhuma outra visualização estiver rodando."
   ]
  },
  {
   "cell_type": "code",
   "execution_count": 19,
   "metadata": {
    "execution": {
     "iopub.execute_input": "2024-08-27T20:47:42.309668Z",
     "iopub.status.busy": "2024-08-27T20:47:42.306839Z",
     "iopub.status.idle": "2024-08-27T20:47:42.407525Z",
     "shell.execute_reply": "2024-08-27T20:47:42.403280Z",
     "shell.execute_reply.started": "2024-08-27T20:47:42.309415Z"
    }
   },
   "outputs": [],
   "source": [
    "# rb = netpixi.render('closeness.net.gz')"
   ]
  },
  {
   "cell_type": "code",
   "execution_count": 18,
   "metadata": {
    "execution": {
     "iopub.execute_input": "2024-08-27T20:44:58.219099Z",
     "iopub.status.busy": "2024-08-27T20:44:58.217761Z",
     "iopub.status.idle": "2024-08-27T20:44:58.225666Z",
     "shell.execute_reply": "2024-08-27T20:44:58.224773Z",
     "shell.execute_reply.started": "2024-08-27T20:44:58.219060Z"
    }
   },
   "outputs": [
    {
     "data": {
      "text/html": [
       "\n",
       "        <div id=\"aUjj3FT22eTgP3ZknjpKUG\"></div>\n",
       "        <script>netpixi.call('aUjj3FT22eTgP3ZknjpKUG', '5efTkhMf9giNMkhsWbps9T', 'normalizeGraph', 'eyJ0eXBlIjogInZlcnRleCIsICJwcm9wcyI6IHsic3JjIjogImNsb3NlbmVzcyIsICJtaW4iOiAxMCwgIm1heCI6IDMwfX0K');</script>\n",
       "    "
      ],
      "text/plain": [
       "<IPython.core.display.HTML object>"
      ]
     },
     "metadata": {},
     "output_type": "display_data"
    }
   ],
   "source": [
    "# rb.vertex_scale('closeness', 10, 30)"
   ]
  },
  {
   "cell_type": "markdown",
   "metadata": {},
   "source": [
    "## Betweeness"
   ]
  },
  {
   "cell_type": "markdown",
   "metadata": {},
   "source": [
    "Agora, para calcularmos o _betweeness_, utilizamos a função `betweenness`."
   ]
  },
  {
   "cell_type": "code",
   "execution_count": 21,
   "metadata": {
    "execution": {
     "iopub.execute_input": "2024-08-27T21:04:36.275848Z",
     "iopub.status.busy": "2024-08-27T21:04:36.275288Z",
     "iopub.status.idle": "2024-08-27T21:05:16.649316Z",
     "shell.execute_reply": "2024-08-27T21:05:16.648191Z",
     "shell.execute_reply.started": "2024-08-27T21:04:36.275821Z"
    }
   },
   "outputs": [],
   "source": [
    "b, _ = centrality.betweenness(g)"
   ]
  },
  {
   "cell_type": "markdown",
   "metadata": {},
   "source": [
    "Novamente, precisamos adicionar a propriedade de vértice ao grafo com `add_vp`."
   ]
  },
  {
   "cell_type": "code",
   "execution_count": 22,
   "metadata": {
    "execution": {
     "iopub.execute_input": "2024-08-27T21:07:21.366994Z",
     "iopub.status.busy": "2024-08-27T21:07:21.366381Z",
     "iopub.status.idle": "2024-08-27T21:07:21.380736Z",
     "shell.execute_reply": "2024-08-27T21:07:21.378689Z",
     "shell.execute_reply.started": "2024-08-27T21:07:21.366963Z"
    }
   },
   "outputs": [],
   "source": [
    "g.add_vp('betweenness', b)"
   ]
  },
  {
   "cell_type": "markdown",
   "metadata": {},
   "source": [
    "Salvando a rede:"
   ]
  },
  {
   "cell_type": "code",
   "execution_count": 23,
   "metadata": {
    "execution": {
     "iopub.execute_input": "2024-08-27T21:07:24.085825Z",
     "iopub.status.busy": "2024-08-27T21:07:24.084720Z",
     "iopub.status.idle": "2024-08-27T21:07:33.239729Z",
     "shell.execute_reply": "2024-08-27T21:07:33.238872Z",
     "shell.execute_reply.started": "2024-08-27T21:07:24.085791Z"
    }
   },
   "outputs": [],
   "source": [
    "gte.save(g, 'betweenness.net.gz')"
   ]
  },
  {
   "cell_type": "markdown",
   "metadata": {
    "execution": {
     "iopub.execute_input": "2024-08-27T20:58:23.489747Z",
     "iopub.status.busy": "2024-08-27T20:58:23.488950Z",
     "iopub.status.idle": "2024-08-27T20:58:23.509659Z",
     "shell.execute_reply": "2024-08-27T20:58:23.507663Z",
     "shell.execute_reply.started": "2024-08-27T20:58:23.489698Z"
    }
   },
   "source": [
    "E por fim, executandos o `render`."
   ]
  },
  {
   "cell_type": "code",
   "execution_count": 27,
   "metadata": {
    "execution": {
     "iopub.execute_input": "2024-08-27T21:09:35.550431Z",
     "iopub.status.busy": "2024-08-27T21:09:35.548527Z",
     "iopub.status.idle": "2024-08-27T21:09:35.563878Z",
     "shell.execute_reply": "2024-08-27T21:09:35.560573Z",
     "shell.execute_reply.started": "2024-08-27T21:09:35.550379Z"
    }
   },
   "outputs": [],
   "source": [
    "# rb = netpixi.render('betweenness.net.gz', )"
   ]
  },
  {
   "cell_type": "code",
   "execution_count": 28,
   "metadata": {
    "execution": {
     "iopub.execute_input": "2024-08-27T21:09:39.809739Z",
     "iopub.status.busy": "2024-08-27T21:09:39.809063Z",
     "iopub.status.idle": "2024-08-27T21:09:39.817215Z",
     "shell.execute_reply": "2024-08-27T21:09:39.816359Z",
     "shell.execute_reply.started": "2024-08-27T21:09:39.809694Z"
    }
   },
   "outputs": [],
   "source": [
    "# rb.vertex_scale('betweenness', 10, 30)"
   ]
  },
  {
   "cell_type": "markdown",
   "metadata": {},
   "source": [
    "## Degrees"
   ]
  },
  {
   "cell_type": "markdown",
   "metadata": {},
   "source": [
    "Para calcular a centralidade _degree_, utilizamos a função `total_degree`."
   ]
  },
  {
   "cell_type": "code",
   "execution_count": 29,
   "metadata": {
    "execution": {
     "iopub.execute_input": "2024-08-27T21:10:40.492047Z",
     "iopub.status.busy": "2024-08-27T21:10:40.490611Z",
     "iopub.status.idle": "2024-08-27T21:10:40.664257Z",
     "shell.execute_reply": "2024-08-27T21:10:40.663150Z",
     "shell.execute_reply.started": "2024-08-27T21:10:40.492014Z"
    }
   },
   "outputs": [],
   "source": [
    "d = gte.total_degree(g)"
   ]
  },
  {
   "cell_type": "markdown",
   "metadata": {},
   "source": [
    "Adicionamos a propriedade ao grafo."
   ]
  },
  {
   "cell_type": "code",
   "execution_count": 30,
   "metadata": {
    "execution": {
     "iopub.execute_input": "2024-08-27T21:10:42.009877Z",
     "iopub.status.busy": "2024-08-27T21:10:42.008653Z",
     "iopub.status.idle": "2024-08-27T21:10:42.019727Z",
     "shell.execute_reply": "2024-08-27T21:10:42.018796Z",
     "shell.execute_reply.started": "2024-08-27T21:10:42.009849Z"
    }
   },
   "outputs": [],
   "source": [
    "g.add_vp('degree', d)"
   ]
  },
  {
   "cell_type": "markdown",
   "metadata": {},
   "source": [
    "Salvamos a rede:"
   ]
  },
  {
   "cell_type": "code",
   "execution_count": 31,
   "metadata": {
    "execution": {
     "iopub.execute_input": "2024-08-27T21:10:44.225385Z",
     "iopub.status.busy": "2024-08-27T21:10:44.224405Z",
     "iopub.status.idle": "2024-08-27T21:10:53.581566Z",
     "shell.execute_reply": "2024-08-27T21:10:53.580789Z",
     "shell.execute_reply.started": "2024-08-27T21:10:44.225361Z"
    }
   },
   "outputs": [],
   "source": [
    "gte.save(g, 'degree.net.gz')"
   ]
  },
  {
   "cell_type": "markdown",
   "metadata": {},
   "source": [
    "E executamos a visualização com `render`, ajustando a escala dos vértices com `vertex_scale`."
   ]
  },
  {
   "cell_type": "code",
   "execution_count": 32,
   "metadata": {
    "execution": {
     "iopub.execute_input": "2024-08-27T21:10:55.168896Z",
     "iopub.status.busy": "2024-08-27T21:10:55.168510Z",
     "iopub.status.idle": "2024-08-27T21:10:55.191883Z",
     "shell.execute_reply": "2024-08-27T21:10:55.190557Z",
     "shell.execute_reply.started": "2024-08-27T21:10:55.168870Z"
    }
   },
   "outputs": [
    {
     "data": {
      "text/html": [
       "\n",
       "        <div id=\"NpbRnumGkF799mBZRqddiy\"></div>\n",
       "        <script>netpixi.render('NpbRnumGkF799mBZRqddiy', '/static/__shared__/redes_antisociais_grupo_N/APS_AstroPh/degree.net.gz', 1.7777777777777777, true, false, false, true);</script>\n",
       "    "
      ],
      "text/plain": [
       "<IPython.core.display.HTML object>"
      ]
     },
     "metadata": {},
     "output_type": "display_data"
    }
   ],
   "source": [
    "# rd = netpixi.render('degree.net.gz')"
   ]
  },
  {
   "cell_type": "code",
   "execution_count": null,
   "metadata": {},
   "outputs": [],
   "source": [
    "# rd.vertex_scale('degree', 10, 30)"
   ]
  }
 ],
 "metadata": {
  "kernelspec": {
   "display_name": "Python 3 (ipykernel)",
   "language": "python",
   "name": "python3"
  },
  "language_info": {
   "codemirror_mode": {
    "name": "ipython",
    "version": 3
   },
   "file_extension": ".py",
   "mimetype": "text/x-python",
   "name": "python",
   "nbconvert_exporter": "python",
   "pygments_lexer": "ipython3",
   "version": "3.12.4"
  }
 },
 "nbformat": 4,
 "nbformat_minor": 4
}
