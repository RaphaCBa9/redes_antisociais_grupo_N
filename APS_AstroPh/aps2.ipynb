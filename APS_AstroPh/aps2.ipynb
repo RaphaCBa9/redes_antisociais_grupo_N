{
 "cells": [
  {
   "cell_type": "code",
   "execution_count": null,
   "metadata": {
    "execution": {
     "iopub.execute_input": "2024-08-30T02:43:35.214575Z",
     "iopub.status.busy": "2024-08-30T02:43:35.213397Z",
     "iopub.status.idle": "2024-08-30T02:43:40.244910Z",
     "shell.execute_reply": "2024-08-30T02:43:40.243712Z",
     "shell.execute_reply.started": "2024-08-30T02:43:35.214474Z"
    }
   },
   "outputs": [],
   "source": [
    "import pandas as pd\n",
    "import scipy\n",
    "\n",
    "import netpixi\n",
    "import graph_tool_extras as gte\n",
    "\n",
    "import distribution as dst\n",
    "from graph_tool import centrality\n",
    "\n",
    "import matplotlib.pyplot as plt\n",
    "import seaborn as sns"
   ]
  },
  {
   "cell_type": "code",
   "execution_count": null,
   "metadata": {
    "execution": {
     "iopub.execute_input": "2024-08-30T02:43:40.247060Z",
     "iopub.status.busy": "2024-08-30T02:43:40.246355Z",
     "iopub.status.idle": "2024-08-30T02:43:44.783230Z",
     "shell.execute_reply": "2024-08-30T02:43:44.781822Z",
     "shell.execute_reply.started": "2024-08-30T02:43:40.247037Z"
    }
   },
   "outputs": [],
   "source": [
    "g = gte.load('./rede.net.gz')"
   ]
  },
  {
   "cell_type": "markdown",
   "metadata": {},
   "source": [
    "# Descrição da Rede\n",
    "Obtendo o tamanho da rede (número de vértices e arestas)."
   ]
  },
  {
   "cell_type": "code",
   "execution_count": null,
   "metadata": {
    "execution": {
     "iopub.execute_input": "2024-08-30T02:43:44.785197Z",
     "iopub.status.busy": "2024-08-30T02:43:44.784868Z",
     "iopub.status.idle": "2024-08-30T02:43:44.791679Z",
     "shell.execute_reply": "2024-08-30T02:43:44.790337Z",
     "shell.execute_reply.started": "2024-08-30T02:43:44.785176Z"
    }
   },
   "outputs": [],
   "source": [
    "print(f'Número de Verticies: {g.num_vertices()}')\n",
    "print(f'Número de Arestas: {g.num_edges()}')"
   ]
  },
  {
   "cell_type": "markdown",
   "metadata": {},
   "source": [
    "Obtendo a densidade da rede por meio da função `density`."
   ]
  },
  {
   "cell_type": "code",
   "execution_count": null,
   "metadata": {
    "execution": {
     "iopub.execute_input": "2024-08-30T02:43:44.794232Z",
     "iopub.status.busy": "2024-08-30T02:43:44.793290Z",
     "iopub.status.idle": "2024-08-30T02:43:44.800040Z",
     "shell.execute_reply": "2024-08-30T02:43:44.798792Z",
     "shell.execute_reply.started": "2024-08-30T02:43:44.794202Z"
    }
   },
   "outputs": [],
   "source": [
    "print(f'Densidade: {g.density()}%')"
   ]
  },
  {
   "cell_type": "markdown",
   "metadata": {},
   "source": [
    "Obtendo a transitividade da rede por meio da função `transitivity`."
   ]
  },
  {
   "cell_type": "code",
   "execution_count": null,
   "metadata": {
    "execution": {
     "iopub.execute_input": "2024-08-30T02:43:44.801716Z",
     "iopub.status.busy": "2024-08-30T02:43:44.801369Z",
     "iopub.status.idle": "2024-08-30T02:43:44.836983Z",
     "shell.execute_reply": "2024-08-30T02:43:44.835756Z",
     "shell.execute_reply.started": "2024-08-30T02:43:44.801688Z"
    }
   },
   "outputs": [],
   "source": [
    "print(f'Transitividade: {g.transitivity()}%')"
   ]
  },
  {
   "cell_type": "markdown",
   "metadata": {
    "editable": true,
    "slideshow": {
     "slide_type": ""
    },
    "tags": []
   },
   "source": [
    "Obtendo o número total de vizinhos de cada um dos vértic por meio da função `get_total_degrees`.  "
   ]
  },
  {
   "cell_type": "code",
   "execution_count": null,
   "metadata": {
    "execution": {
     "iopub.execute_input": "2024-08-30T02:43:44.840921Z",
     "iopub.status.busy": "2024-08-30T02:43:44.840307Z",
     "iopub.status.idle": "2024-08-30T02:43:44.853470Z",
     "shell.execute_reply": "2024-08-30T02:43:44.852394Z",
     "shell.execute_reply.started": "2024-08-30T02:43:44.840890Z"
    }
   },
   "outputs": [],
   "source": [
    "degrees = g.get_total_degrees()"
   ]
  },
  {
   "cell_type": "code",
   "execution_count": null,
   "metadata": {
    "execution": {
     "iopub.execute_input": "2024-08-30T02:43:44.855940Z",
     "iopub.status.busy": "2024-08-30T02:43:44.855476Z",
     "iopub.status.idle": "2024-08-30T02:43:44.880556Z",
     "shell.execute_reply": "2024-08-30T02:43:44.879425Z",
     "shell.execute_reply.started": "2024-08-30T02:43:44.855916Z"
    }
   },
   "outputs": [],
   "source": [
    "degrees.describe()"
   ]
  },
  {
   "cell_type": "code",
   "execution_count": null,
   "metadata": {
    "execution": {
     "iopub.execute_input": "2024-08-30T02:43:44.881804Z",
     "iopub.status.busy": "2024-08-30T02:43:44.881479Z",
     "iopub.status.idle": "2024-08-30T02:43:45.085051Z",
     "shell.execute_reply": "2024-08-30T02:43:45.084070Z",
     "shell.execute_reply.started": "2024-08-30T02:43:44.881783Z"
    }
   },
   "outputs": [],
   "source": [
    "degrees.hist(bins=50, edgecolor='white', linewidth=0.5);"
   ]
  },
  {
   "cell_type": "markdown",
   "metadata": {
    "execution": {
     "iopub.execute_input": "2024-08-29T14:12:23.640900Z",
     "iopub.status.busy": "2024-08-29T14:12:23.639559Z",
     "iopub.status.idle": "2024-08-29T14:12:23.655216Z",
     "shell.execute_reply": "2024-08-29T14:12:23.652149Z",
     "shell.execute_reply.started": "2024-08-29T14:12:23.640849Z"
    }
   },
   "source": [
    "Analizando a **normalidade** da distribuição dos `degree` através da função `not_normal`."
   ]
  },
  {
   "cell_type": "code",
   "execution_count": null,
   "metadata": {
    "execution": {
     "iopub.execute_input": "2024-08-30T02:43:45.086282Z",
     "iopub.status.busy": "2024-08-30T02:43:45.086039Z",
     "iopub.status.idle": "2024-08-30T02:43:45.096300Z",
     "shell.execute_reply": "2024-08-30T02:43:45.095075Z",
     "shell.execute_reply.started": "2024-08-30T02:43:45.086262Z"
    }
   },
   "outputs": [],
   "source": [
    "p_value = dst.not_normal(degrees)\n",
    "print(f'Not Normal: {'<0.001' if p_value < 0.001 else float(p_value)}')"
   ]
  },
  {
   "cell_type": "markdown",
   "metadata": {
    "execution": {
     "iopub.execute_input": "2024-08-29T14:12:23.640900Z",
     "iopub.status.busy": "2024-08-29T14:12:23.639559Z",
     "iopub.status.idle": "2024-08-29T14:12:23.655216Z",
     "shell.execute_reply": "2024-08-29T14:12:23.652149Z",
     "shell.execute_reply.started": "2024-08-29T14:12:23.640849Z"
    }
   },
   "source": [
    "Analizando se a distribuição dos `degree` é mais **power law** do que **lognormal** através da função `more_powerlaw_than_lognormal`."
   ]
  },
  {
   "cell_type": "code",
   "execution_count": null,
   "metadata": {
    "execution": {
     "iopub.execute_input": "2024-08-30T02:43:45.099676Z",
     "iopub.status.busy": "2024-08-30T02:43:45.098465Z",
     "iopub.status.idle": "2024-08-30T02:43:45.226613Z",
     "shell.execute_reply": "2024-08-30T02:43:45.225666Z",
     "shell.execute_reply.started": "2024-08-30T02:43:45.099627Z"
    }
   },
   "outputs": [],
   "source": [
    "powerlaw, p_value = dst.more_powerlaw_than_lognormal(degrees)\n",
    "print(f'More Powerlaw than Lognormal: {'{float(p_value)} (Inconclusivo)' if 0.05 < p_value < 0.1 else ('<0.001' if  p_value < 0.001 else float(p_value))} {'[powerlaw]' if powerlaw else ''}')"
   ]
  },
  {
   "cell_type": "markdown",
   "metadata": {
    "execution": {
     "iopub.execute_input": "2024-08-29T14:12:23.640900Z",
     "iopub.status.busy": "2024-08-29T14:12:23.639559Z",
     "iopub.status.idle": "2024-08-29T14:12:23.655216Z",
     "shell.execute_reply": "2024-08-29T14:12:23.652149Z",
     "shell.execute_reply.started": "2024-08-29T14:12:23.640849Z"
    }
   },
   "source": [
    "Analizando se a destribuição dos `degree` é mais **power law** do que **exponential** através da função `more_powerlaw_than_exponential`."
   ]
  },
  {
   "cell_type": "code",
   "execution_count": null,
   "metadata": {
    "execution": {
     "iopub.execute_input": "2024-08-30T02:43:45.228218Z",
     "iopub.status.busy": "2024-08-30T02:43:45.227778Z",
     "iopub.status.idle": "2024-08-30T02:43:45.272264Z",
     "shell.execute_reply": "2024-08-30T02:43:45.271343Z",
     "shell.execute_reply.started": "2024-08-30T02:43:45.228196Z"
    }
   },
   "outputs": [],
   "source": [
    "powerlaw, p_value = dst.more_powerlaw_than_exponential(degrees)\n",
    "print(f'More Powerlaw than Exponential: {'{float(p_value)} (Inconclusivo)' if 0.05 < p_value < 0.1 else ('<0.001' if  p_value < 0.001 else float(p_value))} {'[powerlaw]' if powerlaw else ''}')"
   ]
  },
  {
   "cell_type": "markdown",
   "metadata": {
    "editable": true,
    "slideshow": {
     "slide_type": ""
    },
    "tags": []
   },
   "source": [
    "## Distâncias\n",
    "\n",
    "Obtendo as distâncias através do método `describe_distances` e plotando o histograma com `hist_distances`.\n",
    "\n",
    "**OBS.:** As funções `get_distances`, `hist` e `describe` não foram utilizadas pois o _kernel_ tende a crashar antes que elas pudessem finalizar a execução."
   ]
  },
  {
   "cell_type": "code",
   "execution_count": null,
   "metadata": {
    "execution": {
     "iopub.execute_input": "2024-08-30T02:43:45.274319Z",
     "iopub.status.busy": "2024-08-30T02:43:45.273468Z",
     "iopub.status.idle": "2024-08-30T02:49:09.756962Z",
     "shell.execute_reply": "2024-08-30T02:49:09.750587Z",
     "shell.execute_reply.started": "2024-08-30T02:43:45.274295Z"
    }
   },
   "outputs": [],
   "source": [
    "g.describe_distances()"
   ]
  },
  {
   "cell_type": "code",
   "execution_count": null,
   "metadata": {
    "execution": {
     "iopub.execute_input": "2024-08-30T02:49:09.779043Z",
     "iopub.status.busy": "2024-08-30T02:49:09.773621Z",
     "iopub.status.idle": "2024-08-30T02:49:33.763683Z",
     "shell.execute_reply": "2024-08-30T02:49:33.762175Z",
     "shell.execute_reply.started": "2024-08-30T02:49:09.778826Z"
    }
   },
   "outputs": [],
   "source": [
    "g.hist_distances()"
   ]
  },
  {
   "cell_type": "markdown",
   "metadata": {},
   "source": [
    "# Métricas da Rede\n",
    "\n",
    "## Closeness\n",
    "Primeiro, calculamos a centralidade _closeness_ com `closeness`."
   ]
  },
  {
   "cell_type": "code",
   "execution_count": null,
   "metadata": {
    "execution": {
     "iopub.execute_input": "2024-08-30T02:49:33.768786Z",
     "iopub.status.busy": "2024-08-30T02:49:33.767535Z",
     "iopub.status.idle": "2024-08-30T02:49:54.739615Z",
     "shell.execute_reply": "2024-08-30T02:49:54.737004Z",
     "shell.execute_reply.started": "2024-08-30T02:49:33.768753Z"
    }
   },
   "outputs": [],
   "source": [
    "c = centrality.closeness(g, harmonic=True)"
   ]
  },
  {
   "cell_type": "markdown",
   "metadata": {},
   "source": [
    "Depois, adicionamos a propriedade de vértice ao grafo com `add_vp`."
   ]
  },
  {
   "cell_type": "code",
   "execution_count": null,
   "metadata": {
    "execution": {
     "iopub.execute_input": "2024-08-30T02:49:54.743508Z",
     "iopub.status.busy": "2024-08-30T02:49:54.742717Z",
     "iopub.status.idle": "2024-08-30T02:49:54.755546Z",
     "shell.execute_reply": "2024-08-30T02:49:54.754164Z",
     "shell.execute_reply.started": "2024-08-30T02:49:54.743482Z"
    }
   },
   "outputs": [],
   "source": [
    "g.add_vp('closeness', c)"
   ]
  },
  {
   "cell_type": "markdown",
   "metadata": {},
   "source": [
    "## Betweeness\n",
    "Agora, para calcularmos o _betweeness_, utilizamos a função `betweenness`."
   ]
  },
  {
   "cell_type": "code",
   "execution_count": null,
   "metadata": {
    "execution": {
     "iopub.execute_input": "2024-08-30T02:49:54.757768Z",
     "iopub.status.busy": "2024-08-30T02:49:54.757012Z",
     "iopub.status.idle": "2024-08-30T02:50:47.875949Z",
     "shell.execute_reply": "2024-08-30T02:50:47.874209Z",
     "shell.execute_reply.started": "2024-08-30T02:49:54.757728Z"
    }
   },
   "outputs": [],
   "source": [
    "b, _ = centrality.betweenness(g)"
   ]
  },
  {
   "cell_type": "markdown",
   "metadata": {},
   "source": [
    "Novamente, precisamos adicionar a propriedade de vértice ao grafo com `add_vp`."
   ]
  },
  {
   "cell_type": "code",
   "execution_count": null,
   "metadata": {
    "execution": {
     "iopub.execute_input": "2024-08-30T02:50:47.879039Z",
     "iopub.status.busy": "2024-08-30T02:50:47.878331Z",
     "iopub.status.idle": "2024-08-30T02:50:47.890645Z",
     "shell.execute_reply": "2024-08-30T02:50:47.889083Z",
     "shell.execute_reply.started": "2024-08-30T02:50:47.878971Z"
    }
   },
   "outputs": [],
   "source": [
    "g.add_vp('betweenness', b)"
   ]
  },
  {
   "cell_type": "markdown",
   "metadata": {},
   "source": [
    "## Degrees\n",
    "Para calcular a centralidade _degree_, utilizamos a função `total_degree`."
   ]
  },
  {
   "cell_type": "code",
   "execution_count": null,
   "metadata": {
    "execution": {
     "iopub.execute_input": "2024-08-30T02:50:47.895700Z",
     "iopub.status.busy": "2024-08-30T02:50:47.894475Z",
     "iopub.status.idle": "2024-08-30T02:50:47.938798Z",
     "shell.execute_reply": "2024-08-30T02:50:47.937371Z",
     "shell.execute_reply.started": "2024-08-30T02:50:47.895659Z"
    }
   },
   "outputs": [],
   "source": [
    "d = gte.total_degree(g)"
   ]
  },
  {
   "cell_type": "markdown",
   "metadata": {},
   "source": [
    "Adicionamos a propriedade ao grafo."
   ]
  },
  {
   "cell_type": "code",
   "execution_count": null,
   "metadata": {
    "execution": {
     "iopub.execute_input": "2024-08-30T02:50:47.942822Z",
     "iopub.status.busy": "2024-08-30T02:50:47.941649Z",
     "iopub.status.idle": "2024-08-30T02:50:47.954205Z",
     "shell.execute_reply": "2024-08-30T02:50:47.952839Z",
     "shell.execute_reply.started": "2024-08-30T02:50:47.942774Z"
    }
   },
   "outputs": [],
   "source": [
    "g.add_vp('degree', d)"
   ]
  },
  {
   "cell_type": "markdown",
   "metadata": {},
   "source": [
    "## Visualização da Rede\n",
    "Agora com todas as 3 métricas calculadas podemos salvar e visualiza-las na rede."
   ]
  },
  {
   "cell_type": "code",
   "execution_count": null,
   "metadata": {
    "execution": {
     "iopub.execute_input": "2024-08-30T02:50:47.956246Z",
     "iopub.status.busy": "2024-08-30T02:50:47.955628Z",
     "iopub.status.idle": "2024-08-30T02:50:58.669010Z",
     "shell.execute_reply": "2024-08-30T02:50:58.666980Z",
     "shell.execute_reply.started": "2024-08-30T02:50:47.956204Z"
    }
   },
   "outputs": [],
   "source": [
    "gte.save(g, 'rede_metricas.net.gz')"
   ]
  },
  {
   "cell_type": "code",
   "execution_count": null,
   "metadata": {
    "execution": {
     "iopub.execute_input": "2024-08-30T02:50:58.684243Z",
     "iopub.status.busy": "2024-08-30T02:50:58.683354Z",
     "iopub.status.idle": "2024-08-30T02:50:58.710095Z",
     "shell.execute_reply": "2024-08-30T02:50:58.709070Z",
     "shell.execute_reply.started": "2024-08-30T02:50:58.684209Z"
    }
   },
   "outputs": [],
   "source": [
    "r = netpixi.render('rede_metricas.net.gz', infinite=True)"
   ]
  },
  {
   "cell_type": "markdown",
   "metadata": {},
   "source": [
    "Primeiro, mas não menos importante, a visualização padrão da rede, sem a aplicação de nenhuma métrica"
   ]
  },
  {
   "cell_type": "code",
   "execution_count": null,
   "metadata": {
    "execution": {
     "iopub.execute_input": "2024-08-30T02:50:58.711866Z",
     "iopub.status.busy": "2024-08-30T02:50:58.711497Z",
     "iopub.status.idle": "2024-08-30T02:50:58.725344Z",
     "shell.execute_reply": "2024-08-30T02:50:58.724043Z",
     "shell.execute_reply.started": "2024-08-30T02:50:58.711842Z"
    }
   },
   "outputs": [],
   "source": [
    "r.vertex_default(size=4, bwidth=1)\n",
    "r.edge_default(width=1)"
   ]
  },
  {
   "cell_type": "markdown",
   "metadata": {},
   "source": [
    "**OBS.:** Descomente as mudanças de escala para ver o resultado de cada métrica."
   ]
  },
  {
   "cell_type": "code",
   "execution_count": null,
   "metadata": {
    "execution": {
     "iopub.execute_input": "2024-08-30T02:50:58.727800Z",
     "iopub.status.busy": "2024-08-30T02:50:58.727245Z",
     "iopub.status.idle": "2024-08-30T02:50:58.732244Z",
     "shell.execute_reply": "2024-08-30T02:50:58.731142Z",
     "shell.execute_reply.started": "2024-08-30T02:50:58.727778Z"
    }
   },
   "outputs": [],
   "source": [
    "# r.vertex_scale('closeness', 10, 30)\n",
    "# r.vertex_scale('betweenness', 10, 30)\n",
    "# r.vertex_scale('degree', 10, 30)"
   ]
  },
  {
   "cell_type": "markdown",
   "metadata": {},
   "source": [
    "## Gráficos\n",
    "\n",
    "Nessa seção, faremos o _plot_ dos gráficos relacionando _closeness_, _betweenness_ e _degree_, seguindo a ordem apresentada na planilha de entrega da atividade."
   ]
  },
  {
   "cell_type": "code",
   "execution_count": null,
   "metadata": {
    "execution": {
     "iopub.execute_input": "2024-08-30T02:50:58.733974Z",
     "iopub.status.busy": "2024-08-30T02:50:58.733468Z",
     "iopub.status.idle": "2024-08-30T02:51:11.854745Z",
     "shell.execute_reply": "2024-08-30T02:51:11.853162Z",
     "shell.execute_reply.started": "2024-08-30T02:50:58.733947Z"
    }
   },
   "outputs": [],
   "source": [
    "fig, axes = plt.subplots(3, 3, figsize=(16, 10))\n",
    "\n",
    "fig.suptitle(\"Relação entre as propriedades da rede\")\n",
    "\n",
    "sns.histplot(c, ax=axes[0, 0]).set_title(\"Closeness\")\n",
    "sns.scatterplot(x=b, y=c, ax=axes[0, 1]).set_title(\"Betweenness X Closeness\")\n",
    "sns.scatterplot(x=d, y=c, ax=axes[0, 2]).set_title(\"Degree X Closeness\")\n",
    "\n",
    "sns.scatterplot(x=c, y=b, ax=axes[1, 0]).set_title(\"Closeness X Betweeness\")\n",
    "hist_betweenness = sns.histplot(b, ax=axes[1, 1])\n",
    "hist_betweenness.set_title(\"Betweenness\")\n",
    "hist_betweenness.set_ylim(0, 1000)\n",
    "sns.scatterplot(x=d, y=b, ax=axes[1, 2]).set_title(\"Degree X Betweeness\")\n",
    "\n",
    "sns.scatterplot(x=c, y=d, ax=axes[2, 0]).set_title(\"Closeness X Degree\")\n",
    "sns.scatterplot(x=b, y=d, ax=axes[2, 1]).set_title(\"Betweeness X Degree\")\n",
    "sns.histplot(d, ax=axes[2, 2]).set_title(\"Degree\")\n",
    "\n",
    "plt.show()"
   ]
  },
  {
   "cell_type": "markdown",
   "metadata": {},
   "source": [
    "A célula abaixo possui código para baixar imagens dos gráficos acima, separadamente. Descomentar caso necessário."
   ]
  },
  {
   "cell_type": "code",
   "execution_count": null,
   "metadata": {
    "execution": {
     "iopub.execute_input": "2024-08-30T02:51:11.857135Z",
     "iopub.status.busy": "2024-08-30T02:51:11.856600Z",
     "iopub.status.idle": "2024-08-30T02:51:18.792225Z",
     "shell.execute_reply": "2024-08-30T02:51:18.790528Z",
     "shell.execute_reply.started": "2024-08-30T02:51:11.857094Z"
    }
   },
   "outputs": [],
   "source": [
    "# import os\n",
    "# if not os.path.isdir('img'):\n",
    "#     os.mkdir('img')\n",
    "\n",
    "# sns.histplot(c).get_figure().savefig('./img/hist_closeness.png')\n",
    "# plt.close()\n",
    "# sns.scatterplot(x=b, y=c).get_figure().savefig('./img/betweenness_closeness.png')\n",
    "# plt.close()\n",
    "# sns.scatterplot(x=d, y=c).get_figure().savefig('./img/degree_closeness.png')\n",
    "# plt.close()\n",
    "\n",
    "# sns.scatterplot(x=c, y=b).get_figure().savefig('./img/closeness_betweenness.png')\n",
    "# plt.close()\n",
    "# hist_betweenness = sns.histplot(b)\n",
    "# hist_betweenness.set_ylim(0, 1000)\n",
    "# hist_betweenness.get_figure().savefig('./img/hist_betweenness.png')\n",
    "# plt.close()\n",
    "# sns.scatterplot(x=d, y=b).get_figure().savefig('./img/degree_betweenness.png')\n",
    "# plt.close()\n",
    "\n",
    "# sns.scatterplot(x=c, y=d).get_figure().savefig('./img/closeness_degree.png')\n",
    "# plt.close()\n",
    "# sns.scatterplot(x=b, y=d).get_figure().savefig('./img/betweenness_degree.png')\n",
    "# plt.close()\n",
    "# sns.histplot(d).get_figure().savefig('./img/hist_degree.png')\n",
    "# plt.close()"
   ]
  },
  {
   "cell_type": "markdown",
   "metadata": {},
   "source": [
    "## Correlações\n",
    "Para calcular as correlações utilizamos a função `pearsonr` com combinaçãos dos valores de `closeness`, `betweeness` e `degree`, obtendo um coeficiente e um p-valor, este que será convertido em uma escala de asteriscos."
   ]
  },
  {
   "cell_type": "code",
   "execution_count": null,
   "metadata": {
    "execution": {
     "iopub.execute_input": "2024-08-30T02:51:18.795502Z",
     "iopub.status.busy": "2024-08-30T02:51:18.794550Z",
     "iopub.status.idle": "2024-08-30T02:51:18.804506Z",
     "shell.execute_reply": "2024-08-30T02:51:18.803116Z",
     "shell.execute_reply.started": "2024-08-30T02:51:18.795469Z"
    }
   },
   "outputs": [],
   "source": [
    "def pearsonr(x, y, ndigits=10):\n",
    "    statistic, p_value = scipy.stats.pearsonr(x, y)\n",
    "    \n",
    "    asterisk = ''\n",
    "    statistic = round(statistic, ndigits)\n",
    "    \n",
    "    if statistic == 1: \n",
    "        asterisk = ' (óbvio)'\n",
    "    elif p_value < 0.01: \n",
    "        asterisk = ' ***'\n",
    "    elif p_value < 0.05: \n",
    "        asterisk = ' **'\n",
    "    elif p_value < 0.1: \n",
    "        asterisk = ' *'\n",
    "        \n",
    "    return f'{statistic} {asterisk}'"
   ]
  },
  {
   "cell_type": "code",
   "execution_count": null,
   "metadata": {
    "execution": {
     "iopub.execute_input": "2024-08-30T02:51:18.807944Z",
     "iopub.status.busy": "2024-08-30T02:51:18.806555Z",
     "iopub.status.idle": "2024-08-30T02:51:19.300408Z",
     "shell.execute_reply": "2024-08-30T02:51:19.298854Z",
     "shell.execute_reply.started": "2024-08-30T02:51:18.807794Z"
    }
   },
   "outputs": [],
   "source": [
    "data = [c, b, d]\n",
    "result = pd.DataFrame([ [ pearsonr(j, i) for j in data ] for i in data ])\n",
    "result"
   ]
  }
 ],
 "metadata": {
  "kernelspec": {
   "display_name": "Python 3 (ipykernel)",
   "language": "python",
   "name": "python3"
  },
  "language_info": {
   "codemirror_mode": {
    "name": "ipython",
    "version": 3
   },
   "file_extension": ".py",
   "mimetype": "text/x-python",
   "name": "python",
   "nbconvert_exporter": "python",
   "pygments_lexer": "ipython3",
   "version": "3.12.4"
  }
 },
 "nbformat": 4,
 "nbformat_minor": 4
}
