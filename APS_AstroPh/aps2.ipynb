{
     "cells": [
          {
               "cell_type": "code",
               "execution_count": 31,
               "metadata": {
                    "execution": {
                         "iopub.execute_input": "2024-08-29T13:57:09.109088Z",
                         "iopub.status.busy": "2024-08-29T13:57:09.107302Z",
                         "iopub.status.idle": "2024-08-29T13:57:09.116246Z",
                         "shell.execute_reply": "2024-08-29T13:57:09.114502Z",
                         "shell.execute_reply.started": "2024-08-29T13:57:09.109041Z"
                    }
               },
               "outputs": [],
               "source": [
                    "import pandas as pd\n",
                    "import scipy\n",
                    "\n",
                    "import netpixi\n",
                    "import graph_tool_extras as gte\n",
                    "\n",
                    "import distribution as dst\n",
                    "from graph_tool import centrality"
               ]
          },
          {
               "cell_type": "code",
               "execution_count": 2,
               "metadata": {
                    "execution": {
                         "iopub.execute_input": "2024-08-29T13:47:15.551657Z",
                         "iopub.status.busy": "2024-08-29T13:47:15.550887Z",
                         "iopub.status.idle": "2024-08-29T13:47:22.997925Z",
                         "shell.execute_reply": "2024-08-29T13:47:22.996379Z",
                         "shell.execute_reply.started": "2024-08-29T13:47:15.551618Z"
                    }
               },
               "outputs": [],
               "source": [
                    "g = gte.load('./rede.net.gz')"
               ]
          },
          {
               "cell_type": "markdown",
               "metadata": {},
               "source": [
                    "# Descrição da Rede\n",
                    "Obtendo o tamanho da rede (número de vérticies e arestas)."
               ]
          },
          {
               "cell_type": "code",
               "execution_count": 3,
               "metadata": {
                    "execution": {
                         "iopub.execute_input": "2024-08-29T13:47:23.001028Z",
                         "iopub.status.busy": "2024-08-29T13:47:22.999988Z",
                         "iopub.status.idle": "2024-08-29T13:47:23.010719Z",
                         "shell.execute_reply": "2024-08-29T13:47:23.008668Z",
                         "shell.execute_reply.started": "2024-08-29T13:47:23.000979Z"
                    }
               },
               "outputs": [
                    {
                         "name": "stdout",
                         "output_type": "stream",
                         "text": [
                              "Número de Verticies: 17903\n",
                              "Número de Arestas: 197031\n"
                         ]
                    }
               ],
               "source": [
                    "print(f'Número de Verticies: {g.num_vertices()}')\n",
                    "print(f'Número de Arestas: {g.num_edges()}')"
               ]
          },
          {
               "cell_type": "markdown",
               "metadata": {},
               "source": [
                    "Obtendo a densidade da rede por meio da função `density`."
               ]
          },
          {
               "cell_type": "code",
               "execution_count": 4,
               "metadata": {
                    "execution": {
                         "iopub.execute_input": "2024-08-29T13:47:23.013797Z",
                         "iopub.status.busy": "2024-08-29T13:47:23.013222Z",
                         "iopub.status.idle": "2024-08-29T13:47:23.058048Z",
                         "shell.execute_reply": "2024-08-29T13:47:23.055962Z",
                         "shell.execute_reply.started": "2024-08-29T13:47:23.013749Z"
                    }
               },
               "outputs": [
                    {
                         "name": "stdout",
                         "output_type": "stream",
                         "text": [
                              "Densidade: 0.122952%\n"
                         ]
                    }
               ],
               "source": [
                    "print(f'Densidade: {g.density()}%')"
               ]
          },
          {
               "cell_type": "markdown",
               "metadata": {},
               "source": [
                    "Obentendo a transitividade da rede por meio da função `transitivity`."
               ]
          },
          {
               "cell_type": "code",
               "execution_count": 5,
               "metadata": {
                    "execution": {
                         "iopub.execute_input": "2024-08-29T13:47:23.061024Z",
                         "iopub.status.busy": "2024-08-29T13:47:23.060439Z",
                         "iopub.status.idle": "2024-08-29T13:47:23.107478Z",
                         "shell.execute_reply": "2024-08-29T13:47:23.105822Z",
                         "shell.execute_reply.started": "2024-08-29T13:47:23.060979Z"
                    }
               },
               "outputs": [
                    {
                         "name": "stdout",
                         "output_type": "stream",
                         "text": [
                              "Transitividade: 31.777791%\n"
                         ]
                    }
               ],
               "source": [
                    "print(f'Transitividade: {g.transitivity()}%')"
               ]
          },
          {
               "cell_type": "markdown",
               "metadata": {
                    "editable": true,
                    "slideshow": {
                         "slide_type": ""
                    },
                    "tags": []
               },
               "source": [
                    "Obtendo o número total de vizinhos de cada um dos vérticies por meio da função `get_total_degrees`.  "
               ]
          },
          {
               "cell_type": "code",
               "execution_count": 6,
               "metadata": {
                    "execution": {
                         "iopub.execute_input": "2024-08-29T13:47:23.113586Z",
                         "iopub.status.busy": "2024-08-29T13:47:23.112593Z",
                         "iopub.status.idle": "2024-08-29T13:47:23.136181Z",
                         "shell.execute_reply": "2024-08-29T13:47:23.134177Z",
                         "shell.execute_reply.started": "2024-08-29T13:47:23.113539Z"
                    }
               },
               "outputs": [
                    {
                         "data": {
                              "text/plain": [
                                   "count    17903.000000\n",
                                   "mean        22.010948\n",
                                   "std         31.016923\n",
                                   "min          1.000000\n",
                                   "25%          4.000000\n",
                                   "50%         10.000000\n",
                                   "75%         28.000000\n",
                                   "max        504.000000\n",
                                   "dtype: float64"
                              ]
                         },
                         "execution_count": 6,
                         "metadata": {},
                         "output_type": "execute_result"
                    }
               ],
               "source": [
                    "degrees = g.get_total_degrees()"
               ]
          },
          {
               "cell_type": "code",
               "execution_count": null,
               "metadata": {},
               "outputs": [],
               "source": [
                    "degrees.describe()"
               ]
          },
          {
               "cell_type": "code",
               "execution_count": 7,
               "metadata": {
                    "execution": {
                         "iopub.execute_input": "2024-08-29T13:47:23.138510Z",
                         "iopub.status.busy": "2024-08-29T13:47:23.137935Z",
                         "iopub.status.idle": "2024-08-29T13:47:23.460367Z",
                         "shell.execute_reply": "2024-08-29T13:47:23.458618Z",
                         "shell.execute_reply.started": "2024-08-29T13:47:23.138467Z"
                    }
               },
               "outputs": [
                    {
                         "data": {
                              "image/png": "[encoded data removed]",
                              "text/plain": [
                                   "<Figure size 640x480 with 1 Axes>"
                              ]
                         },
                         "metadata": {},
                         "output_type": "display_data"
                    }
               ],
               "source": [
                    "degrees.hist(bins=50, edgecolor='white', linewidth=0.5);"
               ]
          },
          {
               "cell_type": "markdown",
               "metadata": {
                    "execution": {
                         "iopub.execute_input": "2024-08-29T14:12:23.640900Z",
                         "iopub.status.busy": "2024-08-29T14:12:23.639559Z",
                         "iopub.status.idle": "2024-08-29T14:12:23.655216Z",
                         "shell.execute_reply": "2024-08-29T14:12:23.652149Z",
                         "shell.execute_reply.started": "2024-08-29T14:12:23.640849Z"
                    }
               },
               "source": [
                    "Analizando a **normalidade** da destribuição dos `degree` através da função `not_normal`."
               ]
          },
          {
               "cell_type": "code",
               "execution_count": 8,
               "metadata": {
                    "execution": {
                         "iopub.execute_input": "2024-08-29T13:47:23.463360Z",
                         "iopub.status.busy": "2024-08-29T13:47:23.462392Z",
                         "iopub.status.idle": "2024-08-29T13:47:23.476187Z",
                         "shell.execute_reply": "2024-08-29T13:47:23.474226Z",
                         "shell.execute_reply.started": "2024-08-29T13:47:23.463316Z"
                    }
               },
               "outputs": [
                    {
                         "name": "stdout",
                         "output_type": "stream",
                         "text": [
                              "Not Normal: <0.001\n"
                         ]
                    }
               ],
               "source": [
                    "p_value = dst.not_normal(degrees)\n",
                    "print(f'Not Normal: {'<0.001' if p_value < 0.001 else float(p_value)}')"
               ]
          },
          {
               "cell_type": "markdown",
               "metadata": {
                    "execution": {
                         "iopub.execute_input": "2024-08-29T14:12:23.640900Z",
                         "iopub.status.busy": "2024-08-29T14:12:23.639559Z",
                         "iopub.status.idle": "2024-08-29T14:12:23.655216Z",
                         "shell.execute_reply": "2024-08-29T14:12:23.652149Z",
                         "shell.execute_reply.started": "2024-08-29T14:12:23.640849Z"
                    }
               },
               "source": [
                    "Analizando se a destribuição dos `degree` é mais **power law** do que **lognormal** através da função `more_powerlaw_than_lognormal`."
               ]
          },
          {
               "cell_type": "code",
               "execution_count": 9,
               "metadata": {
                    "execution": {
                         "iopub.execute_input": "2024-08-29T13:47:23.480062Z",
                         "iopub.status.busy": "2024-08-29T13:47:23.479248Z",
                         "iopub.status.idle": "2024-08-29T13:47:23.660916Z",
                         "shell.execute_reply": "2024-08-29T13:47:23.659060Z",
                         "shell.execute_reply.started": "2024-08-29T13:47:23.480023Z"
                    }
               },
               "outputs": [
                    {
                         "name": "stdout",
                         "output_type": "stream",
                         "text": [
                              "More Powerlaw than Lognormal: 0.8680756462375805 \n"
                         ]
                    },
                    {
                         "name": "stderr",
                         "output_type": "stream",
                         "text": [
                              "Calculating best minimal value for power law fit\n",
                              "/opt/miniconda/envs/jupyterlab/lib/python3.12/site-packages/powerlaw.py:699: RuntimeWarning: invalid value encountered in divide\n",
                              "  (CDF_diff**2) /\n"
                         ]
                    }
               ],
               "source": [
                    "powerlaw, p_value = dst.more_powerlaw_than_lognormal(degrees)\n",
                    "print(f'More Powerlaw than Lognormal: {'{float(p_value)} (Inconclusivo)' if 0.05 < p_value < 0.1 else ('<0.001' if  p_value < 0.001 else float(p_value))} {'[powerlaw]' if powerlaw else ''}')"
               ]
          },
          {
               "cell_type": "markdown",
               "metadata": {
                    "execution": {
                         "iopub.execute_input": "2024-08-29T14:12:23.640900Z",
                         "iopub.status.busy": "2024-08-29T14:12:23.639559Z",
                         "iopub.status.idle": "2024-08-29T14:12:23.655216Z",
                         "shell.execute_reply": "2024-08-29T14:12:23.652149Z",
                         "shell.execute_reply.started": "2024-08-29T14:12:23.640849Z"
                    }
               },
               "source": [
                    "Analizando se a destribuição dos `degree` é mais **power law** do que **exponential** através da função `more_powerlaw_than_exponential`."
               ]
          },
          {
               "cell_type": "code",
               "execution_count": 10,
               "metadata": {
                    "execution": {
                         "iopub.execute_input": "2024-08-29T13:47:23.663507Z",
                         "iopub.status.busy": "2024-08-29T13:47:23.662785Z",
                         "iopub.status.idle": "2024-08-29T13:47:23.750989Z",
                         "shell.execute_reply": "2024-08-29T13:47:23.749360Z",
                         "shell.execute_reply.started": "2024-08-29T13:47:23.663470Z"
                    }
               },
               "outputs": [
                    {
                         "name": "stderr",
                         "output_type": "stream",
                         "text": [
                              "Calculating best minimal value for power law fit\n"
                         ]
                    },
                    {
                         "name": "stdout",
                         "output_type": "stream",
                         "text": [
                              "More Powerlaw than Exponential: 0.014483332945893693 [powerlaw]\n"
                         ]
                    }
               ],
               "source": [
                    "powerlaw, p_value = dst.more_powerlaw_than_exponential(degrees)\n",
                    "print(f'More Powerlaw than Exponential: {'{float(p_value)} (Inconclusivo)' if 0.05 < p_value < 0.1 else ('<0.001' if  p_value < 0.001 else float(p_value))} {'[powerlaw]' if powerlaw else ''}')"
               ]
          },
          {
               "cell_type": "markdown",
               "metadata": {
                    "editable": true,
                    "slideshow": {
                         "slide_type": ""
                    },
                    "tags": []
               },
               "source": [
                    "## Distâncias\n",
                    "\n",
                    "Obtendo as distâncias entre cada vérticie da rede por meio da função `get_distances`.\n",
                    "\n",
                    "**OBS.:** Essas funçãoes estão comentadas pois, mesmoq eu a `get_distances` consiga rodar, o kernel tende a crashar sem conseguir rodar o `discribe` ou o `hist`, impossibilitando continuar executando o resto do notebook."
               ]
          },
          {
               "cell_type": "code",
               "execution_count": 11,
               "metadata": {
                    "execution": {
                         "iopub.execute_input": "2024-08-29T13:47:23.753504Z",
                         "iopub.status.busy": "2024-08-29T13:47:23.752735Z",
                         "iopub.status.idle": "2024-08-29T13:47:23.761400Z",
                         "shell.execute_reply": "2024-08-29T13:47:23.759365Z",
                         "shell.execute_reply.started": "2024-08-29T13:47:23.753462Z"
                    }
               },
               "outputs": [],
               "source": [
                    "# distances = g.get_distances()"
               ]
          },
          {
               "cell_type": "code",
               "execution_count": 12,
               "metadata": {
                    "execution": {
                         "iopub.execute_input": "2024-08-29T13:47:23.764997Z",
                         "iopub.status.busy": "2024-08-29T13:47:23.763531Z",
                         "iopub.status.idle": "2024-08-29T13:47:23.771796Z",
                         "shell.execute_reply": "2024-08-29T13:47:23.769582Z",
                         "shell.execute_reply.started": "2024-08-29T13:47:23.764957Z"
                    }
               },
               "outputs": [],
               "source": [
                    "# distances.describe()"
               ]
          },
          {
               "cell_type": "code",
               "execution_count": 13,
               "metadata": {
                    "execution": {
                         "iopub.execute_input": "2024-08-29T13:47:23.775369Z",
                         "iopub.status.busy": "2024-08-29T13:47:23.774334Z",
                         "iopub.status.idle": "2024-08-29T13:47:23.785999Z",
                         "shell.execute_reply": "2024-08-29T13:47:23.783695Z",
                         "shell.execute_reply.started": "2024-08-29T13:47:23.775313Z"
                    }
               },
               "outputs": [],
               "source": [
                    "# distances.hist()"
               ]
          },
          {
               "cell_type": "markdown",
               "metadata": {},
               "source": [
                    "# Métricas da Rede\n",
                    "\n",
                    "## Closeness\n",
                    "Primeiro, calculamos a centralidade _closeness_ com `closeness`."
               ]
          },
          {
               "cell_type": "code",
               "execution_count": 14,
               "metadata": {
                    "execution": {
                         "iopub.execute_input": "2024-08-29T13:47:23.790906Z",
                         "iopub.status.busy": "2024-08-29T13:47:23.788825Z",
                         "iopub.status.idle": "2024-08-29T13:47:37.951365Z",
                         "shell.execute_reply": "2024-08-29T13:47:37.949913Z",
                         "shell.execute_reply.started": "2024-08-29T13:47:23.790849Z"
                    }
               },
               "outputs": [],
               "source": [
                    "c = centrality.closeness(g, harmonic=True)"
               ]
          },
          {
               "cell_type": "markdown",
               "metadata": {},
               "source": [
                    "Depois, adicionamos a propriedade de vértice ao grafo com `add_vp`."
               ]
          },
          {
               "cell_type": "code",
               "execution_count": 15,
               "metadata": {
                    "execution": {
                         "iopub.execute_input": "2024-08-29T13:47:37.955582Z",
                         "iopub.status.busy": "2024-08-29T13:47:37.953272Z",
                         "iopub.status.idle": "2024-08-29T13:47:37.963059Z",
                         "shell.execute_reply": "2024-08-29T13:47:37.961120Z",
                         "shell.execute_reply.started": "2024-08-29T13:47:37.955525Z"
                    }
               },
               "outputs": [],
               "source": [
                    "g.add_vp('closeness', c)"
               ]
          },
          {
               "cell_type": "markdown",
               "metadata": {
                    "execution": {
                         "iopub.execute_input": "2024-08-27T20:43:17.919919Z",
                         "iopub.status.busy": "2024-08-27T20:43:17.919442Z",
                         "iopub.status.idle": "2024-08-27T20:43:17.929572Z",
                         "shell.execute_reply": "2024-08-27T20:43:17.928259Z",
                         "shell.execute_reply.started": "2024-08-27T20:43:17.919897Z"
                    }
               },
               "source": [
                    "Então, salvamos a rede modificada para podermos visualizá-la."
               ]
          },
          {
               "cell_type": "code",
               "execution_count": 16,
               "metadata": {
                    "execution": {
                         "iopub.execute_input": "2024-08-29T13:47:37.965957Z",
                         "iopub.status.busy": "2024-08-29T13:47:37.965417Z",
                         "iopub.status.idle": "2024-08-29T13:47:55.003927Z",
                         "shell.execute_reply": "2024-08-29T13:47:55.001900Z",
                         "shell.execute_reply.started": "2024-08-29T13:47:37.965908Z"
                    }
               },
               "outputs": [],
               "source": [
                    "gte.save(g, 'closeness.net.gz')"
               ]
          },
          {
               "cell_type": "markdown",
               "metadata": {},
               "source": [
                    "Para visualizar a rede, precisamos descomentar as linhas abaixo quando nenhuma outra visualização estiver rodando."
               ]
          },
          {
               "cell_type": "code",
               "execution_count": 17,
               "metadata": {
                    "execution": {
                         "iopub.execute_input": "2024-08-29T13:47:55.010429Z",
                         "iopub.status.busy": "2024-08-29T13:47:55.009366Z",
                         "iopub.status.idle": "2024-08-29T13:47:55.018554Z",
                         "shell.execute_reply": "2024-08-29T13:47:55.016372Z",
                         "shell.execute_reply.started": "2024-08-29T13:47:55.010376Z"
                    }
               },
               "outputs": [],
               "source": [
                    "# rb = netpixi.render('closeness.net.gz')"
               ]
          },
          {
               "cell_type": "code",
               "execution_count": 18,
               "metadata": {
                    "execution": {
                         "iopub.execute_input": "2024-08-29T13:47:55.022469Z",
                         "iopub.status.busy": "2024-08-29T13:47:55.021036Z",
                         "iopub.status.idle": "2024-08-29T13:47:55.064253Z",
                         "shell.execute_reply": "2024-08-29T13:47:55.062148Z",
                         "shell.execute_reply.started": "2024-08-29T13:47:55.022430Z"
                    }
               },
               "outputs": [],
               "source": [
                    "# rb.vertex_scale('closeness', 10, 30)"
               ]
          },
          {
               "cell_type": "markdown",
               "metadata": {},
               "source": [
                    "## Betweeness\n",
                    "Agora, para calcularmos o _betweeness_, utilizamos a função `betweenness`."
               ]
          },
          {
               "cell_type": "code",
               "execution_count": 19,
               "metadata": {
                    "execution": {
                         "iopub.execute_input": "2024-08-29T13:47:55.068051Z",
                         "iopub.status.busy": "2024-08-29T13:47:55.067345Z",
                         "iopub.status.idle": "2024-08-29T13:48:25.304337Z",
                         "shell.execute_reply": "2024-08-29T13:48:25.302917Z",
                         "shell.execute_reply.started": "2024-08-29T13:47:55.068000Z"
                    }
               },
               "outputs": [],
               "source": [
                    "b, _ = centrality.betweenness(g)"
               ]
          },
          {
               "cell_type": "markdown",
               "metadata": {},
               "source": [
                    "Novamente, precisamos adicionar a propriedade de vértice ao grafo com `add_vp`."
               ]
          },
          {
               "cell_type": "code",
               "execution_count": 20,
               "metadata": {
                    "execution": {
                         "iopub.execute_input": "2024-08-29T13:48:25.307069Z",
                         "iopub.status.busy": "2024-08-29T13:48:25.306634Z",
                         "iopub.status.idle": "2024-08-29T13:48:25.313339Z",
                         "shell.execute_reply": "2024-08-29T13:48:25.311825Z",
                         "shell.execute_reply.started": "2024-08-29T13:48:25.307035Z"
                    }
               },
               "outputs": [],
               "source": [
                    "g.add_vp('betweenness', b)"
               ]
          },
          {
               "cell_type": "markdown",
               "metadata": {},
               "source": [
                    "Salvando a rede:"
               ]
          },
          {
               "cell_type": "code",
               "execution_count": 21,
               "metadata": {
                    "execution": {
                         "iopub.execute_input": "2024-08-29T13:48:25.320851Z",
                         "iopub.status.busy": "2024-08-29T13:48:25.320302Z",
                         "iopub.status.idle": "2024-08-29T13:48:43.400290Z",
                         "shell.execute_reply": "2024-08-29T13:48:43.398291Z",
                         "shell.execute_reply.started": "2024-08-29T13:48:25.320812Z"
                    }
               },
               "outputs": [],
               "source": [
                    "gte.save(g, 'betweenness.net.gz')"
               ]
          },
          {
               "cell_type": "markdown",
               "metadata": {
                    "execution": {
                         "iopub.execute_input": "2024-08-27T20:58:23.489747Z",
                         "iopub.status.busy": "2024-08-27T20:58:23.488950Z",
                         "iopub.status.idle": "2024-08-27T20:58:23.509659Z",
                         "shell.execute_reply": "2024-08-27T20:58:23.507663Z",
                         "shell.execute_reply.started": "2024-08-27T20:58:23.489698Z"
                    }
               },
               "source": [
                    "E por fim, executandos o `render`."
               ]
          },
          {
               "cell_type": "code",
               "execution_count": 22,
               "metadata": {
                    "execution": {
                         "iopub.execute_input": "2024-08-29T13:48:43.403789Z",
                         "iopub.status.busy": "2024-08-29T13:48:43.403172Z",
                         "iopub.status.idle": "2024-08-29T13:48:43.412248Z",
                         "shell.execute_reply": "2024-08-29T13:48:43.409976Z",
                         "shell.execute_reply.started": "2024-08-29T13:48:43.403742Z"
                    }
               },
               "outputs": [],
               "source": [
                    "# rb = netpixi.render('betweenness.net.gz', )"
               ]
          },
          {
               "cell_type": "code",
               "execution_count": 23,
               "metadata": {
                    "execution": {
                         "iopub.execute_input": "2024-08-29T13:48:43.415172Z",
                         "iopub.status.busy": "2024-08-29T13:48:43.414594Z",
                         "iopub.status.idle": "2024-08-29T13:48:43.427373Z",
                         "shell.execute_reply": "2024-08-29T13:48:43.425194Z",
                         "shell.execute_reply.started": "2024-08-29T13:48:43.415128Z"
                    }
               },
               "outputs": [],
               "source": [
                    "# rb.vertex_scale('betweenness', 10, 30)"
               ]
          },
          {
               "cell_type": "markdown",
               "metadata": {},
               "source": [
                    "## Degrees\n",
                    "Para calcular a centralidade _degree_, utilizamos a função `total_degree`."
               ]
          },
          {
               "cell_type": "code",
               "execution_count": 24,
               "metadata": {
                    "execution": {
                         "iopub.execute_input": "2024-08-29T13:48:43.431531Z",
                         "iopub.status.busy": "2024-08-29T13:48:43.430319Z",
                         "iopub.status.idle": "2024-08-29T13:48:43.443764Z",
                         "shell.execute_reply": "2024-08-29T13:48:43.441539Z",
                         "shell.execute_reply.started": "2024-08-29T13:48:43.431481Z"
                    }
               },
               "outputs": [],
               "source": [
                    "d = gte.total_degree(g)"
               ]
          },
          {
               "cell_type": "markdown",
               "metadata": {},
               "source": [
                    "Adicionamos a propriedade ao grafo."
               ]
          },
          {
               "cell_type": "code",
               "execution_count": 25,
               "metadata": {
                    "execution": {
                         "iopub.execute_input": "2024-08-29T13:48:43.446696Z",
                         "iopub.status.busy": "2024-08-29T13:48:43.446119Z",
                         "iopub.status.idle": "2024-08-29T13:48:43.455571Z",
                         "shell.execute_reply": "2024-08-29T13:48:43.453489Z",
                         "shell.execute_reply.started": "2024-08-29T13:48:43.446644Z"
                    }
               },
               "outputs": [],
               "source": [
                    "g.add_vp('degree', d)"
               ]
          },
          {
               "cell_type": "markdown",
               "metadata": {},
               "source": [
                    "Salvamos a rede:"
               ]
          },
          {
               "cell_type": "code",
               "execution_count": 26,
               "metadata": {
                    "execution": {
                         "iopub.execute_input": "2024-08-29T13:48:43.461242Z",
                         "iopub.status.busy": "2024-08-29T13:48:43.459097Z",
                         "iopub.status.idle": "2024-08-29T13:49:01.275855Z",
                         "shell.execute_reply": "2024-08-29T13:49:01.274227Z",
                         "shell.execute_reply.started": "2024-08-29T13:48:43.461145Z"
                    }
               },
               "outputs": [],
               "source": [
                    "gte.save(g, 'degree.net.gz')"
               ]
          },
          {
               "cell_type": "markdown",
               "metadata": {},
               "source": [
                    "E executamos a visualização com `render`, ajustando a escala dos vértices com `vertex_scale`."
               ]
          },
          {
               "cell_type": "code",
               "execution_count": 27,
               "metadata": {
                    "execution": {
                         "iopub.execute_input": "2024-08-29T13:49:01.278704Z",
                         "iopub.status.busy": "2024-08-29T13:49:01.278043Z",
                         "iopub.status.idle": "2024-08-29T13:49:01.286243Z",
                         "shell.execute_reply": "2024-08-29T13:49:01.284556Z",
                         "shell.execute_reply.started": "2024-08-29T13:49:01.278656Z"
                    }
               },
               "outputs": [],
               "source": [
                    "# rd = netpixi.render('degree.net.gz')"
               ]
          },
          {
               "cell_type": "code",
               "execution_count": 28,
               "metadata": {
                    "execution": {
                         "iopub.execute_input": "2024-08-29T13:49:01.288913Z",
                         "iopub.status.busy": "2024-08-29T13:49:01.288331Z",
                         "iopub.status.idle": "2024-08-29T13:49:01.330254Z",
                         "shell.execute_reply": "2024-08-29T13:49:01.328408Z",
                         "shell.execute_reply.started": "2024-08-29T13:49:01.288858Z"
                    }
               },
               "outputs": [],
               "source": [
                    "# rd.vertex_scale('degree', 10, 30)"
               ]
          },
          {
               "cell_type": "markdown",
               "metadata": {},
               "source": [
                    "## Correlações\n",
                    "Para calcular as correlações utilizamos a função `pearsonr` com combinaçãos dos valores de `closeness`, `betweeness` e `degree`, obtendo um coeficiente e um p-valor, este que será convertido em uma escala de asteriscos."
               ]
          },
          {
               "cell_type": "code",
               "execution_count": 32,
               "metadata": {
                    "execution": {
                         "iopub.execute_input": "2024-08-29T13:57:15.509948Z",
                         "iopub.status.busy": "2024-08-29T13:57:15.509005Z",
                         "iopub.status.idle": "2024-08-29T13:57:15.518455Z",
                         "shell.execute_reply": "2024-08-29T13:57:15.516545Z",
                         "shell.execute_reply.started": "2024-08-29T13:57:15.509906Z"
                    }
               },
               "outputs": [],
               "source": [
                    "def pearsonr(x, y, ndigits=10):\n",
                    "    statistic, p_value = scipy.stats.pearsonr(x, y)\n",
                    "    \n",
                    "    asterisk = ''\n",
                    "    statistic = round(statistic, ndigits)\n",
                    "    \n",
                    "    if statistic == 1: \n",
                    "        asterisk = ' (óbvio)'\n",
                    "    elif p_value < 0.01: \n",
                    "        asterisk = ' ***'\n",
                    "    elif p_value < 0.05: \n",
                    "        asterisk = ' **'\n",
                    "    elif p_value < 0.1: \n",
                    "        asterisk = ' *'\n",
                    "        \n",
                    "    return f'{statistic} {asterisk}'"
               ]
          },
          {
               "cell_type": "code",
               "execution_count": 33,
               "metadata": {
                    "execution": {
                         "iopub.execute_input": "2024-08-29T13:57:17.964038Z",
                         "iopub.status.busy": "2024-08-29T13:57:17.963302Z",
                         "iopub.status.idle": "2024-08-29T13:57:18.710336Z",
                         "shell.execute_reply": "2024-08-29T13:57:18.708566Z",
                         "shell.execute_reply.started": "2024-08-29T13:57:17.963997Z"
                    }
               },
               "outputs": [
                    {
                         "data": {
                              "text/html": [
                                   "<div>\n",
                                   "<style scoped>\n",
                                   "    .dataframe tbody tr th:only-of-type {\n",
                                   "        vertical-align: middle;\n",
                                   "    }\n",
                                   "\n",
                                   "    .dataframe tbody tr th {\n",
                                   "        vertical-align: top;\n",
                                   "    }\n",
                                   "\n",
                                   "    .dataframe thead th {\n",
                                   "        text-align: right;\n",
                                   "    }\n",
                                   "</style>\n",
                                   "<table border=\"1\" class=\"dataframe\">\n",
                                   "  <thead>\n",
                                   "    <tr style=\"text-align: right;\">\n",
                                   "      <th></th>\n",
                                   "      <th>0</th>\n",
                                   "      <th>1</th>\n",
                                   "      <th>2</th>\n",
                                   "    </tr>\n",
                                   "  </thead>\n",
                                   "  <tbody>\n",
                                   "    <tr>\n",
                                   "      <th>0</th>\n",
                                   "      <td>1.0  (óbvio)</td>\n",
                                   "      <td>0.4037739317  ***</td>\n",
                                   "      <td>0.700593892  ***</td>\n",
                                   "    </tr>\n",
                                   "    <tr>\n",
                                   "      <th>1</th>\n",
                                   "      <td>0.4037739317  ***</td>\n",
                                   "      <td>1.0  (óbvio)</td>\n",
                                   "      <td>0.7024434114  ***</td>\n",
                                   "    </tr>\n",
                                   "    <tr>\n",
                                   "      <th>2</th>\n",
                                   "      <td>0.700593892  ***</td>\n",
                                   "      <td>0.7024434114  ***</td>\n",
                                   "      <td>1.0  (óbvio)</td>\n",
                                   "    </tr>\n",
                                   "  </tbody>\n",
                                   "</table>\n",
                                   "</div>"
                              ],
                              "text/plain": [
                                   "                   0                  1                  2\n",
                                   "0       1.0  (óbvio)  0.4037739317  ***   0.700593892  ***\n",
                                   "1  0.4037739317  ***       1.0  (óbvio)  0.7024434114  ***\n",
                                   "2   0.700593892  ***  0.7024434114  ***       1.0  (óbvio)"
                              ]
                         },
                         "execution_count": 33,
                         "metadata": {},
                         "output_type": "execute_result"
                    }
               ],
               "source": [
                    "data = [c, b, d]\n",
                    "result = pd.DataFrame([ [ pearsonr(j, i) for j in data ] for i in data ])\n",
                    "result"
               ]
          }
     ],
     "metadata": {
          "kernelspec": {
               "display_name": "Python 3 (ipykernel)",
               "language": "python",
               "name": "python3"
          },
          "language_info": {
               "codemirror_mode": {
                    "name": "ipython",
                    "version": 3
               },
               "file_extension": ".py",
               "mimetype": "text/x-python",
               "name": "python",
               "nbconvert_exporter": "python",
               "pygments_lexer": "ipython3",
               "version": "3.12.4"
          }
     },
     "nbformat": 4,
     "nbformat_minor": 4
}