{
 "cells": [
  {
   "cell_type": "code",
   "execution_count": 1,
   "metadata": {
    "execution": {
     "iopub.execute_input": "2024-08-28T13:36:04.879253Z",
     "iopub.status.busy": "2024-08-28T13:36:04.879000Z",
     "iopub.status.idle": "2024-08-28T13:36:08.188124Z",
     "shell.execute_reply": "2024-08-28T13:36:08.187278Z",
     "shell.execute_reply.started": "2024-08-28T13:36:04.879233Z"
    }
   },
   "outputs": [
    {
     "data": {
      "text/html": [
       "\n",
       "    <script src=\"/static/.hidden/netpixi.min.js\"></script>\n"
      ],
      "text/plain": [
       "<IPython.core.display.HTML object>"
      ]
     },
     "metadata": {},
     "output_type": "display_data"
    }
   ],
   "source": [
    "import netpixi\n",
    "from graph_tool import draw\n",
    "import graph_tool_extras as gte\n",
    "\n",
    "import distribution as dst\n",
    "\n",
    "from graph_tool import centrality"
   ]
  },
  {
   "cell_type": "code",
   "execution_count": 2,
   "metadata": {
    "execution": {
     "iopub.execute_input": "2024-08-28T13:36:08.189288Z",
     "iopub.status.busy": "2024-08-28T13:36:08.188918Z",
     "iopub.status.idle": "2024-08-28T13:36:11.055076Z",
     "shell.execute_reply": "2024-08-28T13:36:11.054418Z",
     "shell.execute_reply.started": "2024-08-28T13:36:08.189272Z"
    }
   },
   "outputs": [],
   "source": [
    "g = gte.load('./rede.net.gz')"
   ]
  },
  {
   "cell_type": "code",
   "execution_count": 3,
   "metadata": {
    "execution": {
     "iopub.execute_input": "2024-08-28T13:36:11.056296Z",
     "iopub.status.busy": "2024-08-28T13:36:11.056114Z",
     "iopub.status.idle": "2024-08-28T13:36:11.060430Z",
     "shell.execute_reply": "2024-08-28T13:36:11.059450Z",
     "shell.execute_reply.started": "2024-08-28T13:36:11.056281Z"
    }
   },
   "outputs": [
    {
     "name": "stdout",
     "output_type": "stream",
     "text": [
      "Número de Verticies: 17903\n",
      "Número de Arestas: 197031\n"
     ]
    }
   ],
   "source": [
    "print(f'Número de Verticies: {g.num_vertices()}')\n",
    "print(f'Número de Arestas: {g.num_edges()}')"
   ]
  },
  {
   "cell_type": "code",
   "execution_count": 4,
   "metadata": {
    "execution": {
     "iopub.execute_input": "2024-08-28T13:36:12.857693Z",
     "iopub.status.busy": "2024-08-28T13:36:12.857367Z",
     "iopub.status.idle": "2024-08-28T13:36:12.862386Z",
     "shell.execute_reply": "2024-08-28T13:36:12.861604Z",
     "shell.execute_reply.started": "2024-08-28T13:36:12.857675Z"
    }
   },
   "outputs": [
    {
     "name": "stdout",
     "output_type": "stream",
     "text": [
      "Densidade: 0.122952%\n"
     ]
    }
   ],
   "source": [
    "print(f'Densidade: {g.density()}%')"
   ]
  },
  {
   "cell_type": "code",
   "execution_count": 5,
   "metadata": {
    "execution": {
     "iopub.execute_input": "2024-08-28T13:36:15.610753Z",
     "iopub.status.busy": "2024-08-28T13:36:15.610432Z",
     "iopub.status.idle": "2024-08-28T13:36:15.624903Z",
     "shell.execute_reply": "2024-08-28T13:36:15.624255Z",
     "shell.execute_reply.started": "2024-08-28T13:36:15.610727Z"
    }
   },
   "outputs": [
    {
     "name": "stdout",
     "output_type": "stream",
     "text": [
      "Transitividade: 31.777791%\n"
     ]
    }
   ],
   "source": [
    "print(f'Transitividade: {g.transitivity()}%')"
   ]
  },
  {
   "cell_type": "code",
   "execution_count": 6,
   "metadata": {
    "execution": {
     "iopub.execute_input": "2024-08-28T13:36:18.484138Z",
     "iopub.status.busy": "2024-08-28T13:36:18.483875Z",
     "iopub.status.idle": "2024-08-28T13:36:18.507418Z",
     "shell.execute_reply": "2024-08-28T13:36:18.506748Z",
     "shell.execute_reply.started": "2024-08-28T13:36:18.484120Z"
    }
   },
   "outputs": [
    {
     "data": {
      "text/plain": [
       "count    17903.000000\n",
       "mean        22.010948\n",
       "std         31.016923\n",
       "min          1.000000\n",
       "25%          4.000000\n",
       "50%         10.000000\n",
       "75%         28.000000\n",
       "max        504.000000\n",
       "dtype: float64"
      ]
     },
     "execution_count": 6,
     "metadata": {},
     "output_type": "execute_result"
    }
   ],
   "source": [
    "degrees = g.get_total_degrees()\n",
    "degrees.describe()"
   ]
  },
  {
   "cell_type": "code",
   "execution_count": 7,
   "metadata": {
    "execution": {
     "iopub.execute_input": "2024-08-28T13:36:19.900813Z",
     "iopub.status.busy": "2024-08-28T13:36:19.900526Z",
     "iopub.status.idle": "2024-08-28T13:36:20.035591Z",
     "shell.execute_reply": "2024-08-28T13:36:20.034990Z",
     "shell.execute_reply.started": "2024-08-28T13:36:19.900794Z"
    }
   },
   "outputs": [
    {
     "data": {
      "image/png": "[encoded data removed]",
      "text/plain": [
       "<Figure size 640x480 with 1 Axes>"
      ]
     },
     "metadata": {},
     "output_type": "display_data"
    }
   ],
   "source": [
    "degrees.hist(bins=50, edgecolor='white', linewidth=0.5);"
   ]
  },
  {
   "cell_type": "code",
   "execution_count": 8,
   "metadata": {
    "execution": {
     "iopub.execute_input": "2024-08-28T13:36:21.316448Z",
     "iopub.status.busy": "2024-08-28T13:36:21.316185Z",
     "iopub.status.idle": "2024-08-28T13:36:21.323966Z",
     "shell.execute_reply": "2024-08-28T13:36:21.323303Z",
     "shell.execute_reply.started": "2024-08-28T13:36:21.316430Z"
    }
   },
   "outputs": [
    {
     "name": "stdout",
     "output_type": "stream",
     "text": [
      "Not Normal: <0.001\n"
     ]
    }
   ],
   "source": [
    "p_value = dst.not_normal(degrees)\n",
    "print(f'Not Normal: {'<0.001' if p_value < 0.001 else float(p_value)}')"
   ]
  },
  {
   "cell_type": "code",
   "execution_count": 9,
   "metadata": {
    "execution": {
     "iopub.execute_input": "2024-08-28T13:36:21.706390Z",
     "iopub.status.busy": "2024-08-28T13:36:21.705872Z",
     "iopub.status.idle": "2024-08-28T13:36:21.806628Z",
     "shell.execute_reply": "2024-08-28T13:36:21.805900Z",
     "shell.execute_reply.started": "2024-08-28T13:36:21.706363Z"
    }
   },
   "outputs": [
    {
     "name": "stdout",
     "output_type": "stream",
     "text": [
      "More Powerlaw than Lognormal: 0.868075646237589 \n"
     ]
    },
    {
     "name": "stderr",
     "output_type": "stream",
     "text": [
      "Calculating best minimal value for power law fit\n",
      "/opt/miniconda/envs/jupyterlab/lib/python3.12/site-packages/powerlaw.py:699: RuntimeWarning: invalid value encountered in divide\n",
      "  (CDF_diff**2) /\n"
     ]
    }
   ],
   "source": [
    "powerlaw, p_value = dst.more_powerlaw_than_lognormal(degrees)\n",
    "print(f'More Powerlaw than Lognormal: {'{float(p_value)} (Inconclusivo)' if 0.05 < p_value < 0.1 else ('<0.001' if  p_value < 0.001 else float(p_value))} {'[powerlaw]' if powerlaw else ''}')"
   ]
  },
  {
   "cell_type": "code",
   "execution_count": 10,
   "metadata": {
    "execution": {
     "iopub.execute_input": "2024-08-28T13:36:22.085437Z",
     "iopub.status.busy": "2024-08-28T13:36:22.084766Z",
     "iopub.status.idle": "2024-08-28T13:36:22.113211Z",
     "shell.execute_reply": "2024-08-28T13:36:22.112208Z",
     "shell.execute_reply.started": "2024-08-28T13:36:22.085414Z"
    }
   },
   "outputs": [
    {
     "name": "stdout",
     "output_type": "stream",
     "text": [
      "More Powerlaw than Exponential: 0.014483332945893693 [powerlaw]\n"
     ]
    },
    {
     "name": "stderr",
     "output_type": "stream",
     "text": [
      "Calculating best minimal value for power law fit\n"
     ]
    }
   ],
   "source": [
    "powerlaw, p_value = dst.more_powerlaw_than_exponential(degrees)\n",
    "print(f'More Powerlaw than Exponential: {'{float(p_value)} (Inconclusivo)' if 0.05 < p_value < 0.1 else ('<0.001' if  p_value < 0.001 else float(p_value))} {'[powerlaw]' if powerlaw else ''}')"
   ]
  },
  {
   "cell_type": "code",
   "execution_count": 11,
   "metadata": {
    "execution": {
     "iopub.execute_input": "2024-08-28T13:36:22.962685Z",
     "iopub.status.busy": "2024-08-28T13:36:22.962409Z",
     "iopub.status.idle": "2024-08-28T13:37:29.339757Z",
     "shell.execute_reply": "2024-08-28T13:37:29.337625Z",
     "shell.execute_reply.started": "2024-08-28T13:36:22.962668Z"
    }
   },
   "outputs": [],
   "source": [
    "distances = g.get_distances()\n"
   ]
  },
  {
   "cell_type": "code",
   "execution_count": null,
   "metadata": {
    "execution": {
     "execution_failed": "2024-08-28T15:10:22.320Z",
     "iopub.execute_input": "2024-08-28T15:09:21.849361Z",
     "iopub.status.busy": "2024-08-28T15:09:21.848756Z"
    }
   },
   "outputs": [],
   "source": [
    "distances.describe()\n"
   ]
  },
  {
   "cell_type": "code",
   "execution_count": 12,
   "metadata": {
    "execution": {
     "iopub.execute_input": "2024-08-28T13:37:34.930746Z",
     "iopub.status.busy": "2024-08-28T13:37:34.930153Z",
     "iopub.status.idle": "2024-08-28T13:37:34.937166Z",
     "shell.execute_reply": "2024-08-28T13:37:34.936468Z",
     "shell.execute_reply.started": "2024-08-28T13:37:34.930717Z"
    }
   },
   "outputs": [],
   "source": [
    "#distances.hist()"
   ]
  },
  {
   "cell_type": "code",
   "execution_count": 13,
   "metadata": {
    "execution": {
     "iopub.execute_input": "2024-08-28T13:37:35.680390Z",
     "iopub.status.busy": "2024-08-28T13:37:35.680138Z",
     "iopub.status.idle": "2024-08-28T13:37:35.684290Z",
     "shell.execute_reply": "2024-08-28T13:37:35.683696Z",
     "shell.execute_reply.started": "2024-08-28T13:37:35.680372Z"
    }
   },
   "outputs": [],
   "source": [
    "#g.closeness()"
   ]
  }
 ],
 "metadata": {
  "kernelspec": {
   "display_name": "Python 3 (ipykernel)",
   "language": "python",
   "name": "python3"
  },
  "language_info": {
   "codemirror_mode": {
    "name": "ipython",
    "version": 3
   },
   "file_extension": ".py",
   "mimetype": "text/x-python",
   "name": "python",
   "nbconvert_exporter": "python",
   "pygments_lexer": "ipython3",
   "version": "3.12.4"
  }
 },
 "nbformat": 4,
 "nbformat_minor": 4
}
