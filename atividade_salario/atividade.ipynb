{
 "cells": [
  {
   "cell_type": "code",
   "execution_count": null,
   "id": "84502ef5-2660-435a-9a82-82781f756a29",
   "metadata": {},
   "outputs": [],
   "source": [
    "import pandas as pd\n",
    "import regression as reg\n",
    "import matplotlib.pyplot as plt"
   ]
  },
  {
   "cell_type": "code",
   "execution_count": null,
   "id": "928d8be5-0e00-44db-aa10-be760f68d2a2",
   "metadata": {
    "scrolled": true
   },
   "outputs": [],
   "source": [
    "data = pd.read_csv(\"atividade.csv\")\n",
    "data.head()"
   ]
  },
  {
   "cell_type": "markdown",
   "id": "b45fe563-cbbc-4a82-9bde-3dbbf5984df6",
   "metadata": {},
   "source": [
    "Realizando a distribuição do salário por média, observa-se a formação de grupos relativos as áreas. Por isso, conclui-se que a área é uma variavel importante na definição da renda de um indivíduo."
   ]
  },
  {
   "cell_type": "code",
   "execution_count": null,
   "id": "60faf03c-9466-42a6-96cb-578629fd2379",
   "metadata": {},
   "outputs": [],
   "source": [
    "humanas = data.loc[(data['area'] == 'humanas')]\n",
    "exatas = data.loc[(data['area'] == 'exatas')]\n",
    "biologicas = data.loc[(data['area'] == 'biológicas')]"
   ]
  },
  {
   "cell_type": "code",
   "execution_count": null,
   "id": "91b25e57-6869-4e74-a281-dc80258555dd",
   "metadata": {},
   "outputs": [],
   "source": [
    "plt.plot(humanas['media'], humanas['salario'], 'ro', label='humanas')\n",
    "plt.plot(exatas['media'], exatas['salario'], 'bo', label='exatas')\n",
    "plt.plot(biologicas['media'], biologicas['salario'], 'go', label='biologicas')\n",
    "plt.xlabel('media')\n",
    "plt.ylabel('salario')\n",
    "plt.legend()\n",
    "plt.show()"
   ]
  },
  {
   "cell_type": "markdown",
   "id": "3be068a4-2cdf-4df1-8686-62c8e168dbee",
   "metadata": {},
   "source": [
    "Transformando a coluna de área em uma one-hot encoding e descartando a coluna de `biológicas` é possível fazer uma regrssão linear utilizando a média e a área para estimar o salário do indivíduo "
   ]
  },
  {
   "cell_type": "code",
   "execution_count": null,
   "id": "47b6d87d-0ddf-46e7-9dc2-14f3edaba95a",
   "metadata": {},
   "outputs": [],
   "source": [
    "one_hot = pd.get_dummies(data['area'], dtype=int)\n",
    "data['humanas'] = one_hot['humanas']\n",
    "data['exatas'] = one_hot['exatas']\n",
    "data.head()"
   ]
  },
  {
   "cell_type": "code",
   "execution_count": null,
   "id": "aaca68a1-206e-4170-a38a-6dc4e135dcaa",
   "metadata": {},
   "outputs": [],
   "source": [
    "result = reg.linear(data=data, formula='salario ~ media + humanas + exatas')"
   ]
  },
  {
   "cell_type": "markdown",
   "id": "40d1339b-f6e4-4909-bc0c-34e7e1908756",
   "metadata": {},
   "source": [
    "O `p-value` de todas as variáveis independentes é próximo de zero, o que significa que todas são relevantes. Além disso, o `R-squared` de **94%** indica que essas variáveis são suficientes para explicar bem a variável de interesse."
   ]
  },
  {
   "cell_type": "code",
   "execution_count": null,
   "id": "42b0ea4d-a154-4efd-b5d9-6349ada2fed5",
   "metadata": {},
   "outputs": [],
   "source": [
    "result.summary()"
   ]
  },
  {
   "cell_type": "markdown",
   "id": "707cc87f-f813-4d4e-8891-83aca66d57ba",
   "metadata": {},
   "source": [
    "Por fim, observando os residuos, é possivel notar que eles seguem uma distribuição normal em torno de 0 e que os valores filtrados não possuem um padrão aparente o que indica que o modelo é coerente com as premissas adotadas."
   ]
  },
  {
   "cell_type": "code",
   "execution_count": null,
   "id": "eff94ae2-a330-40fa-8866-27040cf6363c",
   "metadata": {},
   "outputs": [],
   "source": [
    "result.plot_residuals()"
   ]
  },
  {
   "cell_type": "markdown",
   "id": "e4b7f30d-ff90-4f38-a649-970ce072cda7",
   "metadata": {},
   "source": [
    "Com base nas análises acima, o modelo linear que leva em consideração a média de um aluno em uma respectiva área do conhecimento é suficientemente bom para estimar seu salário."
   ]
  }
 ],
 "metadata": {
  "kernelspec": {
   "display_name": "Python 3 (ipykernel)",
   "language": "python",
   "name": "python3"
  },
  "language_info": {
   "codemirror_mode": {
    "name": "ipython",
    "version": 3
   },
   "file_extension": ".py",
   "mimetype": "text/x-python",
   "name": "python",
   "nbconvert_exporter": "python",
   "pygments_lexer": "ipython3",
   "version": "3.12.4"
  }
 },
 "nbformat": 4,
 "nbformat_minor": 5
}
