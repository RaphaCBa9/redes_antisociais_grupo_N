{
 "cells": [
  {
   "cell_type": "code",
   "execution_count": 2,
   "id": "7b057935-dd2f-44e1-9fa9-2f5bf5e308e2",
   "metadata": {
    "execution": {
     "iopub.execute_input": "2024-08-09T18:22:12.124697Z",
     "iopub.status.busy": "2024-08-09T18:22:12.123932Z",
     "iopub.status.idle": "2024-08-09T18:22:14.421681Z",
     "shell.execute_reply": "2024-08-09T18:22:14.421279Z",
     "shell.execute_reply.started": "2024-08-09T18:22:12.124643Z"
    }
   },
   "outputs": [],
   "source": [
    "import netpixi\n",
    "from graph_tool import draw\n",
    "import graph_tool_extras as gte"
   ]
  },
  {
   "cell_type": "code",
   "execution_count": null,
   "id": "2fe1b5b4-622b-4df1-9410-017d43e7b980",
   "metadata": {},
   "outputs": [],
   "source": []
  }
 ],
 "metadata": {
  "kernelspec": {
   "display_name": "Python 3 (ipykernel)",
   "language": "python",
   "name": "python3"
  },
  "language_info": {
   "codemirror_mode": {
    "name": "ipython",
    "version": 3
   },
   "file_extension": ".py",
   "mimetype": "text/x-python",
   "name": "python",
   "nbconvert_exporter": "python",
   "pygments_lexer": "ipython3",
   "version": "3.12.4"
  }
 },
 "nbformat": 4,
 "nbformat_minor": 5
}
