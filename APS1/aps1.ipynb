{
 "cells": [
  {
   "cell_type": "code",
   "execution_count": 1,
   "metadata": {
    "execution": {
     "iopub.execute_input": "2024-08-12T13:56:23.008351Z",
     "iopub.status.busy": "2024-08-12T13:56:23.007937Z",
     "iopub.status.idle": "2024-08-12T13:56:25.904764Z",
     "shell.execute_reply": "2024-08-12T13:56:25.904060Z",
     "shell.execute_reply.started": "2024-08-12T13:56:23.008318Z"
    }
   },
   "outputs": [
    {
     "data": {
      "text/html": [
       "\n",
       "    <script src=\"/static/.hidden/netpixi.min.js\"></script>\n"
      ],
      "text/plain": [
       "<IPython.core.display.HTML object>"
      ]
     },
     "metadata": {},
     "output_type": "display_data"
    }
   ],
   "source": [
    "import netpixi\n",
    "from graph_tool import draw\n",
    "import graph_tool_extras as gte"
   ]
  },
  {
   "cell_type": "code",
   "execution_count": 2,
   "metadata": {
    "execution": {
     "iopub.execute_input": "2024-08-12T13:56:25.905820Z",
     "iopub.status.busy": "2024-08-12T13:56:25.905505Z",
     "iopub.status.idle": "2024-08-12T13:56:25.909599Z",
     "shell.execute_reply": "2024-08-12T13:56:25.908768Z",
     "shell.execute_reply.started": "2024-08-12T13:56:25.905803Z"
    }
   },
   "outputs": [],
   "source": [
    "filename = 'CA-AstroPh'"
   ]
  },
  {
   "cell_type": "code",
   "execution_count": 3,
   "metadata": {
    "execution": {
     "iopub.execute_input": "2024-08-12T13:56:25.910679Z",
     "iopub.status.busy": "2024-08-12T13:56:25.910459Z",
     "iopub.status.idle": "2024-08-12T13:56:25.915222Z",
     "shell.execute_reply": "2024-08-12T13:56:25.914334Z",
     "shell.execute_reply.started": "2024-08-12T13:56:25.910658Z"
    }
   },
   "outputs": [],
   "source": [
    "def get_or_add_vertex(g, id):\n",
    "    v = g.vertex_by_id(id)\n",
    "    if v is None:\n",
    "        v = g.add_vertex_by_id(id)\n",
    "    return v\n",
    "\n",
    "def get_or_add_edge(g, writer, quoted):\n",
    "    e = g.edge_by_ids(writer, quoted)\n",
    "    if e is None:\n",
    "        e = g.add_edge_by_ids(writer, quoted)\n",
    "    return e"
   ]
  },
  {
   "cell_type": "code",
   "execution_count": 4,
   "metadata": {
    "execution": {
     "iopub.execute_input": "2024-08-12T13:56:25.916400Z",
     "iopub.status.busy": "2024-08-12T13:56:25.916164Z",
     "iopub.status.idle": "2024-08-12T13:56:35.334704Z",
     "shell.execute_reply": "2024-08-12T13:56:35.334045Z",
     "shell.execute_reply.started": "2024-08-12T13:56:25.916381Z"
    }
   },
   "outputs": [],
   "source": [
    "with open(f'./{filename}.txt') as file:\n",
    "    g = gte.Graph(directed=False)\n",
    "\n",
    "    next(file)\n",
    "    next(file)\n",
    "    next(file)\n",
    "    next(file)\n",
    "\n",
    "    for line in file:\n",
    "\n",
    "        writer, quoted = [int(id) for id in line.strip().split('\\t')]\n",
    " \n",
    "        v_writer = get_or_add_vertex(g, writer)\n",
    "        v_quoted = get_or_add_vertex(g, quoted)\n",
    "\n",
    "        e = get_or_add_edge(g, writer, quoted)\n",
    "        "
   ]
  },
  {
   "cell_type": "code",
   "execution_count": 5,
   "metadata": {
    "execution": {
     "iopub.execute_input": "2024-08-12T13:56:35.336056Z",
     "iopub.status.busy": "2024-08-12T13:56:35.335792Z",
     "iopub.status.idle": "2024-08-12T13:57:13.755026Z",
     "shell.execute_reply": "2024-08-12T13:57:13.754344Z",
     "shell.execute_reply.started": "2024-08-12T13:56:35.336039Z"
    }
   },
   "outputs": [],
   "source": [
    "layout = draw.sfdp_layout(g)"
   ]
  },
  {
   "cell_type": "code",
   "execution_count": 6,
   "metadata": {
    "execution": {
     "iopub.execute_input": "2024-08-12T13:57:13.757262Z",
     "iopub.status.busy": "2024-08-12T13:57:13.756885Z",
     "iopub.status.idle": "2024-08-12T13:57:17.065287Z",
     "shell.execute_reply": "2024-08-12T13:57:17.064568Z",
     "shell.execute_reply.started": "2024-08-12T13:57:13.757242Z"
    }
   },
   "outputs": [],
   "source": [
    "gte.move(g, layout)"
   ]
  },
  {
   "cell_type": "code",
   "execution_count": 7,
   "metadata": {
    "execution": {
     "iopub.execute_input": "2024-08-12T13:57:17.066166Z",
     "iopub.status.busy": "2024-08-12T13:57:17.065892Z",
     "iopub.status.idle": "2024-08-12T13:57:17.146504Z",
     "shell.execute_reply": "2024-08-12T13:57:17.145549Z",
     "shell.execute_reply.started": "2024-08-12T13:57:17.066148Z"
    }
   },
   "outputs": [],
   "source": [
    "g = gte.clean(g)"
   ]
  },
  {
   "cell_type": "code",
   "execution_count": 9,
   "metadata": {
    "execution": {
     "iopub.execute_input": "2024-08-12T13:58:07.629664Z",
     "iopub.status.busy": "2024-08-12T13:58:07.628740Z",
     "iopub.status.idle": "2024-08-12T13:58:19.425097Z",
     "shell.execute_reply": "2024-08-12T13:58:19.424459Z",
     "shell.execute_reply.started": "2024-08-12T13:58:07.629637Z"
    }
   },
   "outputs": [],
   "source": [
    "gte.save(g, f'{filename}.net.gz')"
   ]
  },
  {
   "cell_type": "code",
   "execution_count": 10,
   "metadata": {
    "execution": {
     "iopub.execute_input": "2024-08-12T13:58:19.426493Z",
     "iopub.status.busy": "2024-08-12T13:58:19.426247Z",
     "iopub.status.idle": "2024-08-12T13:58:19.444240Z",
     "shell.execute_reply": "2024-08-12T13:58:19.443425Z",
     "shell.execute_reply.started": "2024-08-12T13:58:19.426476Z"
    },
    "scrolled": true
   },
   "outputs": [
    {
     "data": {
      "text/html": [
       "\n",
       "        <div id=\"gmbNX6jgHCFyzXXBq4Fgoa\"></div>\n",
       "        <script>netpixi.render('gmbNX6jgHCFyzXXBq4Fgoa', '/static/__shared__/redes_antisociais_grupo_N/APS1/./CA-AstroPh.net.gz', 1.7777777777777777, true, true, false, true);</script>\n",
       "    "
      ],
      "text/plain": [
       "<IPython.core.display.HTML object>"
      ]
     },
     "metadata": {},
     "output_type": "display_data"
    }
   ],
   "source": [
    "r = netpixi.render(f'./{filename}.net.gz', infinite=True)"
   ]
  },
  {
   "cell_type": "code",
   "execution_count": 15,
   "metadata": {
    "execution": {
     "iopub.execute_input": "2024-08-12T13:59:32.607154Z",
     "iopub.status.busy": "2024-08-12T13:59:32.606515Z",
     "iopub.status.idle": "2024-08-12T13:59:32.611791Z",
     "shell.execute_reply": "2024-08-12T13:59:32.611145Z",
     "shell.execute_reply.started": "2024-08-12T13:59:32.607128Z"
    }
   },
   "outputs": [
    {
     "data": {
      "text/html": [
       "\n",
       "        <div id=\"LmwsBFEreRradwQhU5YLky\"></div>\n",
       "        <script>netpixi.call('LmwsBFEreRradwQhU5YLky', 'gmbNX6jgHCFyzXXBq4Fgoa', 'changeGraph', 'eyJ0eXBlIjogInNldHRpbmdzIiwgInByb3BzIjogeyJ2ZXJ0ZXgiOiB7InNpemUiOiA0LCAiYndpZHRoIjogMX19fQo=');</script>\n",
       "    "
      ],
      "text/plain": [
       "<IPython.core.display.HTML object>"
      ]
     },
     "metadata": {},
     "output_type": "display_data"
    }
   ],
   "source": [
    "r.vertex_default(size=4, bwidth=1)"
   ]
  },
  {
   "cell_type": "code",
   "execution_count": 18,
   "metadata": {
    "execution": {
     "iopub.execute_input": "2024-08-12T14:00:18.975120Z",
     "iopub.status.busy": "2024-08-12T14:00:18.974341Z",
     "iopub.status.idle": "2024-08-12T14:00:18.980560Z",
     "shell.execute_reply": "2024-08-12T14:00:18.979794Z",
     "shell.execute_reply.started": "2024-08-12T14:00:18.975100Z"
    }
   },
   "outputs": [
    {
     "data": {
      "text/html": [
       "\n",
       "        <div id=\"HSFR6GWY5Fn5tkhkicP7uE\"></div>\n",
       "        <script>netpixi.call('HSFR6GWY5Fn5tkhkicP7uE', 'gmbNX6jgHCFyzXXBq4Fgoa', 'changeGraph', 'eyJ0eXBlIjogInNldHRpbmdzIiwgInByb3BzIjogeyJlZGdlIjogeyJ3aWR0aCI6IDAuNX19fQo=');</script>\n",
       "    "
      ],
      "text/plain": [
       "<IPython.core.display.HTML object>"
      ]
     },
     "metadata": {},
     "output_type": "display_data"
    }
   ],
   "source": [
    "r.edge_default(width=0.5)"
   ]
  }
 ],
 "metadata": {
  "kernelspec": {
   "display_name": "Python 3 (ipykernel)",
   "language": "python",
   "name": "python3"
  },
  "language_info": {
   "codemirror_mode": {
    "name": "ipython",
    "version": 3
   },
   "file_extension": ".py",
   "mimetype": "text/x-python",
   "name": "python",
   "nbconvert_exporter": "python",
   "pygments_lexer": "ipython3",
   "version": "3.12.4"
  }
 },
 "nbformat": 4,
 "nbformat_minor": 4
}
