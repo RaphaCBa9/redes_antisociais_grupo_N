{
 "cells": [
  {
   "cell_type": "code",
   "execution_count": 1,
   "metadata": {
    "execution": {
     "iopub.execute_input": "2024-08-13T19:05:15.309701Z",
     "iopub.status.busy": "2024-08-13T19:05:15.309182Z",
     "iopub.status.idle": "2024-08-13T19:05:18.008065Z",
     "shell.execute_reply": "2024-08-13T19:05:18.007139Z",
     "shell.execute_reply.started": "2024-08-13T19:05:15.309630Z"
    }
   },
   "outputs": [
    {
     "data": {
      "text/html": [
       "\n",
       "    <script src=\"/static/.hidden/netpixi.min.js\"></script>\n"
      ],
      "text/plain": [
       "<IPython.core.display.HTML object>"
      ]
     },
     "metadata": {},
     "output_type": "display_data"
    }
   ],
   "source": [
    "import netpixi\n",
    "from graph_tool import draw\n",
    "import graph_tool_extras as gte"
   ]
  },
  {
   "cell_type": "markdown",
   "metadata": {},
   "source": [
    "# APS01 - Redes Sociais\n"
   ]
  },
  {
   "cell_type": "markdown",
   "metadata": {},
   "source": [
    "### 01: Extraindo o dataset\n",
    "Ao extrair a pasta compactada, a pasta criada é a ``ca-AstroPh.txt`` e o arquivo dentro desta pasta chama-se ``CA-AstroPh.txt``"
   ]
  },
  {
   "cell_type": "code",
   "execution_count": 12,
   "metadata": {
    "execution": {
     "iopub.execute_input": "2024-08-13T19:14:49.025154Z",
     "iopub.status.busy": "2024-08-13T19:14:49.020333Z",
     "iopub.status.idle": "2024-08-13T19:14:49.048177Z",
     "shell.execute_reply": "2024-08-13T19:14:49.041684Z",
     "shell.execute_reply.started": "2024-08-13T19:14:49.024799Z"
    }
   },
   "outputs": [],
   "source": [
    "filename = 'ca-AstroPh.txt/CA-AstroPh'"
   ]
  },
  {
   "cell_type": "markdown",
   "metadata": {},
   "source": [
    "### 02: Adicionando funções úteis\n",
    "São funções para adicionar vértices e arestas"
   ]
  },
  {
   "cell_type": "code",
   "execution_count": 13,
   "metadata": {
    "execution": {
     "iopub.execute_input": "2024-08-13T19:14:52.415206Z",
     "iopub.status.busy": "2024-08-13T19:14:52.413403Z",
     "iopub.status.idle": "2024-08-13T19:14:52.439693Z",
     "shell.execute_reply": "2024-08-13T19:14:52.434674Z",
     "shell.execute_reply.started": "2024-08-13T19:14:52.415171Z"
    }
   },
   "outputs": [],
   "source": [
    "def get_or_add_vertex(g, id):\n",
    "    v = g.vertex_by_id(id)\n",
    "    if v is None:\n",
    "        v = g.add_vertex_by_id(id)\n",
    "    return v\n",
    "\n",
    "def get_or_add_edge(g, writer, quoted):\n",
    "    e = g.edge_by_ids(writer, quoted)\n",
    "    if e is None:\n",
    "        e = g.add_edge_by_ids(writer, quoted)\n",
    "    return e"
   ]
  },
  {
   "cell_type": "markdown",
   "metadata": {},
   "source": [
    "### 03: Leitura do DataSet e criação da rede"
   ]
  },
  {
   "cell_type": "code",
   "execution_count": 14,
   "metadata": {
    "execution": {
     "iopub.execute_input": "2024-08-13T19:14:55.058130Z",
     "iopub.status.busy": "2024-08-13T19:14:55.056684Z",
     "iopub.status.idle": "2024-08-13T19:15:06.571643Z",
     "shell.execute_reply": "2024-08-13T19:15:06.570268Z",
     "shell.execute_reply.started": "2024-08-13T19:14:55.058103Z"
    }
   },
   "outputs": [],
   "source": [
    "with open(f'./{filename}.txt') as file:\n",
    "    g = gte.Graph(directed=False)\n",
    "\n",
    "    next(file)\n",
    "    next(file)\n",
    "    next(file)\n",
    "    next(file)\n",
    "\n",
    "    for line in file:\n",
    "\n",
    "        writer, quoted = [int(id) for id in line.strip().split('\\t')]\n",
    " \n",
    "        v_writer = get_or_add_vertex(g, writer)\n",
    "        v_quoted = get_or_add_vertex(g, quoted)\n",
    "\n",
    "        e = get_or_add_edge(g, writer, quoted)\n",
    "        "
   ]
  },
  {
   "cell_type": "markdown",
   "metadata": {},
   "source": [
    "### 04: Construindo e renderizando a Rede"
   ]
  },
  {
   "cell_type": "code",
   "execution_count": 5,
   "metadata": {
    "execution": {
     "iopub.execute_input": "2024-08-13T19:05:33.207124Z",
     "iopub.status.busy": "2024-08-13T19:05:33.206525Z",
     "iopub.status.idle": "2024-08-13T19:06:13.954524Z",
     "shell.execute_reply": "2024-08-13T19:06:13.953582Z",
     "shell.execute_reply.started": "2024-08-13T19:05:33.207091Z"
    }
   },
   "outputs": [],
   "source": [
    "layout = draw.sfdp_layout(g)"
   ]
  },
  {
   "cell_type": "code",
   "execution_count": 6,
   "metadata": {
    "execution": {
     "iopub.execute_input": "2024-08-13T19:06:19.491303Z",
     "iopub.status.busy": "2024-08-13T19:06:19.490401Z",
     "iopub.status.idle": "2024-08-13T19:06:23.713171Z",
     "shell.execute_reply": "2024-08-13T19:06:23.712333Z",
     "shell.execute_reply.started": "2024-08-13T19:06:19.491268Z"
    }
   },
   "outputs": [],
   "source": [
    "gte.move(g, layout)"
   ]
  },
  {
   "cell_type": "code",
   "execution_count": 7,
   "metadata": {
    "execution": {
     "iopub.execute_input": "2024-08-13T19:06:25.998886Z",
     "iopub.status.busy": "2024-08-13T19:06:25.998398Z",
     "iopub.status.idle": "2024-08-13T19:06:26.086977Z",
     "shell.execute_reply": "2024-08-13T19:06:26.086157Z",
     "shell.execute_reply.started": "2024-08-13T19:06:25.998858Z"
    }
   },
   "outputs": [],
   "source": [
    "g = gte.clean(g)"
   ]
  },
  {
   "cell_type": "code",
   "execution_count": 8,
   "metadata": {
    "execution": {
     "iopub.execute_input": "2024-08-13T19:06:27.375313Z",
     "iopub.status.busy": "2024-08-13T19:06:27.374828Z",
     "iopub.status.idle": "2024-08-13T19:06:34.871825Z",
     "shell.execute_reply": "2024-08-13T19:06:34.870945Z",
     "shell.execute_reply.started": "2024-08-13T19:06:27.375291Z"
    }
   },
   "outputs": [],
   "source": [
    "gte.save(g, f'{filename}.net.gz')"
   ]
  },
  {
   "cell_type": "code",
   "execution_count": 9,
   "metadata": {
    "execution": {
     "iopub.execute_input": "2024-08-13T19:06:37.057413Z",
     "iopub.status.busy": "2024-08-13T19:06:37.056896Z",
     "iopub.status.idle": "2024-08-13T19:06:37.065826Z",
     "shell.execute_reply": "2024-08-13T19:06:37.064576Z",
     "shell.execute_reply.started": "2024-08-13T19:06:37.057391Z"
    },
    "scrolled": true
   },
   "outputs": [
    {
     "data": {
      "text/html": [
       "\n",
       "        <div id=\"YzpDTixAvqhc2iApavcwax\"></div>\n",
       "        <script>netpixi.render('YzpDTixAvqhc2iApavcwax', '/static/__shared__/redes_antisociais_grupo_N/APS1/./CA-AstroPh.net.gz', 1.7777777777777777, true, true, false, true);</script>\n",
       "    "
      ],
      "text/plain": [
       "<IPython.core.display.HTML object>"
      ]
     },
     "metadata": {},
     "output_type": "display_data"
    }
   ],
   "source": [
    "r = netpixi.render(f'./{filename}.net.gz', infinite=True)"
   ]
  },
  {
   "cell_type": "code",
   "execution_count": 10,
   "metadata": {
    "execution": {
     "iopub.execute_input": "2024-08-13T19:06:56.716828Z",
     "iopub.status.busy": "2024-08-13T19:06:56.715188Z",
     "iopub.status.idle": "2024-08-13T19:06:56.725290Z",
     "shell.execute_reply": "2024-08-13T19:06:56.724276Z",
     "shell.execute_reply.started": "2024-08-13T19:06:56.716797Z"
    }
   },
   "outputs": [
    {
     "data": {
      "text/html": [
       "\n",
       "        <div id=\"G3m7N8RJEMkaXg2CTAbdc5\"></div>\n",
       "        <script>netpixi.call('G3m7N8RJEMkaXg2CTAbdc5', 'YzpDTixAvqhc2iApavcwax', 'changeGraph', 'eyJ0eXBlIjogInNldHRpbmdzIiwgInByb3BzIjogeyJ2ZXJ0ZXgiOiB7InNpemUiOiA0LCAiYndpZHRoIjogMX19fQo=');</script>\n",
       "    "
      ],
      "text/plain": [
       "<IPython.core.display.HTML object>"
      ]
     },
     "metadata": {},
     "output_type": "display_data"
    }
   ],
   "source": [
    "r.vertex_default(size=4, bwidth=1)"
   ]
  },
  {
   "cell_type": "code",
   "execution_count": 11,
   "metadata": {
    "execution": {
     "iopub.execute_input": "2024-08-13T19:06:58.682787Z",
     "iopub.status.busy": "2024-08-13T19:06:58.682444Z",
     "iopub.status.idle": "2024-08-13T19:06:58.689213Z",
     "shell.execute_reply": "2024-08-13T19:06:58.688285Z",
     "shell.execute_reply.started": "2024-08-13T19:06:58.682767Z"
    }
   },
   "outputs": [
    {
     "data": {
      "text/html": [
       "\n",
       "        <div id=\"NPF8TfsC3v4nzUYKDhZizZ\"></div>\n",
       "        <script>netpixi.call('NPF8TfsC3v4nzUYKDhZizZ', 'YzpDTixAvqhc2iApavcwax', 'changeGraph', 'eyJ0eXBlIjogInNldHRpbmdzIiwgInByb3BzIjogeyJlZGdlIjogeyJ3aWR0aCI6IDAuNX19fQo=');</script>\n",
       "    "
      ],
      "text/plain": [
       "<IPython.core.display.HTML object>"
      ]
     },
     "metadata": {},
     "output_type": "display_data"
    }
   ],
   "source": [
    "r.edge_default(width=0.5)"
   ]
  }
 ],
 "metadata": {
  "kernelspec": {
   "display_name": "Python 3 (ipykernel)",
   "language": "python",
   "name": "python3"
  },
  "language_info": {
   "codemirror_mode": {
    "name": "ipython",
    "version": 3
   },
   "file_extension": ".py",
   "mimetype": "text/x-python",
   "name": "python",
   "nbconvert_exporter": "python",
   "pygments_lexer": "ipython3",
   "version": "3.12.4"
  }
 },
 "nbformat": 4,
 "nbformat_minor": 4
}
