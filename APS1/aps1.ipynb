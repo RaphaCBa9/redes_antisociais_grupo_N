{
 "cells": [
  {
   "cell_type": "code",
   "execution_count": 1,
   "metadata": {
    "execution": {
     "iopub.execute_input": "2024-08-12T13:11:48.402474Z",
     "iopub.status.busy": "2024-08-12T13:11:48.402224Z",
     "iopub.status.idle": "2024-08-12T13:11:50.129858Z",
     "shell.execute_reply": "2024-08-12T13:11:50.129123Z",
     "shell.execute_reply.started": "2024-08-12T13:11:48.402453Z"
    }
   },
   "outputs": [
    {
     "data": {
      "text/html": [
       "\n",
       "    <script src=\"/static/.hidden/netpixi.min.js\"></script>\n"
      ],
      "text/plain": [
       "<IPython.core.display.HTML object>"
      ]
     },
     "metadata": {},
     "output_type": "display_data"
    }
   ],
   "source": [
    "import netpixi\n",
    "from graph_tool import draw\n",
    "import graph_tool_extras as gte"
   ]
  },
  {
   "cell_type": "code",
   "execution_count": 2,
   "metadata": {
    "execution": {
     "iopub.execute_input": "2024-08-12T13:11:50.131027Z",
     "iopub.status.busy": "2024-08-12T13:11:50.130648Z",
     "iopub.status.idle": "2024-08-12T13:11:50.134631Z",
     "shell.execute_reply": "2024-08-12T13:11:50.133775Z",
     "shell.execute_reply.started": "2024-08-12T13:11:50.131010Z"
    }
   },
   "outputs": [],
   "source": [
    "PATH = \"./cit-HepPh.txt\""
   ]
  },
  {
   "cell_type": "code",
   "execution_count": 3,
   "metadata": {
    "execution": {
     "iopub.execute_input": "2024-08-12T13:11:50.135964Z",
     "iopub.status.busy": "2024-08-12T13:11:50.135605Z",
     "iopub.status.idle": "2024-08-12T13:11:50.140514Z",
     "shell.execute_reply": "2024-08-12T13:11:50.139553Z",
     "shell.execute_reply.started": "2024-08-12T13:11:50.135929Z"
    }
   },
   "outputs": [],
   "source": [
    "def get_or_add_vertex(g, id):\n",
    "    v = g.vertex_by_id(id)\n",
    "    if v is None:\n",
    "        v = g.add_vertex_by_id(id)\n",
    "    return v\n",
    "\n",
    "def get_or_add_edge(g, writer, quoted):\n",
    "    e = g.edge_by_ids(writer, quoted)\n",
    "    if e is None:\n",
    "        e = g.add_edge_by_ids(writer, quoted)\n",
    "    return e"
   ]
  },
  {
   "cell_type": "code",
   "execution_count": 4,
   "metadata": {
    "execution": {
     "iopub.execute_input": "2024-08-12T13:11:50.142138Z",
     "iopub.status.busy": "2024-08-12T13:11:50.141536Z",
     "iopub.status.idle": "2024-08-12T13:12:00.309865Z",
     "shell.execute_reply": "2024-08-12T13:12:00.309236Z",
     "shell.execute_reply.started": "2024-08-12T13:11:50.142108Z"
    }
   },
   "outputs": [],
   "source": [
    "with open(PATH) as file:\n",
    "    g = gte.Graph(directed=True)\n",
    "\n",
    "    next(file)\n",
    "    next(file)\n",
    "    next(file)\n",
    "    next(file)\n",
    "\n",
    "    for line in file:\n",
    "\n",
    "        writer, quoted = [int(id) for id in line.strip().split('\\t')]\n",
    " \n",
    "        v_writer = get_or_add_vertex(g, writer)\n",
    "        v_quoted = get_or_add_vertex(g, quoted)\n",
    "\n",
    "        e = get_or_add_edge(g, writer, quoted)\n",
    "        "
   ]
  },
  {
   "cell_type": "code",
   "execution_count": 5,
   "metadata": {
    "execution": {
     "iopub.execute_input": "2024-08-12T13:12:00.310813Z",
     "iopub.status.busy": "2024-08-12T13:12:00.310608Z",
     "iopub.status.idle": "2024-08-12T13:13:12.866013Z",
     "shell.execute_reply": "2024-08-12T13:13:12.865167Z",
     "shell.execute_reply.started": "2024-08-12T13:12:00.310791Z"
    }
   },
   "outputs": [],
   "source": [
    "layout = draw.sfdp_layout(g)"
   ]
  },
  {
   "cell_type": "code",
   "execution_count": 6,
   "metadata": {
    "execution": {
     "iopub.execute_input": "2024-08-12T13:13:12.869561Z",
     "iopub.status.busy": "2024-08-12T13:13:12.868925Z",
     "iopub.status.idle": "2024-08-12T13:13:19.275899Z",
     "shell.execute_reply": "2024-08-12T13:13:19.275019Z",
     "shell.execute_reply.started": "2024-08-12T13:13:12.869536Z"
    }
   },
   "outputs": [],
   "source": [
    "gte.move(g, layout)"
   ]
  },
  {
   "cell_type": "code",
   "execution_count": 7,
   "metadata": {
    "execution": {
     "iopub.execute_input": "2024-08-12T13:13:19.277300Z",
     "iopub.status.busy": "2024-08-12T13:13:19.276970Z",
     "iopub.status.idle": "2024-08-12T13:13:19.425587Z",
     "shell.execute_reply": "2024-08-12T13:13:19.424893Z",
     "shell.execute_reply.started": "2024-08-12T13:13:19.277280Z"
    }
   },
   "outputs": [],
   "source": [
    "g = gte.clean(g)"
   ]
  },
  {
   "cell_type": "code",
   "execution_count": 8,
   "metadata": {
    "execution": {
     "iopub.execute_input": "2024-08-12T13:13:19.426897Z",
     "iopub.status.busy": "2024-08-12T13:13:19.426564Z",
     "iopub.status.idle": "2024-08-12T13:13:33.190153Z",
     "shell.execute_reply": "2024-08-12T13:13:33.189421Z",
     "shell.execute_reply.started": "2024-08-12T13:13:19.426869Z"
    }
   },
   "outputs": [],
   "source": [
    "gte.save(g, 'cit-HepPh.net.gz')"
   ]
  },
  {
   "cell_type": "code",
   "execution_count": 13,
   "metadata": {
    "execution": {
     "iopub.execute_input": "2024-08-12T13:14:52.243157Z",
     "iopub.status.busy": "2024-08-12T13:14:52.242435Z",
     "iopub.status.idle": "2024-08-12T13:14:52.249813Z",
     "shell.execute_reply": "2024-08-12T13:14:52.249065Z",
     "shell.execute_reply.started": "2024-08-12T13:14:52.243133Z"
    },
    "scrolled": true
   },
   "outputs": [
    {
     "data": {
      "text/html": [
       "\n",
       "        <div id=\"BbGjR8drPqZb9kFHgaTcnK\"></div>\n",
       "        <script>netpixi.render('BbGjR8drPqZb9kFHgaTcnK', '/static/__shared__/redes_antisociais_grupo_N/APS1/cit-hepPh.net.gz', 1.7777777777777777, true, true, false, true);</script>\n",
       "    "
      ],
      "text/plain": [
       "<IPython.core.display.HTML object>"
      ]
     },
     "metadata": {},
     "output_type": "display_data"
    }
   ],
   "source": [
    "r = netpixi.render('cit-HepPh.net.gz', infinite=True)"
   ]
  },
  {
   "cell_type": "code",
   "execution_count": 10,
   "metadata": {
    "execution": {
     "iopub.execute_input": "2024-08-12T13:13:33.199355Z",
     "iopub.status.busy": "2024-08-12T13:13:33.199073Z",
     "iopub.status.idle": "2024-08-12T13:13:33.211624Z",
     "shell.execute_reply": "2024-08-12T13:13:33.210848Z",
     "shell.execute_reply.started": "2024-08-12T13:13:33.199330Z"
    }
   },
   "outputs": [
    {
     "data": {
      "text/html": [
       "\n",
       "        <div id=\"6wype5Yxwaop6ZaEevZKb4\"></div>\n",
       "        <script>netpixi.call('6wype5Yxwaop6ZaEevZKb4', 'CiBvRJ742J9PhQansKaT2d', 'changeGraph', 'eyJ0eXBlIjogInNldHRpbmdzIiwgInByb3BzIjogeyJ2ZXJ0ZXgiOiB7InNpemUiOiAyLCAiYndpZHRoIjogMX19fQo=');</script>\n",
       "    "
      ],
      "text/plain": [
       "<IPython.core.display.HTML object>"
      ]
     },
     "metadata": {},
     "output_type": "display_data"
    }
   ],
   "source": [
    "r.vertex_default(size=2, bwidth=1)"
   ]
  },
  {
   "cell_type": "code",
   "execution_count": 11,
   "metadata": {
    "execution": {
     "iopub.execute_input": "2024-08-12T13:13:33.212762Z",
     "iopub.status.busy": "2024-08-12T13:13:33.212565Z",
     "iopub.status.idle": "2024-08-12T13:13:33.217561Z",
     "shell.execute_reply": "2024-08-12T13:13:33.216795Z",
     "shell.execute_reply.started": "2024-08-12T13:13:33.212746Z"
    }
   },
   "outputs": [
    {
     "data": {
      "text/html": [
       "\n",
       "        <div id=\"MzTr6mqH6823GzRgoAVZvu\"></div>\n",
       "        <script>netpixi.call('MzTr6mqH6823GzRgoAVZvu', 'CiBvRJ742J9PhQansKaT2d', 'changeGraph', 'eyJ0eXBlIjogInNldHRpbmdzIiwgInByb3BzIjogeyJlZGdlIjogeyJ3aWR0aCI6IDF9fX0K');</script>\n",
       "    "
      ],
      "text/plain": [
       "<IPython.core.display.HTML object>"
      ]
     },
     "metadata": {},
     "output_type": "display_data"
    }
   ],
   "source": [
    "r.edge_default(width=1)"
   ]
  }
 ],
 "metadata": {
  "kernelspec": {
   "display_name": "Python 3 (ipykernel)",
   "language": "python",
   "name": "python3"
  },
  "language_info": {
   "codemirror_mode": {
    "name": "ipython",
    "version": 3
   },
   "file_extension": ".py",
   "mimetype": "text/x-python",
   "name": "python",
   "nbconvert_exporter": "python",
   "pygments_lexer": "ipython3",
   "version": "3.12.4"
  }
 },
 "nbformat": 4,
 "nbformat_minor": 4
}
