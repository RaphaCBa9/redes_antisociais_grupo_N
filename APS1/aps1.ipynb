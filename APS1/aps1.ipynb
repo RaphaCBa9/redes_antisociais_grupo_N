{
 "cells": [
  {
   "cell_type": "code",
   "execution_count": 12,
   "metadata": {
    "execution": {
     "iopub.execute_input": "2024-08-10T02:25:02.326201Z",
     "iopub.status.busy": "2024-08-10T02:25:02.325685Z",
     "iopub.status.idle": "2024-08-10T02:25:02.329660Z",
     "shell.execute_reply": "2024-08-10T02:25:02.328913Z",
     "shell.execute_reply.started": "2024-08-10T02:25:02.326171Z"
    }
   },
   "outputs": [],
   "source": [
    "import netpixi\n",
    "import graph_tool_extras as gte"
   ]
  },
  {
   "cell_type": "code",
   "execution_count": 13,
   "metadata": {
    "execution": {
     "iopub.execute_input": "2024-08-10T02:25:06.614060Z",
     "iopub.status.busy": "2024-08-10T02:25:06.613548Z",
     "iopub.status.idle": "2024-08-10T02:25:06.617117Z",
     "shell.execute_reply": "2024-08-10T02:25:06.616343Z",
     "shell.execute_reply.started": "2024-08-10T02:25:06.614040Z"
    }
   },
   "outputs": [],
   "source": [
    "PATH = \"./cit-HepPh.txt\""
   ]
  },
  {
   "cell_type": "code",
   "execution_count": 14,
   "metadata": {
    "execution": {
     "iopub.execute_input": "2024-08-10T02:25:08.661261Z",
     "iopub.status.busy": "2024-08-10T02:25:08.660782Z",
     "iopub.status.idle": "2024-08-10T02:25:08.665284Z",
     "shell.execute_reply": "2024-08-10T02:25:08.664473Z",
     "shell.execute_reply.started": "2024-08-10T02:25:08.661239Z"
    }
   },
   "outputs": [],
   "source": [
    "def get_or_add_vertex(g, id):\n",
    "    v = g.vertex_by_id(id)\n",
    "    if v is None:\n",
    "        v = g.add_vertex_by_id(id)\n",
    "    return v\n",
    "\n",
    "def get_or_add_edge(g, writer, quoted):\n",
    "    e = g.edge_by_ids(writer, quoted)\n",
    "    if e is None:\n",
    "        e = g.add_edge_by_ids(writer, quoted)\n",
    "    return e"
   ]
  },
  {
   "cell_type": "code",
   "execution_count": 15,
   "metadata": {
    "execution": {
     "iopub.execute_input": "2024-08-10T02:25:11.812830Z",
     "iopub.status.busy": "2024-08-10T02:25:11.812318Z",
     "iopub.status.idle": "2024-08-10T02:25:21.529501Z",
     "shell.execute_reply": "2024-08-10T02:25:21.528810Z",
     "shell.execute_reply.started": "2024-08-10T02:25:11.812810Z"
    }
   },
   "outputs": [],
   "source": [
    "with open(PATH) as file:\n",
    "    g = gte.Graph(directed=True)\n",
    "\n",
    "    next(file)\n",
    "    next(file)\n",
    "    next(file)\n",
    "    next(file)\n",
    "\n",
    "    for line in file:\n",
    "\n",
    "        writer, quoted = [int(id) for id in line.strip().split('\\t')]\n",
    " \n",
    "        v_writer = get_or_add_vertex(g, writer)\n",
    "        v_quoted = get_or_add_vertex(g, quoted)\n",
    "\n",
    "        e = get_or_add_edge(g, writer, quoted)\n",
    "        "
   ]
  },
  {
   "cell_type": "code",
   "execution_count": 16,
   "metadata": {
    "execution": {
     "iopub.execute_input": "2024-08-10T02:25:24.458275Z",
     "iopub.status.busy": "2024-08-10T02:25:24.457597Z",
     "iopub.status.idle": "2024-08-10T02:25:36.954273Z",
     "shell.execute_reply": "2024-08-10T02:25:36.953563Z",
     "shell.execute_reply.started": "2024-08-10T02:25:24.458252Z"
    }
   },
   "outputs": [],
   "source": [
    "gte.save(g,'cit-hepPh.net.gz')"
   ]
  },
  {
   "cell_type": "code",
   "execution_count": 17,
   "metadata": {
    "execution": {
     "iopub.execute_input": "2024-08-10T02:25:58.974675Z",
     "iopub.status.busy": "2024-08-10T02:25:58.974211Z",
     "iopub.status.idle": "2024-08-10T02:25:58.982228Z",
     "shell.execute_reply": "2024-08-10T02:25:58.981416Z",
     "shell.execute_reply.started": "2024-08-10T02:25:58.974655Z"
    }
   },
   "outputs": [
    {
     "data": {
      "text/html": [
       "\n",
       "        <div id=\"9Vgf3YrZdjfUgiHoNbUU4A\"></div>\n",
       "        <script>netpixi.render('9Vgf3YrZdjfUgiHoNbUU4A', '/static/__shared__/redes_antisociais_grupo_N/APS1/cit-hepPh.net.gz', 1.7777777777777777, true, false, false, true);</script>\n",
       "    "
      ],
      "text/plain": [
       "<IPython.core.display.HTML object>"
      ]
     },
     "metadata": {},
     "output_type": "display_data"
    },
    {
     "data": {
      "text/plain": [
       "<netpixi.Render at 0x7f4e06f96150>"
      ]
     },
     "execution_count": 17,
     "metadata": {},
     "output_type": "execute_result"
    }
   ],
   "source": [
    "netpixi.render('cit-hepPh.net.gz')"
   ]
  }
 ],
 "metadata": {
  "kernelspec": {
   "display_name": "Python 3 (ipykernel)",
   "language": "python",
   "name": "python3"
  },
  "language_info": {
   "codemirror_mode": {
    "name": "ipython",
    "version": 3
   },
   "file_extension": ".py",
   "mimetype": "text/x-python",
   "name": "python",
   "nbconvert_exporter": "python",
   "pygments_lexer": "ipython3",
   "version": "3.12.4"
  }
 },
 "nbformat": 4,
 "nbformat_minor": 4
}
