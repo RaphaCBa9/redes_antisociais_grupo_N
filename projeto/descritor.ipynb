{
 "cells": [
  {
   "cell_type": "code",
   "execution_count": 1,
   "metadata": {
    "execution": {
     "iopub.execute_input": "2024-11-06T17:00:04.279277Z",
     "iopub.status.busy": "2024-11-06T17:00:04.278400Z",
     "iopub.status.idle": "2024-11-06T17:00:07.470623Z",
     "shell.execute_reply": "2024-11-06T17:00:07.469775Z",
     "shell.execute_reply.started": "2024-11-06T17:00:04.279175Z"
    }
   },
   "outputs": [
    {
     "data": {
      "text/html": [
       "\n",
       "    <script src=\"/static/.hidden/netpixi.min.js\"></script>\n"
      ],
      "text/plain": [
       "<IPython.core.display.HTML object>"
      ]
     },
     "metadata": {},
     "output_type": "display_data"
    }
   ],
   "source": [
    "import pandas as pd\n",
    "import scipy\n",
    "\n",
    "import netpixi\n",
    "import graph_tool_extras as gte\n",
    "\n",
    "import distribution as dst\n",
    "from graph_tool import centrality, clustering\n",
    "\n",
    "import matplotlib.pyplot as plt\n",
    "import seaborn as sns\n",
    "\n",
    "import time"
   ]
  },
  {
   "cell_type": "code",
   "execution_count": 2,
   "metadata": {
    "execution": {
     "iopub.execute_input": "2024-11-06T17:00:07.472171Z",
     "iopub.status.busy": "2024-11-06T17:00:07.471692Z",
     "iopub.status.idle": "2024-11-06T17:00:47.647050Z",
     "shell.execute_reply": "2024-11-06T17:00:47.646068Z",
     "shell.execute_reply.started": "2024-11-06T17:00:07.472148Z"
    }
   },
   "outputs": [],
   "source": [
    "g = gte.load('./rede.net.gz')"
   ]
  },
  {
   "cell_type": "markdown",
   "metadata": {},
   "source": [
    "# Descrição da Rede\n",
    "Obtendo o tamanho da rede (número de vérticies e arestas)."
   ]
  },
  {
   "cell_type": "code",
   "execution_count": 3,
   "metadata": {
    "execution": {
     "iopub.execute_input": "2024-11-06T17:00:47.648935Z",
     "iopub.status.busy": "2024-11-06T17:00:47.648425Z",
     "iopub.status.idle": "2024-11-06T17:00:47.653259Z",
     "shell.execute_reply": "2024-11-06T17:00:47.652510Z",
     "shell.execute_reply.started": "2024-11-06T17:00:47.648911Z"
    }
   },
   "outputs": [
    {
     "name": "stdout",
     "output_type": "stream",
     "text": [
      "Número de Verticies: 28328\n",
      "Número de Arestas: 481022\n"
     ]
    }
   ],
   "source": [
    "print(f'Número de Verticies: {g.num_vertices()}')\n",
    "print(f'Número de Arestas: {g.num_edges()}')"
   ]
  },
  {
   "cell_type": "markdown",
   "metadata": {},
   "source": [
    "Obtendo a densidade da rede por meio da função `density`."
   ]
  },
  {
   "cell_type": "code",
   "execution_count": 4,
   "metadata": {
    "execution": {
     "iopub.execute_input": "2024-11-06T17:00:47.654482Z",
     "iopub.status.busy": "2024-11-06T17:00:47.654275Z",
     "iopub.status.idle": "2024-11-06T17:00:47.670989Z",
     "shell.execute_reply": "2024-11-06T17:00:47.669921Z",
     "shell.execute_reply.started": "2024-11-06T17:00:47.654463Z"
    }
   },
   "outputs": [
    {
     "name": "stdout",
     "output_type": "stream",
     "text": [
      "Densidade: 0.119889%\n"
     ]
    }
   ],
   "source": [
    "print(f'Densidade: {g.density()}%')"
   ]
  },
  {
   "cell_type": "markdown",
   "metadata": {},
   "source": [
    "Obentendo a transitividade da rede por meio da função `transitivity`."
   ]
  },
  {
   "cell_type": "code",
   "execution_count": 5,
   "metadata": {
    "execution": {
     "iopub.execute_input": "2024-11-06T17:00:47.673037Z",
     "iopub.status.busy": "2024-11-06T17:00:47.672664Z",
     "iopub.status.idle": "2024-11-06T17:00:47.789868Z",
     "shell.execute_reply": "2024-11-06T17:00:47.788944Z",
     "shell.execute_reply.started": "2024-11-06T17:00:47.673011Z"
    }
   },
   "outputs": [
    {
     "name": "stdout",
     "output_type": "stream",
     "text": [
      "Transitividade: 3.939872%\n"
     ]
    }
   ],
   "source": [
    "print(f'Transitividade: {g.transitivity()}%')"
   ]
  },
  {
   "cell_type": "markdown",
   "metadata": {
    "editable": true,
    "slideshow": {
     "slide_type": ""
    },
    "tags": []
   },
   "source": [
    "Obtendo o número total de vizinhos de cada um dos vérticies por meio da função `get_total_degrees`.  "
   ]
  },
  {
   "cell_type": "code",
   "execution_count": 6,
   "metadata": {
    "execution": {
     "iopub.execute_input": "2024-11-06T17:00:47.792866Z",
     "iopub.status.busy": "2024-11-06T17:00:47.792362Z",
     "iopub.status.idle": "2024-11-06T17:00:47.820583Z",
     "shell.execute_reply": "2024-11-06T17:00:47.819691Z",
     "shell.execute_reply.started": "2024-11-06T17:00:47.792840Z"
    }
   },
   "outputs": [],
   "source": [
    "degrees = g.get_total_degrees()"
   ]
  },
  {
   "cell_type": "code",
   "execution_count": 7,
   "metadata": {
    "execution": {
     "iopub.execute_input": "2024-11-06T17:00:47.822456Z",
     "iopub.status.busy": "2024-11-06T17:00:47.821658Z",
     "iopub.status.idle": "2024-11-06T17:00:47.854663Z",
     "shell.execute_reply": "2024-11-06T17:00:47.853723Z",
     "shell.execute_reply.started": "2024-11-06T17:00:47.822416Z"
    }
   },
   "outputs": [
    {
     "data": {
      "text/plain": [
       "count    28328.000000\n",
       "mean        33.960887\n",
       "std         46.824864\n",
       "min          1.000000\n",
       "25%          5.000000\n",
       "50%         16.000000\n",
       "75%         43.000000\n",
       "max        586.000000\n",
       "dtype: float64"
      ]
     },
     "execution_count": 7,
     "metadata": {},
     "output_type": "execute_result"
    }
   ],
   "source": [
    "degrees.describe()"
   ]
  },
  {
   "cell_type": "code",
   "execution_count": 8,
   "metadata": {
    "execution": {
     "iopub.execute_input": "2024-11-06T17:00:47.856444Z",
     "iopub.status.busy": "2024-11-06T17:00:47.856010Z",
     "iopub.status.idle": "2024-11-06T17:00:48.128470Z",
     "shell.execute_reply": "2024-11-06T17:00:48.127750Z",
     "shell.execute_reply.started": "2024-11-06T17:00:47.856421Z"
    }
   },
   "outputs": [
    {
     "data": {
      "image/png": "[encoded data removed]",
      "text/plain": [
       "<Figure size 640x480 with 1 Axes>"
      ]
     },
     "metadata": {},
     "output_type": "display_data"
    }
   ],
   "source": [
    "degrees.hist(bins=100, edgecolor='white', linewidth=0.5);"
   ]
  },
  {
   "cell_type": "markdown",
   "metadata": {
    "execution": {
     "iopub.execute_input": "2024-08-29T14:12:23.640900Z",
     "iopub.status.busy": "2024-08-29T14:12:23.639559Z",
     "iopub.status.idle": "2024-08-29T14:12:23.655216Z",
     "shell.execute_reply": "2024-08-29T14:12:23.652149Z",
     "shell.execute_reply.started": "2024-08-29T14:12:23.640849Z"
    }
   },
   "source": [
    "Analizando a **normalidade** da destribuição dos `degree` através da função `not_normal`."
   ]
  },
  {
   "cell_type": "code",
   "execution_count": 9,
   "metadata": {
    "execution": {
     "iopub.execute_input": "2024-11-06T17:00:48.129977Z",
     "iopub.status.busy": "2024-11-06T17:00:48.129423Z",
     "iopub.status.idle": "2024-11-06T17:00:48.138098Z",
     "shell.execute_reply": "2024-11-06T17:00:48.137156Z",
     "shell.execute_reply.started": "2024-11-06T17:00:48.129951Z"
    }
   },
   "outputs": [
    {
     "name": "stdout",
     "output_type": "stream",
     "text": [
      "Not Normal: <0.001\n"
     ]
    }
   ],
   "source": [
    "p_value = dst.not_normal(degrees)\n",
    "print(f'Not Normal: {'<0.001' if p_value < 0.001 else float(p_value)}')"
   ]
  },
  {
   "cell_type": "markdown",
   "metadata": {
    "execution": {
     "iopub.execute_input": "2024-08-29T14:12:23.640900Z",
     "iopub.status.busy": "2024-08-29T14:12:23.639559Z",
     "iopub.status.idle": "2024-08-29T14:12:23.655216Z",
     "shell.execute_reply": "2024-08-29T14:12:23.652149Z",
     "shell.execute_reply.started": "2024-08-29T14:12:23.640849Z"
    }
   },
   "source": [
    "Analizando se a destribuição dos `degree` é mais **power law** do que **lognormal** através da função `more_powerlaw_than_lognormal`."
   ]
  },
  {
   "cell_type": "code",
   "execution_count": 10,
   "metadata": {
    "execution": {
     "iopub.execute_input": "2024-11-06T17:00:48.139721Z",
     "iopub.status.busy": "2024-11-06T17:00:48.139091Z",
     "iopub.status.idle": "2024-11-06T17:00:48.266767Z",
     "shell.execute_reply": "2024-11-06T17:00:48.266074Z",
     "shell.execute_reply.started": "2024-11-06T17:00:48.139694Z"
    }
   },
   "outputs": [
    {
     "name": "stdout",
     "output_type": "stream",
     "text": [
      "More Powerlaw than Lognormal: 0.003931460834995414 \n"
     ]
    },
    {
     "name": "stderr",
     "output_type": "stream",
     "text": [
      "Calculating best minimal value for power law fit\n",
      "/opt/miniconda/envs/jupyterlab/lib/python3.12/site-packages/powerlaw.py:699: RuntimeWarning: invalid value encountered in divide\n",
      "  (CDF_diff**2) /\n"
     ]
    }
   ],
   "source": [
    "powerlaw, p_value = dst.more_powerlaw_than_lognormal(degrees)\n",
    "print(f'More Powerlaw than Lognormal: {'{float(p_value)} (Inconclusivo)' if 0.05 < p_value < 0.1 else ('<0.001' if  p_value < 0.001 else float(p_value))} {'[powerlaw]' if powerlaw else ''}')"
   ]
  },
  {
   "cell_type": "markdown",
   "metadata": {
    "execution": {
     "iopub.execute_input": "2024-08-29T14:12:23.640900Z",
     "iopub.status.busy": "2024-08-29T14:12:23.639559Z",
     "iopub.status.idle": "2024-08-29T14:12:23.655216Z",
     "shell.execute_reply": "2024-08-29T14:12:23.652149Z",
     "shell.execute_reply.started": "2024-08-29T14:12:23.640849Z"
    }
   },
   "source": [
    "Analizando se a destribuição dos `degree` é mais **power law** do que **exponential** através da função `more_powerlaw_than_exponential`."
   ]
  },
  {
   "cell_type": "code",
   "execution_count": 11,
   "metadata": {
    "execution": {
     "iopub.execute_input": "2024-11-06T17:00:48.268376Z",
     "iopub.status.busy": "2024-11-06T17:00:48.267710Z",
     "iopub.status.idle": "2024-11-06T17:00:48.319312Z",
     "shell.execute_reply": "2024-11-06T17:00:48.318598Z",
     "shell.execute_reply.started": "2024-11-06T17:00:48.268352Z"
    }
   },
   "outputs": [
    {
     "name": "stdout",
     "output_type": "stream",
     "text": [
      "More Powerlaw than Exponential: 0.04929347630098166 \n"
     ]
    },
    {
     "name": "stderr",
     "output_type": "stream",
     "text": [
      "Calculating best minimal value for power law fit\n"
     ]
    }
   ],
   "source": [
    "powerlaw, p_value = dst.more_powerlaw_than_exponential(degrees)\n",
    "print(f'More Powerlaw than Exponential: {f'{float(p_value)} (Inconclusivo)' if 0.05 < p_value < 0.1 else ('<0.001' if  p_value < 0.001 else float(p_value))} {'[powerlaw]' if powerlaw else ''}')"
   ]
  },
  {
   "cell_type": "markdown",
   "metadata": {
    "editable": true,
    "slideshow": {
     "slide_type": ""
    },
    "tags": []
   },
   "source": [
    "## Distâncias\n",
    "\n",
    "Obtendo as distâncias entre cada vérticie da rede por meio da função `get_distances`.\n",
    "\n",
    "**OBS.:** Essas funçãoes estão comentadas pois, mesmoq eu a `get_distances` consiga rodar, o kernel tende a crashar sem conseguir rodar o `discribe` ou o `hist`, impossibilitando continuar executando o resto do notebook."
   ]
  },
  {
   "cell_type": "code",
   "execution_count": 12,
   "metadata": {
    "execution": {
     "iopub.execute_input": "2024-11-06T17:00:48.320705Z",
     "iopub.status.busy": "2024-11-06T17:00:48.320315Z",
     "iopub.status.idle": "2024-11-06T17:10:58.595529Z",
     "shell.execute_reply": "2024-11-06T17:10:58.594695Z",
     "shell.execute_reply.started": "2024-11-06T17:00:48.320681Z"
    }
   },
   "outputs": [
    {
     "data": {
      "text/plain": [
       "count    8.024756e+08\n",
       "mean     3.285072e+00\n",
       "std      6.436154e-01\n",
       "min      0.000000e+00\n",
       "max      7.000000e+00\n",
       "dtype: float64"
      ]
     },
     "execution_count": 12,
     "metadata": {},
     "output_type": "execute_result"
    }
   ],
   "source": [
    "g.describe_distances()"
   ]
  },
  {
   "cell_type": "code",
   "execution_count": 13,
   "metadata": {
    "execution": {
     "iopub.execute_input": "2024-11-06T17:10:58.596866Z",
     "iopub.status.busy": "2024-11-06T17:10:58.596405Z",
     "iopub.status.idle": "2024-11-06T17:11:52.294817Z",
     "shell.execute_reply": "2024-11-06T17:11:52.293911Z",
     "shell.execute_reply.started": "2024-11-06T17:10:58.596844Z"
    }
   },
   "outputs": [
    {
     "data": {
      "image/png": "[encoded data removed]",
      "text/plain": [
       "<Figure size 640x480 with 1 Axes>"
      ]
     },
     "metadata": {},
     "output_type": "display_data"
    }
   ],
   "source": [
    "g.hist_distances()"
   ]
  },
  {
   "cell_type": "markdown",
   "metadata": {},
   "source": [
    "# Métricas da Rede\n",
    "\n",
    "## Closeness\n",
    "Primeiro, calculamos a centralidade _closeness_ com `closeness`."
   ]
  },
  {
   "cell_type": "code",
   "execution_count": 14,
   "metadata": {
    "execution": {
     "iopub.execute_input": "2024-11-06T17:11:52.296252Z",
     "iopub.status.busy": "2024-11-06T17:11:52.295930Z",
     "iopub.status.idle": "2024-11-06T17:12:42.183543Z",
     "shell.execute_reply": "2024-11-06T17:12:42.182701Z",
     "shell.execute_reply.started": "2024-11-06T17:11:52.296229Z"
    }
   },
   "outputs": [],
   "source": [
    "c = centrality.closeness(g, harmonic=True)\n",
    "g.add_vp('closeness', c)"
   ]
  },
  {
   "cell_type": "markdown",
   "metadata": {},
   "source": [
    "Depois, adicionamos a propriedade de vértice ao grafo com `add_vp`."
   ]
  },
  {
   "cell_type": "markdown",
   "metadata": {},
   "source": [
    "## Betweeness\n",
    "Agora, para calcularmos o _betweeness_, utilizamos a função `betweenness`."
   ]
  },
  {
   "cell_type": "code",
   "execution_count": 15,
   "metadata": {
    "execution": {
     "iopub.execute_input": "2024-11-06T17:12:42.185095Z",
     "iopub.status.busy": "2024-11-06T17:12:42.184642Z",
     "iopub.status.idle": "2024-11-06T17:15:22.927431Z",
     "shell.execute_reply": "2024-11-06T17:15:22.926667Z",
     "shell.execute_reply.started": "2024-11-06T17:12:42.185070Z"
    }
   },
   "outputs": [],
   "source": [
    "b, _ = centrality.betweenness(g)\n",
    "g.add_vp('betweenness', b)"
   ]
  },
  {
   "cell_type": "markdown",
   "metadata": {},
   "source": [
    "## Degrees\n",
    "Para calcular a centralidade _degree_, utilizamos a função `total_degree`."
   ]
  },
  {
   "cell_type": "code",
   "execution_count": 16,
   "metadata": {
    "execution": {
     "iopub.execute_input": "2024-11-06T17:15:22.928844Z",
     "iopub.status.busy": "2024-11-06T17:15:22.928343Z",
     "iopub.status.idle": "2024-11-06T17:15:22.934365Z",
     "shell.execute_reply": "2024-11-06T17:15:22.933545Z",
     "shell.execute_reply.started": "2024-11-06T17:15:22.928818Z"
    }
   },
   "outputs": [],
   "source": [
    "d = gte.total_degree(g)\n",
    "g.add_vp('degree', d)"
   ]
  },
  {
   "cell_type": "markdown",
   "metadata": {},
   "source": [
    "## Clustering Coeficient\n",
    "Agora, para calcularmos o clustering, utilizamos a função `local_clustering`"
   ]
  },
  {
   "cell_type": "code",
   "execution_count": 17,
   "metadata": {
    "execution": {
     "iopub.execute_input": "2024-11-06T17:15:22.935780Z",
     "iopub.status.busy": "2024-11-06T17:15:22.935533Z",
     "iopub.status.idle": "2024-11-06T17:15:23.031090Z",
     "shell.execute_reply": "2024-11-06T17:15:23.030220Z",
     "shell.execute_reply.started": "2024-11-06T17:15:22.935762Z"
    }
   },
   "outputs": [],
   "source": [
    "cc = clustering.local_clustering(g)\n",
    "g.add_vp('clustering', cc)"
   ]
  },
  {
   "cell_type": "markdown",
   "metadata": {},
   "source": [
    "## Visualização da Rede\n",
    "Agora com todas as 3 métricas calculadas podemos salvar e visualiza-las na rede."
   ]
  },
  {
   "cell_type": "code",
   "execution_count": 18,
   "metadata": {
    "execution": {
     "iopub.execute_input": "2024-11-06T17:15:23.032487Z",
     "iopub.status.busy": "2024-11-06T17:15:23.032089Z",
     "iopub.status.idle": "2024-11-06T17:16:20.876981Z",
     "shell.execute_reply": "2024-11-06T17:16:20.876069Z",
     "shell.execute_reply.started": "2024-11-06T17:15:23.032466Z"
    }
   },
   "outputs": [],
   "source": [
    "gte.save(g, 'rede_metricas.net.gz')"
   ]
  },
  {
   "cell_type": "code",
   "execution_count": 19,
   "metadata": {
    "execution": {
     "iopub.execute_input": "2024-11-06T17:16:20.878521Z",
     "iopub.status.busy": "2024-11-06T17:16:20.878208Z",
     "iopub.status.idle": "2024-11-06T17:16:20.882387Z",
     "shell.execute_reply": "2024-11-06T17:16:20.881676Z",
     "shell.execute_reply.started": "2024-11-06T17:16:20.878500Z"
    }
   },
   "outputs": [],
   "source": [
    "# r = netpixi.render('rede_metricas.net.gz', infinite=True)"
   ]
  },
  {
   "cell_type": "markdown",
   "metadata": {},
   "source": [
    "Primeiro, mas não menos importante, a visualização padrão da rede, sem a aplicação de nenhuma métrica"
   ]
  },
  {
   "cell_type": "code",
   "execution_count": 20,
   "metadata": {
    "execution": {
     "iopub.execute_input": "2024-11-06T17:16:20.884062Z",
     "iopub.status.busy": "2024-11-06T17:16:20.883641Z",
     "iopub.status.idle": "2024-11-06T17:16:20.897829Z",
     "shell.execute_reply": "2024-11-06T17:16:20.896722Z",
     "shell.execute_reply.started": "2024-11-06T17:16:20.884041Z"
    }
   },
   "outputs": [],
   "source": [
    "#time.sleep(5)\n",
    "# r.vertex_default(size=4, bwidth=1)\n",
    "# r.edge_default(width=1)"
   ]
  },
  {
   "cell_type": "markdown",
   "metadata": {},
   "source": [
    "**OBS.:** Descomente as mudanças de escala para ver o resultado de cada métrica."
   ]
  },
  {
   "cell_type": "code",
   "execution_count": 21,
   "metadata": {
    "execution": {
     "iopub.execute_input": "2024-11-06T17:16:20.902677Z",
     "iopub.status.busy": "2024-11-06T17:16:20.902120Z",
     "iopub.status.idle": "2024-11-06T17:16:20.906447Z",
     "shell.execute_reply": "2024-11-06T17:16:20.905637Z",
     "shell.execute_reply.started": "2024-11-06T17:16:20.902647Z"
    }
   },
   "outputs": [],
   "source": [
    "# r.vertex_scale('closeness', 10, 30)\n",
    "# r.vertex_scale('betweenness', 10, 30)\n",
    "# r.vertex_scale('degree', 10, 30)"
   ]
  }
 ],
 "metadata": {
  "kernelspec": {
   "display_name": "Python 3 (ipykernel)",
   "language": "python",
   "name": "python3"
  },
  "language_info": {
   "codemirror_mode": {
    "name": "ipython",
    "version": 3
   },
   "file_extension": ".py",
   "mimetype": "text/x-python",
   "name": "python",
   "nbconvert_exporter": "python",
   "pygments_lexer": "ipython3",
   "version": "3.12.4"
  }
 },
 "nbformat": 4,
 "nbformat_minor": 4
}
