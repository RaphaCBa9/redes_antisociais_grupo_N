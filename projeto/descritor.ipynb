{
 "cells": [
  {
   "cell_type": "code",
   "execution_count": 1,
   "metadata": {
    "execution": {
     "iopub.execute_input": "2024-11-04T13:27:19.955455Z",
     "iopub.status.busy": "2024-11-04T13:27:19.954637Z",
     "iopub.status.idle": "2024-11-04T13:27:21.895095Z",
     "shell.execute_reply": "2024-11-04T13:27:21.894483Z",
     "shell.execute_reply.started": "2024-11-04T13:27:19.955426Z"
    }
   },
   "outputs": [
    {
     "data": {
      "text/html": [
       "\n",
       "    <script src=\"/static/.hidden/netpixi.min.js\"></script>\n"
      ],
      "text/plain": [
       "<IPython.core.display.HTML object>"
      ]
     },
     "metadata": {},
     "output_type": "display_data"
    }
   ],
   "source": [
    "import pandas as pd\n",
    "import scipy\n",
    "\n",
    "import netpixi\n",
    "import graph_tool_extras as gte\n",
    "\n",
    "import distribution as dst\n",
    "from graph_tool import centrality, clustering\n",
    "\n",
    "import matplotlib.pyplot as plt\n",
    "import seaborn as sns\n",
    "\n",
    "import time"
   ]
  },
  {
   "cell_type": "code",
   "execution_count": 2,
   "metadata": {
    "execution": {
     "iopub.execute_input": "2024-11-04T13:27:21.896242Z",
     "iopub.status.busy": "2024-11-04T13:27:21.895849Z",
     "iopub.status.idle": "2024-11-04T13:27:31.198576Z",
     "shell.execute_reply": "2024-11-04T13:27:31.196745Z",
     "shell.execute_reply.started": "2024-11-04T13:27:21.896224Z"
    }
   },
   "outputs": [],
   "source": [
    "g = gte.load('./rede.net.gz')"
   ]
  },
  {
   "cell_type": "markdown",
   "metadata": {},
   "source": [
    "# Descrição da Rede\n",
    "Obtendo o tamanho da rede (número de vérticies e arestas)."
   ]
  },
  {
   "cell_type": "code",
   "execution_count": 3,
   "metadata": {
    "execution": {
     "iopub.execute_input": "2024-11-04T13:27:31.202074Z",
     "iopub.status.busy": "2024-11-04T13:27:31.201247Z",
     "iopub.status.idle": "2024-11-04T13:27:31.207878Z",
     "shell.execute_reply": "2024-11-04T13:27:31.207158Z",
     "shell.execute_reply.started": "2024-11-04T13:27:31.202051Z"
    }
   },
   "outputs": [
    {
     "name": "stdout",
     "output_type": "stream",
     "text": [
      "Número de Verticies: 10622\n",
      "Número de Arestas: 372015\n"
     ]
    }
   ],
   "source": [
    "print(f'Número de Verticies: {g.num_vertices()}')\n",
    "print(f'Número de Arestas: {g.num_edges()}')"
   ]
  },
  {
   "cell_type": "markdown",
   "metadata": {},
   "source": [
    "Obtendo a densidade da rede por meio da função `density`."
   ]
  },
  {
   "cell_type": "code",
   "execution_count": 4,
   "metadata": {
    "execution": {
     "iopub.execute_input": "2024-11-04T13:27:31.209236Z",
     "iopub.status.busy": "2024-11-04T13:27:31.208986Z",
     "iopub.status.idle": "2024-11-04T13:27:31.214816Z",
     "shell.execute_reply": "2024-11-04T13:27:31.213841Z",
     "shell.execute_reply.started": "2024-11-04T13:27:31.209217Z"
    }
   },
   "outputs": [
    {
     "name": "stdout",
     "output_type": "stream",
     "text": [
      "Densidade: 0.659506%\n"
     ]
    }
   ],
   "source": [
    "print(f'Densidade: {g.density()}%')"
   ]
  },
  {
   "cell_type": "markdown",
   "metadata": {},
   "source": [
    "Obentendo a transitividade da rede por meio da função `transitivity`."
   ]
  },
  {
   "cell_type": "code",
   "execution_count": 5,
   "metadata": {
    "execution": {
     "iopub.execute_input": "2024-11-04T13:27:31.216803Z",
     "iopub.status.busy": "2024-11-04T13:27:31.216161Z",
     "iopub.status.idle": "2024-11-04T13:27:31.499905Z",
     "shell.execute_reply": "2024-11-04T13:27:31.499144Z",
     "shell.execute_reply.started": "2024-11-04T13:27:31.216776Z"
    }
   },
   "outputs": [
    {
     "name": "stdout",
     "output_type": "stream",
     "text": [
      "Transitividade: 19.561107%\n"
     ]
    }
   ],
   "source": [
    "print(f'Transitividade: {g.transitivity()}%')"
   ]
  },
  {
   "cell_type": "markdown",
   "metadata": {
    "editable": true,
    "slideshow": {
     "slide_type": ""
    },
    "tags": []
   },
   "source": [
    "Obtendo o número total de vizinhos de cada um dos vérticies por meio da função `get_total_degrees`.  "
   ]
  },
  {
   "cell_type": "code",
   "execution_count": 6,
   "metadata": {
    "execution": {
     "iopub.execute_input": "2024-11-04T13:27:31.503206Z",
     "iopub.status.busy": "2024-11-04T13:27:31.502587Z",
     "iopub.status.idle": "2024-11-04T13:27:31.509630Z",
     "shell.execute_reply": "2024-11-04T13:27:31.508880Z",
     "shell.execute_reply.started": "2024-11-04T13:27:31.503184Z"
    }
   },
   "outputs": [],
   "source": [
    "degrees = g.get_total_degrees()"
   ]
  },
  {
   "cell_type": "code",
   "execution_count": 7,
   "metadata": {
    "execution": {
     "iopub.execute_input": "2024-11-04T13:27:31.511456Z",
     "iopub.status.busy": "2024-11-04T13:27:31.510749Z",
     "iopub.status.idle": "2024-11-04T13:27:31.537933Z",
     "shell.execute_reply": "2024-11-04T13:27:31.537219Z",
     "shell.execute_reply.started": "2024-11-04T13:27:31.511430Z"
    }
   },
   "outputs": [
    {
     "data": {
      "text/plain": [
       "count    10622.000000\n",
       "mean        70.046131\n",
       "std        271.401411\n",
       "min          1.000000\n",
       "25%          2.000000\n",
       "50%          7.000000\n",
       "75%         36.000000\n",
       "max       9237.000000\n",
       "dtype: float64"
      ]
     },
     "execution_count": 7,
     "metadata": {},
     "output_type": "execute_result"
    }
   ],
   "source": [
    "degrees.describe()"
   ]
  },
  {
   "cell_type": "code",
   "execution_count": 8,
   "metadata": {
    "execution": {
     "iopub.execute_input": "2024-11-04T13:27:31.539202Z",
     "iopub.status.busy": "2024-11-04T13:27:31.538823Z",
     "iopub.status.idle": "2024-11-04T13:27:31.739978Z",
     "shell.execute_reply": "2024-11-04T13:27:31.739269Z",
     "shell.execute_reply.started": "2024-11-04T13:27:31.539185Z"
    }
   },
   "outputs": [
    {
     "data": {
      "image/png": "[encoded data removed]",
      "text/plain": [
       "<Figure size 640x480 with 1 Axes>"
      ]
     },
     "metadata": {},
     "output_type": "display_data"
    }
   ],
   "source": [
    "degrees.hist(bins=100, edgecolor='white', linewidth=0.5);"
   ]
  },
  {
   "cell_type": "markdown",
   "metadata": {
    "execution": {
     "iopub.execute_input": "2024-08-29T14:12:23.640900Z",
     "iopub.status.busy": "2024-08-29T14:12:23.639559Z",
     "iopub.status.idle": "2024-08-29T14:12:23.655216Z",
     "shell.execute_reply": "2024-08-29T14:12:23.652149Z",
     "shell.execute_reply.started": "2024-08-29T14:12:23.640849Z"
    }
   },
   "source": [
    "Analizando a **normalidade** da destribuição dos `degree` através da função `not_normal`."
   ]
  },
  {
   "cell_type": "code",
   "execution_count": 9,
   "metadata": {
    "execution": {
     "iopub.execute_input": "2024-11-04T13:27:31.740936Z",
     "iopub.status.busy": "2024-11-04T13:27:31.740738Z",
     "iopub.status.idle": "2024-11-04T13:27:31.748955Z",
     "shell.execute_reply": "2024-11-04T13:27:31.748011Z",
     "shell.execute_reply.started": "2024-11-04T13:27:31.740919Z"
    }
   },
   "outputs": [
    {
     "name": "stdout",
     "output_type": "stream",
     "text": [
      "Not Normal: <0.001\n"
     ]
    }
   ],
   "source": [
    "p_value = dst.not_normal(degrees)\n",
    "print(f'Not Normal: {'<0.001' if p_value < 0.001 else float(p_value)}')"
   ]
  },
  {
   "cell_type": "markdown",
   "metadata": {
    "execution": {
     "iopub.execute_input": "2024-08-29T14:12:23.640900Z",
     "iopub.status.busy": "2024-08-29T14:12:23.639559Z",
     "iopub.status.idle": "2024-08-29T14:12:23.655216Z",
     "shell.execute_reply": "2024-08-29T14:12:23.652149Z",
     "shell.execute_reply.started": "2024-08-29T14:12:23.640849Z"
    }
   },
   "source": [
    "Analizando se a destribuição dos `degree` é mais **power law** do que **lognormal** através da função `more_powerlaw_than_lognormal`."
   ]
  },
  {
   "cell_type": "code",
   "execution_count": 10,
   "metadata": {
    "execution": {
     "iopub.execute_input": "2024-11-04T13:27:31.750611Z",
     "iopub.status.busy": "2024-11-04T13:27:31.750064Z",
     "iopub.status.idle": "2024-11-04T13:27:31.896541Z",
     "shell.execute_reply": "2024-11-04T13:27:31.895727Z",
     "shell.execute_reply.started": "2024-11-04T13:27:31.750587Z"
    }
   },
   "outputs": [
    {
     "name": "stdout",
     "output_type": "stream",
     "text": [
      "More Powerlaw than Lognormal: <0.001 \n"
     ]
    },
    {
     "name": "stderr",
     "output_type": "stream",
     "text": [
      "Calculating best minimal value for power law fit\n",
      "/opt/miniconda/envs/jupyterlab/lib/python3.12/site-packages/powerlaw.py:699: RuntimeWarning: invalid value encountered in divide\n",
      "  (CDF_diff**2) /\n"
     ]
    }
   ],
   "source": [
    "powerlaw, p_value = dst.more_powerlaw_than_lognormal(degrees)\n",
    "print(f'More Powerlaw than Lognormal: {'{float(p_value)} (Inconclusivo)' if 0.05 < p_value < 0.1 else ('<0.001' if  p_value < 0.001 else float(p_value))} {'[powerlaw]' if powerlaw else ''}')"
   ]
  },
  {
   "cell_type": "markdown",
   "metadata": {
    "execution": {
     "iopub.execute_input": "2024-08-29T14:12:23.640900Z",
     "iopub.status.busy": "2024-08-29T14:12:23.639559Z",
     "iopub.status.idle": "2024-08-29T14:12:23.655216Z",
     "shell.execute_reply": "2024-08-29T14:12:23.652149Z",
     "shell.execute_reply.started": "2024-08-29T14:12:23.640849Z"
    }
   },
   "source": [
    "Analizando se a destribuição dos `degree` é mais **power law** do que **exponential** através da função `more_powerlaw_than_exponential`."
   ]
  },
  {
   "cell_type": "code",
   "execution_count": 11,
   "metadata": {
    "execution": {
     "iopub.execute_input": "2024-11-04T13:27:31.897912Z",
     "iopub.status.busy": "2024-11-04T13:27:31.897437Z",
     "iopub.status.idle": "2024-11-04T13:27:31.982480Z",
     "shell.execute_reply": "2024-11-04T13:27:31.981840Z",
     "shell.execute_reply.started": "2024-11-04T13:27:31.897890Z"
    }
   },
   "outputs": [
    {
     "name": "stderr",
     "output_type": "stream",
     "text": [
      "Calculating best minimal value for power law fit\n"
     ]
    },
    {
     "name": "stdout",
     "output_type": "stream",
     "text": [
      "More Powerlaw than Exponential: <0.001 [powerlaw]\n"
     ]
    }
   ],
   "source": [
    "powerlaw, p_value = dst.more_powerlaw_than_exponential(degrees)\n",
    "print(f'More Powerlaw than Exponential: {f'{float(p_value)} (Inconclusivo)' if 0.05 < p_value < 0.1 else ('<0.001' if  p_value < 0.001 else float(p_value))} {'[powerlaw]' if powerlaw else ''}')"
   ]
  },
  {
   "cell_type": "markdown",
   "metadata": {
    "editable": true,
    "slideshow": {
     "slide_type": ""
    },
    "tags": []
   },
   "source": [
    "## Distâncias\n",
    "\n",
    "Obtendo as distâncias entre cada vérticie da rede por meio da função `get_distances`.\n",
    "\n",
    "**OBS.:** Essas funçãoes estão comentadas pois, mesmoq eu a `get_distances` consiga rodar, o kernel tende a crashar sem conseguir rodar o `discribe` ou o `hist`, impossibilitando continuar executando o resto do notebook."
   ]
  },
  {
   "cell_type": "code",
   "execution_count": 12,
   "metadata": {
    "execution": {
     "iopub.execute_input": "2024-11-04T13:27:31.983642Z",
     "iopub.status.busy": "2024-11-04T13:27:31.983346Z",
     "iopub.status.idle": "2024-11-04T13:28:58.143127Z",
     "shell.execute_reply": "2024-11-04T13:28:58.142036Z",
     "shell.execute_reply.started": "2024-11-04T13:27:31.983614Z"
    }
   },
   "outputs": [
    {
     "data": {
      "text/plain": [
       "count    1.128269e+08\n",
       "mean     2.125358e+00\n",
       "std      3.739202e-01\n",
       "min      0.000000e+00\n",
       "max      7.000000e+00\n",
       "dtype: float64"
      ]
     },
     "execution_count": 12,
     "metadata": {},
     "output_type": "execute_result"
    }
   ],
   "source": [
    "g.describe_distances()"
   ]
  },
  {
   "cell_type": "code",
   "execution_count": 13,
   "metadata": {
    "execution": {
     "iopub.execute_input": "2024-11-04T13:28:58.145431Z",
     "iopub.status.busy": "2024-11-04T13:28:58.144665Z",
     "iopub.status.idle": "2024-11-04T13:29:03.932970Z",
     "shell.execute_reply": "2024-11-04T13:29:03.931969Z",
     "shell.execute_reply.started": "2024-11-04T13:28:58.145405Z"
    }
   },
   "outputs": [
    {
     "data": {
      "image/png": "[encoded data removed]",
      "text/plain": [
       "<Figure size 640x480 with 1 Axes>"
      ]
     },
     "metadata": {},
     "output_type": "display_data"
    }
   ],
   "source": [
    "g.hist_distances()"
   ]
  },
  {
   "cell_type": "markdown",
   "metadata": {},
   "source": [
    "# Métricas da Rede\n",
    "\n",
    "## Closeness\n",
    "Primeiro, calculamos a centralidade _closeness_ com `closeness`."
   ]
  },
  {
   "cell_type": "code",
   "execution_count": 14,
   "metadata": {
    "execution": {
     "iopub.execute_input": "2024-11-04T13:29:03.934450Z",
     "iopub.status.busy": "2024-11-04T13:29:03.933928Z",
     "iopub.status.idle": "2024-11-04T13:29:09.492911Z",
     "shell.execute_reply": "2024-11-04T13:29:09.492163Z",
     "shell.execute_reply.started": "2024-11-04T13:29:03.934430Z"
    }
   },
   "outputs": [],
   "source": [
    "c = centrality.closeness(g, harmonic=True)\n",
    "g.add_vp('closeness', c)"
   ]
  },
  {
   "cell_type": "markdown",
   "metadata": {},
   "source": [
    "Depois, adicionamos a propriedade de vértice ao grafo com `add_vp`."
   ]
  },
  {
   "cell_type": "markdown",
   "metadata": {},
   "source": [
    "## Betweeness\n",
    "Agora, para calcularmos o _betweeness_, utilizamos a função `betweenness`."
   ]
  },
  {
   "cell_type": "code",
   "execution_count": 15,
   "metadata": {
    "execution": {
     "iopub.execute_input": "2024-11-04T13:29:09.493892Z",
     "iopub.status.busy": "2024-11-04T13:29:09.493694Z",
     "iopub.status.idle": "2024-11-04T13:29:20.442805Z",
     "shell.execute_reply": "2024-11-04T13:29:20.441542Z",
     "shell.execute_reply.started": "2024-11-04T13:29:09.493865Z"
    }
   },
   "outputs": [],
   "source": [
    "b, _ = centrality.betweenness(g)\n",
    "g.add_vp('betweenness', b)"
   ]
  },
  {
   "cell_type": "markdown",
   "metadata": {},
   "source": [
    "## Degrees\n",
    "Para calcular a centralidade _degree_, utilizamos a função `total_degree`."
   ]
  },
  {
   "cell_type": "code",
   "execution_count": 16,
   "metadata": {
    "execution": {
     "iopub.execute_input": "2024-11-04T13:29:20.444992Z",
     "iopub.status.busy": "2024-11-04T13:29:20.444476Z",
     "iopub.status.idle": "2024-11-04T13:29:20.451640Z",
     "shell.execute_reply": "2024-11-04T13:29:20.450756Z",
     "shell.execute_reply.started": "2024-11-04T13:29:20.444970Z"
    }
   },
   "outputs": [],
   "source": [
    "d = gte.total_degree(g)\n",
    "g.add_vp('degree', d)"
   ]
  },
  {
   "cell_type": "markdown",
   "metadata": {},
   "source": [
    "## Clustering Coeficient\n",
    "Agora, para calcularmos o clustering, utilizamos a função `local_clustering`"
   ]
  },
  {
   "cell_type": "code",
   "execution_count": 17,
   "metadata": {
    "execution": {
     "iopub.execute_input": "2024-11-04T13:29:20.453318Z",
     "iopub.status.busy": "2024-11-04T13:29:20.452697Z",
     "iopub.status.idle": "2024-11-04T13:29:20.741753Z",
     "shell.execute_reply": "2024-11-04T13:29:20.740854Z",
     "shell.execute_reply.started": "2024-11-04T13:29:20.453295Z"
    }
   },
   "outputs": [],
   "source": [
    "cc = clustering.local_clustering(g)\n",
    "g.add_vp('clustering', cc)"
   ]
  },
  {
   "cell_type": "markdown",
   "metadata": {},
   "source": [
    "## Visualização da Rede\n",
    "Agora com todas as 3 métricas calculadas podemos salvar e visualiza-las na rede."
   ]
  },
  {
   "cell_type": "code",
   "execution_count": 18,
   "metadata": {
    "execution": {
     "iopub.execute_input": "2024-11-04T13:29:20.743017Z",
     "iopub.status.busy": "2024-11-04T13:29:20.742767Z",
     "iopub.status.idle": "2024-11-04T13:29:38.969411Z",
     "shell.execute_reply": "2024-11-04T13:29:38.968656Z",
     "shell.execute_reply.started": "2024-11-04T13:29:20.742999Z"
    }
   },
   "outputs": [],
   "source": [
    "gte.save(g, 'rede_metricas.net.gz')"
   ]
  },
  {
   "cell_type": "code",
   "execution_count": 19,
   "metadata": {
    "execution": {
     "iopub.execute_input": "2024-11-04T13:29:38.970711Z",
     "iopub.status.busy": "2024-11-04T13:29:38.970399Z",
     "iopub.status.idle": "2024-11-04T13:29:38.974502Z",
     "shell.execute_reply": "2024-11-04T13:29:38.973721Z",
     "shell.execute_reply.started": "2024-11-04T13:29:38.970681Z"
    },
    "scrolled": true
   },
   "outputs": [],
   "source": [
    "# r = netpixi.render('rede_metricas.net.gz', infinite=True)"
   ]
  },
  {
   "cell_type": "markdown",
   "metadata": {},
   "source": [
    "Primeiro, mas não menos importante, a visualização padrão da rede, sem a aplicação de nenhuma métrica"
   ]
  },
  {
   "cell_type": "code",
   "execution_count": 20,
   "metadata": {
    "execution": {
     "iopub.execute_input": "2024-11-04T13:29:38.975816Z",
     "iopub.status.busy": "2024-11-04T13:29:38.975544Z",
     "iopub.status.idle": "2024-11-04T13:29:38.985893Z",
     "shell.execute_reply": "2024-11-04T13:29:38.985065Z",
     "shell.execute_reply.started": "2024-11-04T13:29:38.975796Z"
    }
   },
   "outputs": [],
   "source": [
    "# time.sleep(5)\n",
    "# r.vertex_default(size=4, bwidth=1)\n",
    "# r.edge_default(width=1)"
   ]
  },
  {
   "cell_type": "markdown",
   "metadata": {},
   "source": [
    "**OBS.:** Descomente as mudanças de escala para ver o resultado de cada métrica."
   ]
  },
  {
   "cell_type": "code",
   "execution_count": 21,
   "metadata": {
    "execution": {
     "iopub.execute_input": "2024-11-04T13:29:38.989602Z",
     "iopub.status.busy": "2024-11-04T13:29:38.989074Z",
     "iopub.status.idle": "2024-11-04T13:29:38.993379Z",
     "shell.execute_reply": "2024-11-04T13:29:38.992335Z",
     "shell.execute_reply.started": "2024-11-04T13:29:38.989581Z"
    }
   },
   "outputs": [],
   "source": [
    "# r.vertex_scale('closeness', 10, 30)\n",
    "# r.vertex_scale('betweenness', 10, 30)\n",
    "# r.vertex_scale('degree', 10, 30)"
   ]
  }
 ],
 "metadata": {
  "kernelspec": {
   "display_name": "Python 3 (ipykernel)",
   "language": "python",
   "name": "python3"
  },
  "language_info": {
   "codemirror_mode": {
    "name": "ipython",
    "version": 3
   },
   "file_extension": ".py",
   "mimetype": "text/x-python",
   "name": "python",
   "nbconvert_exporter": "python",
   "pygments_lexer": "ipython3",
   "version": "3.12.4"
  }
 },
 "nbformat": 4,
 "nbformat_minor": 4
}
