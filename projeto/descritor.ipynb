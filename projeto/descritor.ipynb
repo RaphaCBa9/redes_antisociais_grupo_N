{
 "cells": [
  {
   "cell_type": "code",
   "execution_count": 1,
   "metadata": {
    "execution": {
     "iopub.execute_input": "2024-09-25T17:17:46.416106Z",
     "iopub.status.busy": "2024-09-25T17:17:46.415888Z",
     "iopub.status.idle": "2024-09-25T17:17:49.476652Z",
     "shell.execute_reply": "2024-09-25T17:17:49.475846Z",
     "shell.execute_reply.started": "2024-09-25T17:17:46.416085Z"
    }
   },
   "outputs": [
    {
     "data": {
      "text/html": [
       "\n",
       "    <script src=\"/static/.hidden/netpixi.min.js\"></script>\n"
      ],
      "text/plain": [
       "<IPython.core.display.HTML object>"
      ]
     },
     "metadata": {},
     "output_type": "display_data"
    }
   ],
   "source": [
    "import pandas as pd\n",
    "import scipy\n",
    "\n",
    "import netpixi\n",
    "import graph_tool_extras as gte\n",
    "\n",
    "import distribution as dst\n",
    "from graph_tool import centrality\n",
    "\n",
    "import matplotlib.pyplot as plt\n",
    "import seaborn as sns\n",
    "\n",
    "import time"
   ]
  },
  {
   "cell_type": "code",
   "execution_count": 2,
   "metadata": {
    "execution": {
     "iopub.execute_input": "2024-09-25T17:17:49.479069Z",
     "iopub.status.busy": "2024-09-25T17:17:49.478149Z",
     "iopub.status.idle": "2024-09-25T17:17:58.306873Z",
     "shell.execute_reply": "2024-09-25T17:17:58.305875Z",
     "shell.execute_reply.started": "2024-09-25T17:17:49.479045Z"
    }
   },
   "outputs": [],
   "source": [
    "g = gte.load('./rede.net.gz')"
   ]
  },
  {
   "cell_type": "markdown",
   "metadata": {},
   "source": [
    "# Descrição da Rede\n",
    "Obtendo o tamanho da rede (número de vérticies e arestas)."
   ]
  },
  {
   "cell_type": "code",
   "execution_count": 3,
   "metadata": {
    "execution": {
     "iopub.execute_input": "2024-09-25T17:17:58.308413Z",
     "iopub.status.busy": "2024-09-25T17:17:58.308114Z",
     "iopub.status.idle": "2024-09-25T17:17:58.313521Z",
     "shell.execute_reply": "2024-09-25T17:17:58.312602Z",
     "shell.execute_reply.started": "2024-09-25T17:17:58.308392Z"
    }
   },
   "outputs": [
    {
     "name": "stdout",
     "output_type": "stream",
     "text": [
      "Número de Verticies: 10267\n",
      "Número de Arestas: 343973\n"
     ]
    }
   ],
   "source": [
    "print(f'Número de Verticies: {g.num_vertices()}')\n",
    "print(f'Número de Arestas: {g.num_edges()}')"
   ]
  },
  {
   "cell_type": "markdown",
   "metadata": {},
   "source": [
    "Obtendo a densidade da rede por meio da função `density`."
   ]
  },
  {
   "cell_type": "code",
   "execution_count": 4,
   "metadata": {
    "execution": {
     "iopub.execute_input": "2024-09-25T17:17:58.314543Z",
     "iopub.status.busy": "2024-09-25T17:17:58.314335Z",
     "iopub.status.idle": "2024-09-25T17:17:58.319304Z",
     "shell.execute_reply": "2024-09-25T17:17:58.318472Z",
     "shell.execute_reply.started": "2024-09-25T17:17:58.314525Z"
    }
   },
   "outputs": [
    {
     "name": "stdout",
     "output_type": "stream",
     "text": [
      "Densidade: 0.652694%\n"
     ]
    }
   ],
   "source": [
    "print(f'Densidade: {g.density()}%')"
   ]
  },
  {
   "cell_type": "markdown",
   "metadata": {},
   "source": [
    "Obentendo a transitividade da rede por meio da função `transitivity`."
   ]
  },
  {
   "cell_type": "code",
   "execution_count": 5,
   "metadata": {
    "execution": {
     "iopub.execute_input": "2024-09-25T17:17:58.320713Z",
     "iopub.status.busy": "2024-09-25T17:17:58.320259Z",
     "iopub.status.idle": "2024-09-25T17:17:58.572439Z",
     "shell.execute_reply": "2024-09-25T17:17:58.571585Z",
     "shell.execute_reply.started": "2024-09-25T17:17:58.320687Z"
    }
   },
   "outputs": [
    {
     "name": "stdout",
     "output_type": "stream",
     "text": [
      "Transitividade: 19.376665%\n"
     ]
    }
   ],
   "source": [
    "print(f'Transitividade: {g.transitivity()}%')"
   ]
  },
  {
   "cell_type": "markdown",
   "metadata": {
    "editable": true,
    "slideshow": {
     "slide_type": ""
    },
    "tags": []
   },
   "source": [
    "Obtendo o número total de vizinhos de cada um dos vérticies por meio da função `get_total_degrees`.  "
   ]
  },
  {
   "cell_type": "code",
   "execution_count": 6,
   "metadata": {
    "execution": {
     "iopub.execute_input": "2024-09-25T17:17:58.573875Z",
     "iopub.status.busy": "2024-09-25T17:17:58.573462Z",
     "iopub.status.idle": "2024-09-25T17:17:58.591526Z",
     "shell.execute_reply": "2024-09-25T17:17:58.590596Z",
     "shell.execute_reply.started": "2024-09-25T17:17:58.573855Z"
    }
   },
   "outputs": [],
   "source": [
    "degrees = g.get_total_degrees()"
   ]
  },
  {
   "cell_type": "code",
   "execution_count": 7,
   "metadata": {
    "execution": {
     "iopub.execute_input": "2024-09-25T17:17:58.592529Z",
     "iopub.status.busy": "2024-09-25T17:17:58.592326Z",
     "iopub.status.idle": "2024-09-25T17:17:58.611229Z",
     "shell.execute_reply": "2024-09-25T17:17:58.610497Z",
     "shell.execute_reply.started": "2024-09-25T17:17:58.592509Z"
    }
   },
   "outputs": [
    {
     "data": {
      "text/plain": [
       "count    10267.000000\n",
       "mean        67.005552\n",
       "std        261.572353\n",
       "min          1.000000\n",
       "25%          2.000000\n",
       "50%          7.000000\n",
       "75%         34.000000\n",
       "max       8956.000000\n",
       "dtype: float64"
      ]
     },
     "execution_count": 7,
     "metadata": {},
     "output_type": "execute_result"
    }
   ],
   "source": [
    "degrees.describe()"
   ]
  },
  {
   "cell_type": "code",
   "execution_count": 8,
   "metadata": {
    "execution": {
     "iopub.execute_input": "2024-09-25T17:17:58.614084Z",
     "iopub.status.busy": "2024-09-25T17:17:58.613529Z",
     "iopub.status.idle": "2024-09-25T17:17:58.824723Z",
     "shell.execute_reply": "2024-09-25T17:17:58.823952Z",
     "shell.execute_reply.started": "2024-09-25T17:17:58.614058Z"
    }
   },
   "outputs": [
    {
     "data": {
      "image/png": "[encoded data removed]",
      "text/plain": [
       "<Figure size 640x480 with 1 Axes>"
      ]
     },
     "metadata": {},
     "output_type": "display_data"
    }
   ],
   "source": [
    "degrees.hist(bins=100, edgecolor='white', linewidth=0.5);"
   ]
  },
  {
   "cell_type": "markdown",
   "metadata": {
    "execution": {
     "iopub.execute_input": "2024-08-29T14:12:23.640900Z",
     "iopub.status.busy": "2024-08-29T14:12:23.639559Z",
     "iopub.status.idle": "2024-08-29T14:12:23.655216Z",
     "shell.execute_reply": "2024-08-29T14:12:23.652149Z",
     "shell.execute_reply.started": "2024-08-29T14:12:23.640849Z"
    }
   },
   "source": [
    "Analizando a **normalidade** da destribuição dos `degree` através da função `not_normal`."
   ]
  },
  {
   "cell_type": "code",
   "execution_count": 9,
   "metadata": {
    "execution": {
     "iopub.execute_input": "2024-09-25T17:17:58.826545Z",
     "iopub.status.busy": "2024-09-25T17:17:58.826009Z",
     "iopub.status.idle": "2024-09-25T17:17:58.834144Z",
     "shell.execute_reply": "2024-09-25T17:17:58.833293Z",
     "shell.execute_reply.started": "2024-09-25T17:17:58.826516Z"
    }
   },
   "outputs": [
    {
     "name": "stdout",
     "output_type": "stream",
     "text": [
      "Not Normal: <0.001\n"
     ]
    }
   ],
   "source": [
    "p_value = dst.not_normal(degrees)\n",
    "print(f'Not Normal: {'<0.001' if p_value < 0.001 else float(p_value)}')"
   ]
  },
  {
   "cell_type": "markdown",
   "metadata": {
    "execution": {
     "iopub.execute_input": "2024-08-29T14:12:23.640900Z",
     "iopub.status.busy": "2024-08-29T14:12:23.639559Z",
     "iopub.status.idle": "2024-08-29T14:12:23.655216Z",
     "shell.execute_reply": "2024-08-29T14:12:23.652149Z",
     "shell.execute_reply.started": "2024-08-29T14:12:23.640849Z"
    }
   },
   "source": [
    "Analizando se a destribuição dos `degree` é mais **power law** do que **lognormal** através da função `more_powerlaw_than_lognormal`."
   ]
  },
  {
   "cell_type": "code",
   "execution_count": 10,
   "metadata": {
    "execution": {
     "iopub.execute_input": "2024-09-25T17:17:58.835770Z",
     "iopub.status.busy": "2024-09-25T17:17:58.835122Z",
     "iopub.status.idle": "2024-09-25T17:17:58.979510Z",
     "shell.execute_reply": "2024-09-25T17:17:58.978853Z",
     "shell.execute_reply.started": "2024-09-25T17:17:58.835744Z"
    }
   },
   "outputs": [
    {
     "name": "stdout",
     "output_type": "stream",
     "text": [
      "More Powerlaw than Lognormal: 0.046531682377245774 \n"
     ]
    },
    {
     "name": "stderr",
     "output_type": "stream",
     "text": [
      "Calculating best minimal value for power law fit\n",
      "/opt/miniconda/envs/jupyterlab/lib/python3.12/site-packages/powerlaw.py:699: RuntimeWarning: invalid value encountered in divide\n",
      "  (CDF_diff**2) /\n"
     ]
    }
   ],
   "source": [
    "powerlaw, p_value = dst.more_powerlaw_than_lognormal(degrees)\n",
    "print(f'More Powerlaw than Lognormal: {'{float(p_value)} (Inconclusivo)' if 0.05 < p_value < 0.1 else ('<0.001' if  p_value < 0.001 else float(p_value))} {'[powerlaw]' if powerlaw else ''}')"
   ]
  },
  {
   "cell_type": "markdown",
   "metadata": {
    "execution": {
     "iopub.execute_input": "2024-08-29T14:12:23.640900Z",
     "iopub.status.busy": "2024-08-29T14:12:23.639559Z",
     "iopub.status.idle": "2024-08-29T14:12:23.655216Z",
     "shell.execute_reply": "2024-08-29T14:12:23.652149Z",
     "shell.execute_reply.started": "2024-08-29T14:12:23.640849Z"
    }
   },
   "source": [
    "Analizando se a destribuição dos `degree` é mais **power law** do que **exponential** através da função `more_powerlaw_than_exponential`."
   ]
  },
  {
   "cell_type": "code",
   "execution_count": 11,
   "metadata": {
    "execution": {
     "iopub.execute_input": "2024-09-25T17:17:58.981299Z",
     "iopub.status.busy": "2024-09-25T17:17:58.980709Z",
     "iopub.status.idle": "2024-09-25T17:17:59.062580Z",
     "shell.execute_reply": "2024-09-25T17:17:59.061802Z",
     "shell.execute_reply.started": "2024-09-25T17:17:58.981271Z"
    }
   },
   "outputs": [
    {
     "name": "stderr",
     "output_type": "stream",
     "text": [
      "Calculating best minimal value for power law fit\n"
     ]
    },
    {
     "name": "stdout",
     "output_type": "stream",
     "text": [
      "More Powerlaw than Exponential: 0.05061495761099613 (Inconclusivo) [powerlaw]\n"
     ]
    }
   ],
   "source": [
    "powerlaw, p_value = dst.more_powerlaw_than_exponential(degrees)\n",
    "print(f'More Powerlaw than Exponential: {f'{float(p_value)} (Inconclusivo)' if 0.05 < p_value < 0.1 else ('<0.001' if  p_value < 0.001 else float(p_value))} {'[powerlaw]' if powerlaw else ''}')"
   ]
  },
  {
   "cell_type": "markdown",
   "metadata": {
    "editable": true,
    "slideshow": {
     "slide_type": ""
    },
    "tags": []
   },
   "source": [
    "## Distâncias\n",
    "\n",
    "Obtendo as distâncias entre cada vérticie da rede por meio da função `get_distances`.\n",
    "\n",
    "**OBS.:** Essas funçãoes estão comentadas pois, mesmoq eu a `get_distances` consiga rodar, o kernel tende a crashar sem conseguir rodar o `discribe` ou o `hist`, impossibilitando continuar executando o resto do notebook."
   ]
  },
  {
   "cell_type": "code",
   "execution_count": 12,
   "metadata": {
    "execution": {
     "iopub.execute_input": "2024-09-25T17:17:59.063998Z",
     "iopub.status.busy": "2024-09-25T17:17:59.063457Z",
     "iopub.status.idle": "2024-09-25T17:19:25.942415Z",
     "shell.execute_reply": "2024-09-25T17:19:25.941701Z",
     "shell.execute_reply.started": "2024-09-25T17:17:59.063976Z"
    }
   },
   "outputs": [
    {
     "data": {
      "text/plain": [
       "count    1.054113e+08\n",
       "mean     2.125431e+00\n",
       "std      3.768077e-01\n",
       "min      0.000000e+00\n",
       "max      8.000000e+00\n",
       "dtype: float64"
      ]
     },
     "execution_count": 12,
     "metadata": {},
     "output_type": "execute_result"
    }
   ],
   "source": [
    "g.describe_distances()"
   ]
  },
  {
   "cell_type": "code",
   "execution_count": 13,
   "metadata": {
    "execution": {
     "iopub.execute_input": "2024-09-25T17:19:25.943765Z",
     "iopub.status.busy": "2024-09-25T17:19:25.943399Z",
     "iopub.status.idle": "2024-09-25T17:19:33.017295Z",
     "shell.execute_reply": "2024-09-25T17:19:33.016663Z",
     "shell.execute_reply.started": "2024-09-25T17:19:25.943746Z"
    }
   },
   "outputs": [
    {
     "data": {
      "image/png": "[encoded data removed]",
      "text/plain": [
       "<Figure size 640x480 with 1 Axes>"
      ]
     },
     "metadata": {},
     "output_type": "display_data"
    }
   ],
   "source": [
    "g.hist_distances()"
   ]
  },
  {
   "cell_type": "markdown",
   "metadata": {},
   "source": [
    "# Métricas da Rede\n",
    "\n",
    "## Closeness\n",
    "Primeiro, calculamos a centralidade _closeness_ com `closeness`."
   ]
  },
  {
   "cell_type": "code",
   "execution_count": 14,
   "metadata": {
    "execution": {
     "iopub.execute_input": "2024-09-25T17:19:33.018523Z",
     "iopub.status.busy": "2024-09-25T17:19:33.018275Z",
     "iopub.status.idle": "2024-09-25T17:19:38.715314Z",
     "shell.execute_reply": "2024-09-25T17:19:38.714391Z",
     "shell.execute_reply.started": "2024-09-25T17:19:33.018501Z"
    }
   },
   "outputs": [],
   "source": [
    "c = centrality.closeness(g, harmonic=True)"
   ]
  },
  {
   "cell_type": "markdown",
   "metadata": {},
   "source": [
    "Depois, adicionamos a propriedade de vértice ao grafo com `add_vp`."
   ]
  },
  {
   "cell_type": "code",
   "execution_count": 15,
   "metadata": {
    "execution": {
     "iopub.execute_input": "2024-09-25T17:19:38.716313Z",
     "iopub.status.busy": "2024-09-25T17:19:38.716103Z",
     "iopub.status.idle": "2024-09-25T17:19:38.719736Z",
     "shell.execute_reply": "2024-09-25T17:19:38.718930Z",
     "shell.execute_reply.started": "2024-09-25T17:19:38.716296Z"
    }
   },
   "outputs": [],
   "source": [
    "g.add_vp('closeness', c)"
   ]
  },
  {
   "cell_type": "markdown",
   "metadata": {},
   "source": [
    "## Betweeness\n",
    "Agora, para calcularmos o _betweeness_, utilizamos a função `betweenness`."
   ]
  },
  {
   "cell_type": "code",
   "execution_count": 16,
   "metadata": {
    "execution": {
     "iopub.execute_input": "2024-09-25T17:19:38.721303Z",
     "iopub.status.busy": "2024-09-25T17:19:38.720796Z",
     "iopub.status.idle": "2024-09-25T17:19:47.986081Z",
     "shell.execute_reply": "2024-09-25T17:19:47.985435Z",
     "shell.execute_reply.started": "2024-09-25T17:19:38.721280Z"
    }
   },
   "outputs": [],
   "source": [
    "b, _ = centrality.betweenness(g)"
   ]
  },
  {
   "cell_type": "markdown",
   "metadata": {},
   "source": [
    "Novamente, precisamos adicionar a propriedade de vértice ao grafo com `add_vp`."
   ]
  },
  {
   "cell_type": "code",
   "execution_count": 17,
   "metadata": {
    "execution": {
     "iopub.execute_input": "2024-09-25T17:19:47.987129Z",
     "iopub.status.busy": "2024-09-25T17:19:47.986955Z",
     "iopub.status.idle": "2024-09-25T17:19:47.990620Z",
     "shell.execute_reply": "2024-09-25T17:19:47.989915Z",
     "shell.execute_reply.started": "2024-09-25T17:19:47.987113Z"
    }
   },
   "outputs": [],
   "source": [
    "g.add_vp('betweenness', b)"
   ]
  },
  {
   "cell_type": "markdown",
   "metadata": {},
   "source": [
    "## Degrees\n",
    "Para calcular a centralidade _degree_, utilizamos a função `total_degree`."
   ]
  },
  {
   "cell_type": "code",
   "execution_count": 18,
   "metadata": {
    "execution": {
     "iopub.execute_input": "2024-09-25T17:19:47.991593Z",
     "iopub.status.busy": "2024-09-25T17:19:47.991405Z",
     "iopub.status.idle": "2024-09-25T17:19:47.995895Z",
     "shell.execute_reply": "2024-09-25T17:19:47.995251Z",
     "shell.execute_reply.started": "2024-09-25T17:19:47.991577Z"
    }
   },
   "outputs": [],
   "source": [
    "d = gte.total_degree(g)"
   ]
  },
  {
   "cell_type": "markdown",
   "metadata": {},
   "source": [
    "Adicionamos a propriedade ao grafo."
   ]
  },
  {
   "cell_type": "code",
   "execution_count": 19,
   "metadata": {
    "execution": {
     "iopub.execute_input": "2024-09-25T17:19:47.997033Z",
     "iopub.status.busy": "2024-09-25T17:19:47.996758Z",
     "iopub.status.idle": "2024-09-25T17:19:48.000761Z",
     "shell.execute_reply": "2024-09-25T17:19:48.000060Z",
     "shell.execute_reply.started": "2024-09-25T17:19:47.997012Z"
    }
   },
   "outputs": [],
   "source": [
    "g.add_vp('degree', d)"
   ]
  },
  {
   "cell_type": "markdown",
   "metadata": {},
   "source": [
    "## Visualização da Rede\n",
    "Agora com todas as 3 métricas calculadas podemos salvar e visualiza-las na rede."
   ]
  },
  {
   "cell_type": "code",
   "execution_count": 20,
   "metadata": {
    "execution": {
     "iopub.execute_input": "2024-09-25T17:19:48.002080Z",
     "iopub.status.busy": "2024-09-25T17:19:48.001691Z",
     "iopub.status.idle": "2024-09-25T17:20:03.461183Z",
     "shell.execute_reply": "2024-09-25T17:20:03.460506Z",
     "shell.execute_reply.started": "2024-09-25T17:19:48.002062Z"
    }
   },
   "outputs": [],
   "source": [
    "gte.save(g, 'rede_metricas.net.gz')"
   ]
  },
  {
   "cell_type": "code",
   "execution_count": 21,
   "metadata": {
    "execution": {
     "iopub.execute_input": "2024-09-25T17:20:03.462467Z",
     "iopub.status.busy": "2024-09-25T17:20:03.462007Z",
     "iopub.status.idle": "2024-09-25T17:20:03.478435Z",
     "shell.execute_reply": "2024-09-25T17:20:03.477731Z",
     "shell.execute_reply.started": "2024-09-25T17:20:03.462449Z"
    }
   },
   "outputs": [
    {
     "data": {
      "text/html": [
       "\n",
       "        <div id=\"XvhrexPsgHSbgw88MuKCZt\"></div>\n",
       "        <script>netpixi.render('XvhrexPsgHSbgw88MuKCZt', '/static/__shared__/redes_antisociais_grupo_N/projeto/rede_metricas.net.gz', 1.7777777777777777, true, true, false, true);</script>\n",
       "    "
      ],
      "text/plain": [
       "<IPython.core.display.HTML object>"
      ]
     },
     "metadata": {},
     "output_type": "display_data"
    }
   ],
   "source": [
    "r = netpixi.render('rede_metricas.net.gz', infinite=True)"
   ]
  },
  {
   "cell_type": "markdown",
   "metadata": {},
   "source": [
    "Primeiro, mas não menos importante, a visualização padrão da rede, sem a aplicação de nenhuma métrica"
   ]
  },
  {
   "cell_type": "code",
   "execution_count": 22,
   "metadata": {
    "execution": {
     "iopub.execute_input": "2024-09-25T17:20:03.479650Z",
     "iopub.status.busy": "2024-09-25T17:20:03.479275Z",
     "iopub.status.idle": "2024-09-25T17:20:03.485753Z",
     "shell.execute_reply": "2024-09-25T17:20:03.485100Z",
     "shell.execute_reply.started": "2024-09-25T17:20:03.479632Z"
    }
   },
   "outputs": [
    {
     "data": {
      "text/html": [
       "\n",
       "        <div id=\"C2WSjowwQQFRUSTKswwidj\"></div>\n",
       "        <script>netpixi.call('C2WSjowwQQFRUSTKswwidj', 'XvhrexPsgHSbgw88MuKCZt', 'changeGraph', 'eyJ0eXBlIjogInNldHRpbmdzIiwgInByb3BzIjogeyJ2ZXJ0ZXgiOiB7InNpemUiOiA0LCAiYndpZHRoIjogMX19fQo=');</script>\n",
       "    "
      ],
      "text/plain": [
       "<IPython.core.display.HTML object>"
      ]
     },
     "metadata": {},
     "output_type": "display_data"
    },
    {
     "data": {
      "text/html": [
       "\n",
       "        <div id=\"4g8X2pAWkDtw27t8V6q8kh\"></div>\n",
       "        <script>netpixi.call('4g8X2pAWkDtw27t8V6q8kh', 'XvhrexPsgHSbgw88MuKCZt', 'changeGraph', 'eyJ0eXBlIjogInNldHRpbmdzIiwgInByb3BzIjogeyJlZGdlIjogeyJ3aWR0aCI6IDF9fX0K');</script>\n",
       "    "
      ],
      "text/plain": [
       "<IPython.core.display.HTML object>"
      ]
     },
     "metadata": {},
     "output_type": "display_data"
    }
   ],
   "source": [
    "time.spleep(5)\n",
    "r.vertex_default(size=4, bwidth=1)\n",
    "r.edge_default(width=1)"
   ]
  },
  {
   "cell_type": "markdown",
   "metadata": {},
   "source": [
    "**OBS.:** Descomente as mudanças de escala para ver o resultado de cada métrica."
   ]
  },
  {
   "cell_type": "code",
   "execution_count": 23,
   "metadata": {
    "execution": {
     "iopub.execute_input": "2024-09-25T17:20:03.486828Z",
     "iopub.status.busy": "2024-09-25T17:20:03.486620Z",
     "iopub.status.idle": "2024-09-25T17:20:03.491520Z",
     "shell.execute_reply": "2024-09-25T17:20:03.490746Z",
     "shell.execute_reply.started": "2024-09-25T17:20:03.486812Z"
    }
   },
   "outputs": [
    {
     "data": {
      "text/html": [
       "\n",
       "        <div id=\"4a9RZRz3bmpxxyKkFBXTtY\"></div>\n",
       "        <script>netpixi.call('4a9RZRz3bmpxxyKkFBXTtY', 'XvhrexPsgHSbgw88MuKCZt', 'normalizeGraph', 'eyJ0eXBlIjogInZlcnRleCIsICJwcm9wcyI6IHsic3JjIjogImRlZ3JlZSIsICJtaW4iOiAxMCwgIm1heCI6IDMwfX0K');</script>\n",
       "    "
      ],
      "text/plain": [
       "<IPython.core.display.HTML object>"
      ]
     },
     "metadata": {},
     "output_type": "display_data"
    }
   ],
   "source": [
    "# r.vertex_scale('closeness', 10, 30)\n",
    "# r.vertex_scale('betweenness', 10, 30)\n",
    "# r.vertex_scale('degree', 10, 30)"
   ]
  },
  {
   "cell_type": "markdown",
   "metadata": {},
   "source": [
    "## Gráficos\n",
    "\n",
    "Nessa seção, faremos o _plot_ dos gráficos relacionando _closeness_, _betweenness_ e _degree_, seguindo a ordem apresentada na planilha de entrega da atividade."
   ]
  },
  {
   "cell_type": "code",
   "execution_count": null,
   "metadata": {
    "execution": {
     "execution_failed": "2024-09-25T17:20:16.301Z",
     "iopub.execute_input": "2024-09-25T17:20:03.492928Z",
     "iopub.status.busy": "2024-09-25T17:20:03.492411Z"
    }
   },
   "outputs": [],
   "source": [
    "fig, axes = plt.subplots(3, 3, figsize=(16, 10))\n",
    "\n",
    "fig.suptitle(\"Relação entre as propriedades da rede\")\n",
    "\n",
    "sns.histplot(c, ax=axes[0, 0]).set_title(\"Closeness\")\n",
    "sns.scatterplot(x=b, y=c, ax=axes[0, 1]).set_title(\"Betweenness X Closeness\")\n",
    "sns.scatterplot(x=d, y=c, ax=axes[0, 2]).set_title(\"Degree X Closeness\")\n",
    "\n",
    "sns.scatterplot(x=c, y=b, ax=axes[1, 0]).set_title(\"Closeness X Betweeness\")\n",
    "hist_betweenness = sns.histplot(b, ax=axes[1, 1])\n",
    "hist_betweenness.set_title(\"Betweenness\")\n",
    "hist_betweenness.set_ylim(0, 1000)\n",
    "sns.scatterplot(x=d, y=b, ax=axes[1, 2]).set_title(\"Degree X Betweeness\")\n",
    "\n",
    "sns.scatterplot(x=c, y=d, ax=axes[2, 0]).set_title(\"Closeness X Degree\")\n",
    "sns.scatterplot(x=b, y=d, ax=axes[2, 1]).set_title(\"Betweeness X Degree\")\n",
    "sns.histplot(d, ax=axes[2, 2]).set_title(\"Degree\")\n",
    "\n",
    "plt.show()"
   ]
  },
  {
   "cell_type": "markdown",
   "metadata": {},
   "source": [
    "A célula abaixo possui código para baixar imagens dos gráficos acima, separadamente. Descomentar caso necessário."
   ]
  },
  {
   "cell_type": "code",
   "execution_count": null,
   "metadata": {
    "execution": {
     "execution_failed": "2024-09-25T17:20:16.301Z"
    }
   },
   "outputs": [],
   "source": [
    "import os\n",
    "if not os.path.isdir('img'):\n",
    "    os.mkdir('img')\n",
    "\n",
    "sns.histplot(c).get_figure().savefig('./img/hist_closeness.png')\n",
    "plt.close()\n",
    "sns.scatterplot(x=b, y=c).get_figure().savefig('./img/betweenness_closeness.png')\n",
    "plt.close()\n",
    "sns.scatterplot(x=d, y=c).get_figure().savefig('./img/degree_closeness.png')\n",
    "plt.close()\n",
    "\n",
    "sns.scatterplot(x=c, y=b).get_figure().savefig('./img/closeness_betweenness.png')\n",
    "plt.close()\n",
    "hist_betweenness = sns.histplot(b)\n",
    "hist_betweenness.set_ylim(0, 1000)\n",
    "hist_betweenness.get_figure().savefig('./img/hist_betweenness.png')\n",
    "plt.close()\n",
    "sns.scatterplot(x=d, y=b).get_figure().savefig('./img/degree_betweenness.png')\n",
    "plt.close()\n",
    "\n",
    "sns.scatterplot(x=c, y=d).get_figure().savefig('./img/closeness_degree.png')\n",
    "plt.close()\n",
    "sns.scatterplot(x=b, y=d).get_figure().savefig('./img/betweenness_degree.png')\n",
    "plt.close()\n",
    "sns.histplot(d).get_figure().savefig('./img/hist_degree.png')\n",
    "plt.close()\n",
    "\n"
   ]
  },
  {
   "cell_type": "markdown",
   "metadata": {},
   "source": [
    "## Correlações\n",
    "Para calcular as correlações utilizamos a função `pearsonr` com combinaçãos dos valores de `closeness`, `betweeness` e `degree`, obtendo um coeficiente e um p-valor, este que será convertido em uma escala de asteriscos."
   ]
  },
  {
   "cell_type": "code",
   "execution_count": null,
   "metadata": {
    "execution": {
     "execution_failed": "2024-09-25T17:20:16.301Z"
    }
   },
   "outputs": [],
   "source": [
    "def pearsonr(x, y, ndigits=10):\n",
    "    statistic, p_value = scipy.stats.pearsonr(x, y)\n",
    "    \n",
    "    asterisk = ''\n",
    "    statistic = round(statistic, ndigits)\n",
    "    \n",
    "    if statistic == 1: \n",
    "        asterisk = ' (óbvio)'\n",
    "    elif p_value < 0.01: \n",
    "        asterisk = ' ***'\n",
    "    elif p_value < 0.05: \n",
    "        asterisk = ' **'\n",
    "    elif p_value < 0.1: \n",
    "        asterisk = ' *'\n",
    "        \n",
    "    return f'{statistic} {asterisk}'"
   ]
  },
  {
   "cell_type": "code",
   "execution_count": null,
   "metadata": {
    "execution": {
     "execution_failed": "2024-09-25T17:20:16.301Z"
    },
    "scrolled": true
   },
   "outputs": [],
   "source": [
    "data = [c, b, d]\n",
    "result = pd.DataFrame([ [ pearsonr(j, i) for j in data ] for i in data ])\n",
    "result"
   ]
  }
 ],
 "metadata": {
  "kernelspec": {
   "display_name": "Python 3 (ipykernel)",
   "language": "python",
   "name": "python3"
  },
  "language_info": {
   "codemirror_mode": {
    "name": "ipython",
    "version": 3
   },
   "file_extension": ".py",
   "mimetype": "text/x-python",
   "name": "python",
   "nbconvert_exporter": "python",
   "pygments_lexer": "ipython3",
   "version": "3.12.4"
  }
 },
 "nbformat": 4,
 "nbformat_minor": 4
}
