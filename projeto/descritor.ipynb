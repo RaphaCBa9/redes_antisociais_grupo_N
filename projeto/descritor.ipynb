{
 "cells": [
  {
   "cell_type": "code",
   "execution_count": 19,
   "metadata": {
    "execution": {
     "iopub.execute_input": "2024-10-27T19:52:42.288558Z",
     "iopub.status.busy": "2024-10-27T19:52:42.288001Z",
     "iopub.status.idle": "2024-10-27T19:52:42.292287Z",
     "shell.execute_reply": "2024-10-27T19:52:42.291368Z",
     "shell.execute_reply.started": "2024-10-27T19:52:42.288534Z"
    }
   },
   "outputs": [],
   "source": [
    "import pandas as pd\n",
    "import scipy\n",
    "\n",
    "import netpixi\n",
    "import graph_tool_extras as gte\n",
    "\n",
    "import distribution as dst\n",
    "from graph_tool import centrality, clustering\n",
    "\n",
    "import matplotlib.pyplot as plt\n",
    "import seaborn as sns\n",
    "\n",
    "import time"
   ]
  },
  {
   "cell_type": "code",
   "execution_count": 2,
   "metadata": {
    "execution": {
     "iopub.execute_input": "2024-10-27T19:50:21.329172Z",
     "iopub.status.busy": "2024-10-27T19:50:21.328763Z",
     "iopub.status.idle": "2024-10-27T19:50:30.118325Z",
     "shell.execute_reply": "2024-10-27T19:50:30.117625Z",
     "shell.execute_reply.started": "2024-10-27T19:50:21.329154Z"
    }
   },
   "outputs": [],
   "source": [
    "g = gte.load('./rede.net.gz')"
   ]
  },
  {
   "cell_type": "markdown",
   "metadata": {},
   "source": [
    "# Descrição da Rede\n",
    "Obtendo o tamanho da rede (número de vérticies e arestas)."
   ]
  },
  {
   "cell_type": "code",
   "execution_count": 3,
   "metadata": {
    "execution": {
     "iopub.execute_input": "2024-10-27T19:50:30.119320Z",
     "iopub.status.busy": "2024-10-27T19:50:30.119137Z",
     "iopub.status.idle": "2024-10-27T19:50:30.123284Z",
     "shell.execute_reply": "2024-10-27T19:50:30.122502Z",
     "shell.execute_reply.started": "2024-10-27T19:50:30.119304Z"
    }
   },
   "outputs": [
    {
     "name": "stdout",
     "output_type": "stream",
     "text": [
      "Número de Verticies: 10521\n",
      "Número de Arestas: 365889\n"
     ]
    }
   ],
   "source": [
    "print(f'Número de Verticies: {g.num_vertices()}')\n",
    "print(f'Número de Arestas: {g.num_edges()}')"
   ]
  },
  {
   "cell_type": "markdown",
   "metadata": {},
   "source": [
    "Obtendo a densidade da rede por meio da função `density`."
   ]
  },
  {
   "cell_type": "code",
   "execution_count": 4,
   "metadata": {
    "execution": {
     "iopub.execute_input": "2024-10-27T19:50:30.124564Z",
     "iopub.status.busy": "2024-10-27T19:50:30.124284Z",
     "iopub.status.idle": "2024-10-27T19:50:30.136926Z",
     "shell.execute_reply": "2024-10-27T19:50:30.136179Z",
     "shell.execute_reply.started": "2024-10-27T19:50:30.124544Z"
    }
   },
   "outputs": [
    {
     "name": "stdout",
     "output_type": "stream",
     "text": [
      "Densidade: 0.66116%\n"
     ]
    }
   ],
   "source": [
    "print(f'Densidade: {g.density()}%')"
   ]
  },
  {
   "cell_type": "markdown",
   "metadata": {},
   "source": [
    "Obentendo a transitividade da rede por meio da função `transitivity`."
   ]
  },
  {
   "cell_type": "code",
   "execution_count": 5,
   "metadata": {
    "execution": {
     "iopub.execute_input": "2024-10-27T19:50:30.138312Z",
     "iopub.status.busy": "2024-10-27T19:50:30.137797Z",
     "iopub.status.idle": "2024-10-27T19:50:30.388877Z",
     "shell.execute_reply": "2024-10-27T19:50:30.388187Z",
     "shell.execute_reply.started": "2024-10-27T19:50:30.138292Z"
    }
   },
   "outputs": [
    {
     "name": "stdout",
     "output_type": "stream",
     "text": [
      "Transitividade: 19.563818%\n"
     ]
    }
   ],
   "source": [
    "print(f'Transitividade: {g.transitivity()}%')"
   ]
  },
  {
   "cell_type": "markdown",
   "metadata": {
    "editable": true,
    "slideshow": {
     "slide_type": ""
    },
    "tags": []
   },
   "source": [
    "Obtendo o número total de vizinhos de cada um dos vérticies por meio da função `get_total_degrees`.  "
   ]
  },
  {
   "cell_type": "code",
   "execution_count": 6,
   "metadata": {
    "execution": {
     "iopub.execute_input": "2024-10-27T19:50:30.391248Z",
     "iopub.status.busy": "2024-10-27T19:50:30.390789Z",
     "iopub.status.idle": "2024-10-27T19:50:30.407893Z",
     "shell.execute_reply": "2024-10-27T19:50:30.407033Z",
     "shell.execute_reply.started": "2024-10-27T19:50:30.391230Z"
    }
   },
   "outputs": [],
   "source": [
    "degrees = g.get_total_degrees()"
   ]
  },
  {
   "cell_type": "code",
   "execution_count": 7,
   "metadata": {
    "execution": {
     "iopub.execute_input": "2024-10-27T19:50:30.408976Z",
     "iopub.status.busy": "2024-10-27T19:50:30.408748Z",
     "iopub.status.idle": "2024-10-27T19:50:30.422114Z",
     "shell.execute_reply": "2024-10-27T19:50:30.421426Z",
     "shell.execute_reply.started": "2024-10-27T19:50:30.408959Z"
    }
   },
   "outputs": [
    {
     "data": {
      "text/plain": [
       "count    10521.000000\n",
       "mean        69.554035\n",
       "std        269.313797\n",
       "min          1.000000\n",
       "25%          2.000000\n",
       "50%          7.000000\n",
       "75%         36.000000\n",
       "max       9143.000000\n",
       "dtype: float64"
      ]
     },
     "execution_count": 7,
     "metadata": {},
     "output_type": "execute_result"
    }
   ],
   "source": [
    "degrees.describe()"
   ]
  },
  {
   "cell_type": "code",
   "execution_count": 8,
   "metadata": {
    "execution": {
     "iopub.execute_input": "2024-10-27T19:50:30.423142Z",
     "iopub.status.busy": "2024-10-27T19:50:30.422941Z",
     "iopub.status.idle": "2024-10-27T19:50:30.608040Z",
     "shell.execute_reply": "2024-10-27T19:50:30.607339Z",
     "shell.execute_reply.started": "2024-10-27T19:50:30.423125Z"
    }
   },
   "outputs": [
    {
     "data": {
      "image/png": "[encoded data removed]",
      "text/plain": [
       "<Figure size 640x480 with 1 Axes>"
      ]
     },
     "metadata": {},
     "output_type": "display_data"
    }
   ],
   "source": [
    "degrees.hist(bins=100, edgecolor='white', linewidth=0.5);"
   ]
  },
  {
   "cell_type": "markdown",
   "metadata": {
    "execution": {
     "iopub.execute_input": "2024-08-29T14:12:23.640900Z",
     "iopub.status.busy": "2024-08-29T14:12:23.639559Z",
     "iopub.status.idle": "2024-08-29T14:12:23.655216Z",
     "shell.execute_reply": "2024-08-29T14:12:23.652149Z",
     "shell.execute_reply.started": "2024-08-29T14:12:23.640849Z"
    }
   },
   "source": [
    "Analizando a **normalidade** da destribuição dos `degree` através da função `not_normal`."
   ]
  },
  {
   "cell_type": "code",
   "execution_count": 9,
   "metadata": {
    "execution": {
     "iopub.execute_input": "2024-10-27T19:50:30.609356Z",
     "iopub.status.busy": "2024-10-27T19:50:30.608939Z",
     "iopub.status.idle": "2024-10-27T19:50:30.616516Z",
     "shell.execute_reply": "2024-10-27T19:50:30.615539Z",
     "shell.execute_reply.started": "2024-10-27T19:50:30.609337Z"
    }
   },
   "outputs": [
    {
     "name": "stdout",
     "output_type": "stream",
     "text": [
      "Not Normal: <0.001\n"
     ]
    }
   ],
   "source": [
    "p_value = dst.not_normal(degrees)\n",
    "print(f'Not Normal: {'<0.001' if p_value < 0.001 else float(p_value)}')"
   ]
  },
  {
   "cell_type": "markdown",
   "metadata": {
    "execution": {
     "iopub.execute_input": "2024-08-29T14:12:23.640900Z",
     "iopub.status.busy": "2024-08-29T14:12:23.639559Z",
     "iopub.status.idle": "2024-08-29T14:12:23.655216Z",
     "shell.execute_reply": "2024-08-29T14:12:23.652149Z",
     "shell.execute_reply.started": "2024-08-29T14:12:23.640849Z"
    }
   },
   "source": [
    "Analizando se a destribuição dos `degree` é mais **power law** do que **lognormal** através da função `more_powerlaw_than_lognormal`."
   ]
  },
  {
   "cell_type": "code",
   "execution_count": 10,
   "metadata": {
    "execution": {
     "iopub.execute_input": "2024-10-27T19:50:30.617924Z",
     "iopub.status.busy": "2024-10-27T19:50:30.617526Z",
     "iopub.status.idle": "2024-10-27T19:50:30.746887Z",
     "shell.execute_reply": "2024-10-27T19:50:30.746167Z",
     "shell.execute_reply.started": "2024-10-27T19:50:30.617904Z"
    }
   },
   "outputs": [
    {
     "name": "stdout",
     "output_type": "stream",
     "text": [
      "More Powerlaw than Lognormal: 0.035832843219890234 \n"
     ]
    },
    {
     "name": "stderr",
     "output_type": "stream",
     "text": [
      "Calculating best minimal value for power law fit\n",
      "/opt/miniconda/envs/jupyterlab/lib/python3.12/site-packages/powerlaw.py:699: RuntimeWarning: invalid value encountered in divide\n",
      "  (CDF_diff**2) /\n"
     ]
    }
   ],
   "source": [
    "powerlaw, p_value = dst.more_powerlaw_than_lognormal(degrees)\n",
    "print(f'More Powerlaw than Lognormal: {'{float(p_value)} (Inconclusivo)' if 0.05 < p_value < 0.1 else ('<0.001' if  p_value < 0.001 else float(p_value))} {'[powerlaw]' if powerlaw else ''}')"
   ]
  },
  {
   "cell_type": "markdown",
   "metadata": {
    "execution": {
     "iopub.execute_input": "2024-08-29T14:12:23.640900Z",
     "iopub.status.busy": "2024-08-29T14:12:23.639559Z",
     "iopub.status.idle": "2024-08-29T14:12:23.655216Z",
     "shell.execute_reply": "2024-08-29T14:12:23.652149Z",
     "shell.execute_reply.started": "2024-08-29T14:12:23.640849Z"
    }
   },
   "source": [
    "Analizando se a destribuição dos `degree` é mais **power law** do que **exponential** através da função `more_powerlaw_than_exponential`."
   ]
  },
  {
   "cell_type": "code",
   "execution_count": 11,
   "metadata": {
    "execution": {
     "iopub.execute_input": "2024-10-27T19:50:30.748136Z",
     "iopub.status.busy": "2024-10-27T19:50:30.747750Z",
     "iopub.status.idle": "2024-10-27T19:50:30.826608Z",
     "shell.execute_reply": "2024-10-27T19:50:30.825838Z",
     "shell.execute_reply.started": "2024-10-27T19:50:30.748118Z"
    }
   },
   "outputs": [
    {
     "name": "stderr",
     "output_type": "stream",
     "text": [
      "Calculating best minimal value for power law fit\n"
     ]
    },
    {
     "name": "stdout",
     "output_type": "stream",
     "text": [
      "More Powerlaw than Exponential: 0.07815415679349168 (Inconclusivo) [powerlaw]\n"
     ]
    }
   ],
   "source": [
    "powerlaw, p_value = dst.more_powerlaw_than_exponential(degrees)\n",
    "print(f'More Powerlaw than Exponential: {f'{float(p_value)} (Inconclusivo)' if 0.05 < p_value < 0.1 else ('<0.001' if  p_value < 0.001 else float(p_value))} {'[powerlaw]' if powerlaw else ''}')"
   ]
  },
  {
   "cell_type": "markdown",
   "metadata": {
    "editable": true,
    "slideshow": {
     "slide_type": ""
    },
    "tags": []
   },
   "source": [
    "## Distâncias\n",
    "\n",
    "Obtendo as distâncias entre cada vérticie da rede por meio da função `get_distances`.\n",
    "\n",
    "**OBS.:** Essas funçãoes estão comentadas pois, mesmoq eu a `get_distances` consiga rodar, o kernel tende a crashar sem conseguir rodar o `discribe` ou o `hist`, impossibilitando continuar executando o resto do notebook."
   ]
  },
  {
   "cell_type": "code",
   "execution_count": 12,
   "metadata": {
    "execution": {
     "iopub.execute_input": "2024-10-27T19:50:30.828265Z",
     "iopub.status.busy": "2024-10-27T19:50:30.827551Z",
     "iopub.status.idle": "2024-10-27T19:51:55.901409Z",
     "shell.execute_reply": "2024-10-27T19:51:55.900659Z",
     "shell.execute_reply.started": "2024-10-27T19:50:30.828243Z"
    }
   },
   "outputs": [
    {
     "data": {
      "text/plain": [
       "count    1.106914e+08\n",
       "mean     2.126238e+00\n",
       "std      3.781983e-01\n",
       "min      0.000000e+00\n",
       "max      8.000000e+00\n",
       "dtype: float64"
      ]
     },
     "execution_count": 12,
     "metadata": {},
     "output_type": "execute_result"
    }
   ],
   "source": [
    "g.describe_distances()"
   ]
  },
  {
   "cell_type": "code",
   "execution_count": 13,
   "metadata": {
    "execution": {
     "iopub.execute_input": "2024-10-27T19:51:55.902541Z",
     "iopub.status.busy": "2024-10-27T19:51:55.902278Z",
     "iopub.status.idle": "2024-10-27T19:52:02.749459Z",
     "shell.execute_reply": "2024-10-27T19:52:02.748651Z",
     "shell.execute_reply.started": "2024-10-27T19:51:55.902520Z"
    }
   },
   "outputs": [
    {
     "data": {
      "image/png": "[encoded data removed]",
      "text/plain": [
       "<Figure size 640x480 with 1 Axes>"
      ]
     },
     "metadata": {},
     "output_type": "display_data"
    }
   ],
   "source": [
    "g.hist_distances()"
   ]
  },
  {
   "cell_type": "markdown",
   "metadata": {},
   "source": [
    "# Métricas da Rede\n",
    "\n",
    "## Closeness\n",
    "Primeiro, calculamos a centralidade _closeness_ com `closeness`."
   ]
  },
  {
   "cell_type": "code",
   "execution_count": 14,
   "metadata": {
    "execution": {
     "iopub.execute_input": "2024-10-27T19:52:02.751109Z",
     "iopub.status.busy": "2024-10-27T19:52:02.750408Z",
     "iopub.status.idle": "2024-10-27T19:52:09.906148Z",
     "shell.execute_reply": "2024-10-27T19:52:09.905360Z",
     "shell.execute_reply.started": "2024-10-27T19:52:02.751078Z"
    }
   },
   "outputs": [],
   "source": [
    "c = centrality.closeness(g, harmonic=True)\n",
    "g.add_vp('closeness', c)"
   ]
  },
  {
   "cell_type": "markdown",
   "metadata": {},
   "source": [
    "Depois, adicionamos a propriedade de vértice ao grafo com `add_vp`."
   ]
  },
  {
   "cell_type": "markdown",
   "metadata": {},
   "source": [
    "## Betweeness\n",
    "Agora, para calcularmos o _betweeness_, utilizamos a função `betweenness`."
   ]
  },
  {
   "cell_type": "code",
   "execution_count": 15,
   "metadata": {
    "execution": {
     "iopub.execute_input": "2024-10-27T19:52:09.907117Z",
     "iopub.status.busy": "2024-10-27T19:52:09.906917Z",
     "iopub.status.idle": "2024-10-27T19:52:21.298873Z",
     "shell.execute_reply": "2024-10-27T19:52:21.298244Z",
     "shell.execute_reply.started": "2024-10-27T19:52:09.907089Z"
    }
   },
   "outputs": [],
   "source": [
    "b, _ = centrality.betweenness(g)\n",
    "g.add_vp('betweenness', b)"
   ]
  },
  {
   "cell_type": "markdown",
   "metadata": {},
   "source": [
    "## Degrees\n",
    "Para calcular a centralidade _degree_, utilizamos a função `total_degree`."
   ]
  },
  {
   "cell_type": "code",
   "execution_count": 16,
   "metadata": {
    "execution": {
     "iopub.execute_input": "2024-10-27T19:52:21.299874Z",
     "iopub.status.busy": "2024-10-27T19:52:21.299677Z",
     "iopub.status.idle": "2024-10-27T19:52:21.304258Z",
     "shell.execute_reply": "2024-10-27T19:52:21.303351Z",
     "shell.execute_reply.started": "2024-10-27T19:52:21.299857Z"
    }
   },
   "outputs": [],
   "source": [
    "d = gte.total_degree(g)\n",
    "g.add_vp('degree', d)"
   ]
  },
  {
   "cell_type": "markdown",
   "metadata": {},
   "source": [
    "## Clustering Coeficient\n",
    "Agora, para calcularmos o clustering, utilizamos a função `local_clustering`"
   ]
  },
  {
   "cell_type": "code",
   "execution_count": 20,
   "metadata": {
    "execution": {
     "iopub.execute_input": "2024-10-27T19:52:47.227069Z",
     "iopub.status.busy": "2024-10-27T19:52:47.226543Z",
     "iopub.status.idle": "2024-10-27T19:52:47.564276Z",
     "shell.execute_reply": "2024-10-27T19:52:47.563588Z",
     "shell.execute_reply.started": "2024-10-27T19:52:47.227043Z"
    }
   },
   "outputs": [],
   "source": [
    "cc = clustering.local_clustering(g)\n",
    "g.add_vp('clustering', c)"
   ]
  },
  {
   "cell_type": "markdown",
   "metadata": {},
   "source": [
    "## Visualização da Rede\n",
    "Agora com todas as 3 métricas calculadas podemos salvar e visualiza-las na rede."
   ]
  },
  {
   "cell_type": "code",
   "execution_count": 21,
   "metadata": {
    "execution": {
     "iopub.execute_input": "2024-10-27T19:52:49.882996Z",
     "iopub.status.busy": "2024-10-27T19:52:49.882757Z",
     "iopub.status.idle": "2024-10-27T19:53:07.929722Z",
     "shell.execute_reply": "2024-10-27T19:53:07.929006Z",
     "shell.execute_reply.started": "2024-10-27T19:52:49.882979Z"
    }
   },
   "outputs": [],
   "source": [
    "gte.save(g, 'rede_metricas.net.gz')"
   ]
  },
  {
   "cell_type": "code",
   "execution_count": null,
   "metadata": {
    "execution": {
     "iopub.status.busy": "2024-10-27T19:52:21.589334Z",
     "iopub.status.idle": "2024-10-27T19:52:21.589626Z",
     "shell.execute_reply": "2024-10-27T19:52:21.589523Z",
     "shell.execute_reply.started": "2024-10-27T19:52:21.589511Z"
    },
    "scrolled": true
   },
   "outputs": [],
   "source": [
    "# r = netpixi.render('rede_metricas.net.gz', infinite=True)"
   ]
  },
  {
   "cell_type": "markdown",
   "metadata": {},
   "source": [
    "Primeiro, mas não menos importante, a visualização padrão da rede, sem a aplicação de nenhuma métrica"
   ]
  },
  {
   "cell_type": "code",
   "execution_count": null,
   "metadata": {
    "execution": {
     "iopub.status.busy": "2024-10-27T19:52:21.591091Z",
     "iopub.status.idle": "2024-10-27T19:52:21.591370Z",
     "shell.execute_reply": "2024-10-27T19:52:21.591255Z",
     "shell.execute_reply.started": "2024-10-27T19:52:21.591243Z"
    }
   },
   "outputs": [],
   "source": [
    "# time.sleep(5)\n",
    "# r.vertex_default(size=4, bwidth=1)\n",
    "# r.edge_default(width=1)"
   ]
  },
  {
   "cell_type": "markdown",
   "metadata": {},
   "source": [
    "**OBS.:** Descomente as mudanças de escala para ver o resultado de cada métrica."
   ]
  },
  {
   "cell_type": "code",
   "execution_count": null,
   "metadata": {
    "execution": {
     "iopub.status.busy": "2024-10-27T19:52:21.592492Z",
     "iopub.status.idle": "2024-10-27T19:52:21.592767Z",
     "shell.execute_reply": "2024-10-27T19:52:21.592672Z",
     "shell.execute_reply.started": "2024-10-27T19:52:21.592662Z"
    }
   },
   "outputs": [],
   "source": [
    "# r.vertex_scale('closeness', 10, 30)\n",
    "# r.vertex_scale('betweenness', 10, 30)\n",
    "# r.vertex_scale('degree', 10, 30)"
   ]
  },
  {
   "cell_type": "markdown",
   "metadata": {},
   "source": [
    "## Gráficos\n",
    "\n",
    "Nessa seção, faremos o _plot_ dos gráficos relacionando _closeness_, _betweenness_ e _degree_, seguindo a ordem apresentada na planilha de entrega da atividade."
   ]
  },
  {
   "cell_type": "code",
   "execution_count": null,
   "metadata": {
    "execution": {
     "iopub.status.busy": "2024-10-27T19:52:21.593504Z",
     "iopub.status.idle": "2024-10-27T19:52:21.593740Z",
     "shell.execute_reply": "2024-10-27T19:52:21.593632Z",
     "shell.execute_reply.started": "2024-10-27T19:52:21.593623Z"
    }
   },
   "outputs": [],
   "source": [
    "# fig, axes = plt.subplots(3, 3, figsize=(16, 10))\n",
    "\n",
    "# fig.suptitle(\"Relação entre as propriedades da rede\")\n",
    "\n",
    "# sns.histplot(c, ax=axes[0, 0]).set_title(\"Closeness\")\n",
    "# sns.scatterplot(x=b, y=c, ax=axes[0, 1]).set_title(\"Betweenness X Closeness\")\n",
    "# sns.scatterplot(x=d, y=c, ax=axes[0, 2]).set_title(\"Degree X Closeness\")\n",
    "\n",
    "# sns.scatterplot(x=c, y=b, ax=axes[1, 0]).set_title(\"Closeness X Betweeness\")\n",
    "# hist_betweenness = sns.histplot(b, ax=axes[1, 1])\n",
    "# hist_betweenness.set_title(\"Betweenness\")\n",
    "# hist_betweenness.set_ylim(0, 1000)\n",
    "# sns.scatterplot(x=d, y=b, ax=axes[1, 2]).set_title(\"Degree X Betweeness\")\n",
    "\n",
    "# sns.scatterplot(x=c, y=d, ax=axes[2, 0]).set_title(\"Closeness X Degree\")\n",
    "# sns.scatterplot(x=b, y=d, ax=axes[2, 1]).set_title(\"Betweeness X Degree\")\n",
    "# sns.histplot(d, ax=axes[2, 2]).set_title(\"Degree\")\n",
    "\n",
    "# plt.show()"
   ]
  },
  {
   "cell_type": "markdown",
   "metadata": {},
   "source": [
    "A célula abaixo possui código para baixar imagens dos gráficos acima, separadamente. Descomentar caso necessário."
   ]
  },
  {
   "cell_type": "code",
   "execution_count": null,
   "metadata": {
    "execution": {
     "iopub.status.busy": "2024-10-27T19:52:21.595401Z",
     "iopub.status.idle": "2024-10-27T19:52:21.595790Z",
     "shell.execute_reply": "2024-10-27T19:52:21.595635Z",
     "shell.execute_reply.started": "2024-10-27T19:52:21.595620Z"
    }
   },
   "outputs": [],
   "source": [
    "# import os\n",
    "# if not os.path.isdir('img'):\n",
    "#     os.mkdir('img')\n",
    "\n",
    "# sns.histplot(c).get_figure().savefig('./img/hist_closeness.png')\n",
    "# plt.close()\n",
    "# sns.scatterplot(x=b, y=c).get_figure().savefig('./img/betweenness_closeness.png')\n",
    "# plt.close()\n",
    "# sns.scatterplot(x=d, y=c).get_figure().savefig('./img/degree_closeness.png')\n",
    "# plt.close()\n",
    "\n",
    "# sns.scatterplot(x=c, y=b).get_figure().savefig('./img/closeness_betweenness.png')\n",
    "# plt.close()\n",
    "# hist_betweenness = sns.histplot(b)\n",
    "# hist_betweenness.set_ylim(0, 1000)\n",
    "# hist_betweenness.get_figure().savefig('./img/hist_betweenness.png')\n",
    "# plt.close()\n",
    "# sns.scatterplot(x=d, y=b).get_figure().savefig('./img/degree_betweenness.png')\n",
    "# plt.close()\n",
    "\n",
    "# sns.scatterplot(x=c, y=d).get_figure().savefig('./img/closeness_degree.png')\n",
    "# plt.close()\n",
    "# sns.scatterplot(x=b, y=d).get_figure().savefig('./img/betweenness_degree.png')\n",
    "# plt.close()\n",
    "# sns.histplot(d).get_figure().savefig('./img/hist_degree.png')\n",
    "# plt.close()\n",
    "\n"
   ]
  },
  {
   "cell_type": "markdown",
   "metadata": {},
   "source": [
    "## Correlações\n",
    "Para calcular as correlações utilizamos a função `pearsonr` com combinaçãos dos valores de `closeness`, `betweeness` e `degree`, obtendo um coeficiente e um p-valor, este que será convertido em uma escala de asteriscos."
   ]
  },
  {
   "cell_type": "code",
   "execution_count": null,
   "metadata": {
    "execution": {
     "iopub.status.busy": "2024-10-27T19:52:21.597460Z",
     "iopub.status.idle": "2024-10-27T19:52:21.597733Z",
     "shell.execute_reply": "2024-10-27T19:52:21.597623Z",
     "shell.execute_reply.started": "2024-10-27T19:52:21.597613Z"
    }
   },
   "outputs": [],
   "source": [
    "def pearsonr(x, y, ndigits=10):\n",
    "    statistic, p_value = scipy.stats.pearsonr(x, y)\n",
    "    \n",
    "    asterisk = ''\n",
    "    statistic = round(statistic, ndigits)\n",
    "    \n",
    "    if statistic == 1: \n",
    "        asterisk = ' (óbvio)'\n",
    "    elif p_value < 0.01: \n",
    "        asterisk = ' ***'\n",
    "    elif p_value < 0.05: \n",
    "        asterisk = ' **'\n",
    "    elif p_value < 0.1: \n",
    "        asterisk = ' *'\n",
    "        \n",
    "    return f'{statistic} {asterisk}'"
   ]
  },
  {
   "cell_type": "code",
   "execution_count": null,
   "metadata": {
    "execution": {
     "iopub.status.busy": "2024-10-27T19:52:21.599224Z",
     "iopub.status.idle": "2024-10-27T19:52:21.599551Z",
     "shell.execute_reply": "2024-10-27T19:52:21.599420Z",
     "shell.execute_reply.started": "2024-10-27T19:52:21.599408Z"
    },
    "scrolled": true
   },
   "outputs": [],
   "source": [
    "data = [c, b, d]\n",
    "result = pd.DataFrame([ [ pearsonr(j, i) for j in data ] for i in data ])\n",
    "result"
   ]
  }
 ],
 "metadata": {
  "kernelspec": {
   "display_name": "Python 3 (ipykernel)",
   "language": "python",
   "name": "python3"
  },
  "language_info": {
   "codemirror_mode": {
    "name": "ipython",
    "version": 3
   },
   "file_extension": ".py",
   "mimetype": "text/x-python",
   "name": "python",
   "nbconvert_exporter": "python",
   "pygments_lexer": "ipython3",
   "version": "3.12.4"
  }
 },
 "nbformat": 4,
 "nbformat_minor": 4
}
