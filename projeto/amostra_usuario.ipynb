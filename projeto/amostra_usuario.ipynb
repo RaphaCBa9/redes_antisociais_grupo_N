{
 "cells": [
  {
   "cell_type": "code",
   "execution_count": 1,
   "metadata": {
    "execution": {
     "iopub.execute_input": "2024-11-04T14:24:50.374454Z",
     "iopub.status.busy": "2024-11-04T14:24:50.374079Z",
     "iopub.status.idle": "2024-11-04T14:24:54.847104Z",
     "shell.execute_reply": "2024-11-04T14:24:54.846198Z",
     "shell.execute_reply.started": "2024-11-04T14:24:50.374428Z"
    }
   },
   "outputs": [
    {
     "name": "stdout",
     "output_type": "stream",
     "text": [
      "Carregando dados dos produtos...\n"
     ]
    },
    {
     "data": {
      "text/html": [
       "\n",
       "    <script src=\"/static/.hidden/netpixi.min.js\"></script>\n"
      ],
      "text/plain": [
       "<IPython.core.display.HTML object>"
      ]
     },
     "metadata": {},
     "output_type": "display_data"
    }
   ],
   "source": [
    "from instacart_data import *\n",
    "from instacart_net import *\n",
    "\n",
    "import netpixi\n",
    "from graph_tool import draw\n",
    "import graph_tool_extras as gte\n",
    "\n",
    "from graph_tool import centrality, clustering\n",
    "\n",
    "import regression as reg\n",
    "\n",
    "import matplotlib.pyplot as plt\n",
    "import seaborn as sns\n",
    "\n",
    "import numpy as np\n",
    "import pandas as pd"
   ]
  },
  {
   "cell_type": "code",
   "execution_count": 2,
   "metadata": {
    "execution": {
     "iopub.execute_input": "2024-11-04T14:24:54.848714Z",
     "iopub.status.busy": "2024-11-04T14:24:54.848257Z",
     "iopub.status.idle": "2024-11-04T14:24:54.852509Z",
     "shell.execute_reply": "2024-11-04T14:24:54.851705Z",
     "shell.execute_reply.started": "2024-11-04T14:24:54.848689Z"
    }
   },
   "outputs": [],
   "source": [
    "name = 'edges_user'"
   ]
  },
  {
   "cell_type": "code",
   "execution_count": 3,
   "metadata": {
    "execution": {
     "iopub.execute_input": "2024-11-04T14:24:54.853746Z",
     "iopub.status.busy": "2024-11-04T14:24:54.853368Z",
     "iopub.status.idle": "2024-11-04T14:25:10.938593Z",
     "shell.execute_reply": "2024-11-04T14:25:10.937733Z",
     "shell.execute_reply.started": "2024-11-04T14:24:54.853724Z"
    }
   },
   "outputs": [
    {
     "name": "stdout",
     "output_type": "stream",
     "text": [
      "Carregando dados dos produtos dos pedidos...\n"
     ]
    }
   ],
   "source": [
    "order_products = get_order_products()"
   ]
  },
  {
   "cell_type": "code",
   "execution_count": 4,
   "metadata": {
    "execution": {
     "iopub.execute_input": "2024-11-04T14:25:10.939745Z",
     "iopub.status.busy": "2024-11-04T14:25:10.939542Z",
     "iopub.status.idle": "2024-11-04T14:25:20.425765Z",
     "shell.execute_reply": "2024-11-04T14:25:20.424859Z",
     "shell.execute_reply.started": "2024-11-04T14:25:10.939728Z"
    }
   },
   "outputs": [
    {
     "name": "stdout",
     "output_type": "stream",
     "text": [
      "Fazendo varredura no arquivo de pedidos...\n",
      "Salvando dados dos pedidos dos usuários...\n"
     ]
    }
   ],
   "source": [
    "user_orders = get_user_orders()\n",
    "user = max(user_orders, key=lambda k: len(user_orders[k]))"
   ]
  },
  {
   "cell_type": "code",
   "execution_count": 5,
   "metadata": {
    "execution": {
     "iopub.execute_input": "2024-11-04T14:25:20.427348Z",
     "iopub.status.busy": "2024-11-04T14:25:20.426820Z",
     "iopub.status.idle": "2024-11-04T14:25:20.431078Z",
     "shell.execute_reply": "2024-11-04T14:25:20.430264Z",
     "shell.execute_reply.started": "2024-11-04T14:25:20.427325Z"
    }
   },
   "outputs": [],
   "source": [
    "filtered_order_products = {}\n",
    "for order in user_orders[user]:\n",
    "    filtered_order_products[order] = order_products[order]"
   ]
  },
  {
   "cell_type": "code",
   "execution_count": 6,
   "metadata": {
    "execution": {
     "iopub.execute_input": "2024-11-04T14:25:20.434001Z",
     "iopub.status.busy": "2024-11-04T14:25:20.433592Z",
     "iopub.status.idle": "2024-11-04T14:25:20.463677Z",
     "shell.execute_reply": "2024-11-04T14:25:20.462947Z",
     "shell.execute_reply.started": "2024-11-04T14:25:20.433979Z"
    }
   },
   "outputs": [
    {
     "data": {
      "text/plain": [
       "count    100.00\n",
       "mean      14.98\n",
       "std        6.10\n",
       "min        4.00\n",
       "25%       11.00\n",
       "50%       14.00\n",
       "75%       19.00\n",
       "max       38.00\n",
       "dtype: float64"
      ]
     },
     "execution_count": 6,
     "metadata": {},
     "output_type": "execute_result"
    }
   ],
   "source": [
    "n_products = [ len(order) for order in filtered_order_products.values() ]\n",
    "pd.Series(n_products).describe().round(2)"
   ]
  },
  {
   "cell_type": "code",
   "execution_count": 24,
   "metadata": {
    "execution": {
     "iopub.execute_input": "2024-11-04T14:25:49.673627Z",
     "iopub.status.busy": "2024-11-04T14:25:49.673178Z",
     "iopub.status.idle": "2024-11-04T14:25:49.815281Z",
     "shell.execute_reply": "2024-11-04T14:25:49.814504Z",
     "shell.execute_reply.started": "2024-11-04T14:25:49.673604Z"
    }
   },
   "outputs": [
    {
     "data": {
      "image/png": "[encoded data removed]",
      "text/plain": [
       "<Figure size 640x480 with 1 Axes>"
      ]
     },
     "metadata": {},
     "output_type": "display_data"
    }
   ],
   "source": [
    "plt.hist(n_products, bins=np.max(n_products), edgecolor='white')\n",
    "plt.show()"
   ]
  },
  {
   "cell_type": "code",
   "execution_count": 7,
   "metadata": {
    "execution": {
     "iopub.execute_input": "2024-11-04T14:25:20.464753Z",
     "iopub.status.busy": "2024-11-04T14:25:20.464537Z",
     "iopub.status.idle": "2024-11-04T14:25:20.482323Z",
     "shell.execute_reply": "2024-11-04T14:25:20.481493Z",
     "shell.execute_reply.started": "2024-11-04T14:25:20.464735Z"
    }
   },
   "outputs": [],
   "source": [
    "edges = gen_edges_data(filtered_order_products, name)"
   ]
  },
  {
   "cell_type": "code",
   "execution_count": 8,
   "metadata": {
    "execution": {
     "iopub.execute_input": "2024-11-04T14:25:20.483433Z",
     "iopub.status.busy": "2024-11-04T14:25:20.483224Z",
     "iopub.status.idle": "2024-11-04T14:25:20.493379Z",
     "shell.execute_reply": "2024-11-04T14:25:20.492579Z",
     "shell.execute_reply.started": "2024-11-04T14:25:20.483410Z"
    }
   },
   "outputs": [
    {
     "data": {
      "text/plain": [
       "count    5949.00\n",
       "mean        4.14\n",
       "std         5.03\n",
       "min         2.00\n",
       "25%         2.00\n",
       "50%         2.00\n",
       "75%         4.00\n",
       "max       112.00\n",
       "dtype: float64"
      ]
     },
     "execution_count": 8,
     "metadata": {},
     "output_type": "execute_result"
    }
   ],
   "source": [
    "pd.Series(edges.values()).describe().round(2)"
   ]
  },
  {
   "cell_type": "code",
   "execution_count": 9,
   "metadata": {
    "execution": {
     "iopub.execute_input": "2024-11-04T14:25:20.494860Z",
     "iopub.status.busy": "2024-11-04T14:25:20.494531Z",
     "iopub.status.idle": "2024-11-04T14:25:20.500611Z",
     "shell.execute_reply": "2024-11-04T14:25:20.499799Z",
     "shell.execute_reply.started": "2024-11-04T14:25:20.494838Z"
    }
   },
   "outputs": [
    {
     "data": {
      "text/plain": [
       "np.float64(9.0)"
      ]
     },
     "execution_count": 9,
     "metadata": {},
     "output_type": "execute_result"
    }
   ],
   "source": [
    "edges_weights = list(edges.values())\n",
    "threshold = round(np.mean(edges_weights) + np.std(edges_weights), 0)\n",
    "threshold"
   ]
  },
  {
   "cell_type": "code",
   "execution_count": 10,
   "metadata": {
    "execution": {
     "iopub.execute_input": "2024-11-04T14:25:20.501912Z",
     "iopub.status.busy": "2024-11-04T14:25:20.501543Z",
     "iopub.status.idle": "2024-11-04T14:25:20.509249Z",
     "shell.execute_reply": "2024-11-04T14:25:20.508276Z",
     "shell.execute_reply.started": "2024-11-04T14:25:20.501894Z"
    }
   },
   "outputs": [
    {
     "name": "stdout",
     "output_type": "stream",
     "text": [
      "536 arestas geradas com o threshold de 9.0\n"
     ]
    }
   ],
   "source": [
    "gen_edges_csv(name, edges, threshold)"
   ]
  },
  {
   "cell_type": "code",
   "execution_count": 11,
   "metadata": {
    "execution": {
     "iopub.execute_input": "2024-11-04T14:25:20.510550Z",
     "iopub.status.busy": "2024-11-04T14:25:20.510296Z",
     "iopub.status.idle": "2024-11-04T14:25:20.561749Z",
     "shell.execute_reply": "2024-11-04T14:25:20.560934Z",
     "shell.execute_reply.started": "2024-11-04T14:25:20.510530Z"
    }
   },
   "outputs": [],
   "source": [
    "g = gen_net(name)"
   ]
  },
  {
   "cell_type": "code",
   "execution_count": 12,
   "metadata": {
    "execution": {
     "iopub.execute_input": "2024-11-04T14:25:20.563525Z",
     "iopub.status.busy": "2024-11-04T14:25:20.562714Z",
     "iopub.status.idle": "2024-11-04T14:25:20.645352Z",
     "shell.execute_reply": "2024-11-04T14:25:20.644512Z",
     "shell.execute_reply.started": "2024-11-04T14:25:20.563503Z"
    }
   },
   "outputs": [],
   "source": [
    "layout = draw.sfdp_layout(g)"
   ]
  },
  {
   "cell_type": "code",
   "execution_count": 13,
   "metadata": {
    "execution": {
     "iopub.execute_input": "2024-11-04T14:25:20.646960Z",
     "iopub.status.busy": "2024-11-04T14:25:20.646326Z",
     "iopub.status.idle": "2024-11-04T14:25:20.771092Z",
     "shell.execute_reply": "2024-11-04T14:25:20.770517Z",
     "shell.execute_reply.started": "2024-11-04T14:25:20.646919Z"
    }
   },
   "outputs": [],
   "source": [
    "gte.move(g, layout)"
   ]
  },
  {
   "cell_type": "code",
   "execution_count": 14,
   "metadata": {
    "execution": {
     "iopub.execute_input": "2024-11-04T14:25:20.772649Z",
     "iopub.status.busy": "2024-11-04T14:25:20.772412Z",
     "iopub.status.idle": "2024-11-04T14:25:20.782131Z",
     "shell.execute_reply": "2024-11-04T14:25:20.781281Z",
     "shell.execute_reply.started": "2024-11-04T14:25:20.772631Z"
    }
   },
   "outputs": [],
   "source": [
    "g = gte.clean(g)"
   ]
  },
  {
   "cell_type": "code",
   "execution_count": 15,
   "metadata": {
    "execution": {
     "iopub.execute_input": "2024-11-04T14:25:20.783559Z",
     "iopub.status.busy": "2024-11-04T14:25:20.783198Z",
     "iopub.status.idle": "2024-11-04T14:25:20.799849Z",
     "shell.execute_reply": "2024-11-04T14:25:20.799150Z",
     "shell.execute_reply.started": "2024-11-04T14:25:20.783540Z"
    }
   },
   "outputs": [],
   "source": [
    "c = centrality.closeness(g, harmonic=True)\n",
    "g.add_vp('closeness', c)\n",
    "b, _ = centrality.betweenness(g)\n",
    "g.add_vp('betweenness', b)\n",
    "d = gte.total_degree(g)\n",
    "g.add_vp('degree', d)\n",
    "cc = clustering.local_clustering(g)\n",
    "g.add_vp('clustering', cc)"
   ]
  },
  {
   "cell_type": "code",
   "execution_count": 16,
   "metadata": {
    "execution": {
     "iopub.execute_input": "2024-11-04T14:25:20.801088Z",
     "iopub.status.busy": "2024-11-04T14:25:20.800862Z",
     "iopub.status.idle": "2024-11-04T14:25:20.852907Z",
     "shell.execute_reply": "2024-11-04T14:25:20.852139Z",
     "shell.execute_reply.started": "2024-11-04T14:25:20.801068Z"
    }
   },
   "outputs": [],
   "source": [
    "gte.save(g, f'{name}.net.gz')"
   ]
  },
  {
   "cell_type": "code",
   "execution_count": 25,
   "metadata": {
    "execution": {
     "iopub.execute_input": "2024-11-04T14:28:01.114562Z",
     "iopub.status.busy": "2024-11-04T14:28:01.113978Z",
     "iopub.status.idle": "2024-11-04T14:28:01.120887Z",
     "shell.execute_reply": "2024-11-04T14:28:01.120207Z",
     "shell.execute_reply.started": "2024-11-04T14:28:01.114536Z"
    },
    "scrolled": true
   },
   "outputs": [
    {
     "data": {
      "text/html": [
       "\n",
       "        <div id=\"AnJyRkriswZ5Ueyrc5sfma\"></div>\n",
       "        <script>netpixi.render('AnJyRkriswZ5Ueyrc5sfma', '/static/__shared__/redes_antisociais_grupo_N/projeto/edges_user.net.gz', 1.7777777777777777, true, false, false, true);</script>\n",
       "    "
      ],
      "text/plain": [
       "<IPython.core.display.HTML object>"
      ]
     },
     "metadata": {},
     "output_type": "display_data"
    }
   ],
   "source": [
    "r = netpixi.render(f'{name}.net.gz')"
   ]
  },
  {
   "cell_type": "code",
   "execution_count": 26,
   "metadata": {
    "execution": {
     "iopub.execute_input": "2024-11-04T14:28:03.890288Z",
     "iopub.status.busy": "2024-11-04T14:28:03.889508Z",
     "iopub.status.idle": "2024-11-04T14:28:04.899176Z",
     "shell.execute_reply": "2024-11-04T14:28:04.898438Z",
     "shell.execute_reply.started": "2024-11-04T14:28:03.890266Z"
    }
   },
   "outputs": [
    {
     "data": {
      "text/html": [
       "\n",
       "        <div id=\"XhxDQJ7RARVmvFUcS8tBX6\"></div>\n",
       "        <script>netpixi.call('XhxDQJ7RARVmvFUcS8tBX6', 'AnJyRkriswZ5Ueyrc5sfma', 'setGraph', 'eyJ0eXBlIjogInZlcnRleCIsICJwcm9wcyI6IHsic3JjIjogIm5hbWUiLCAiZHN0IjogIl9rZXkifX0K');</script>\n",
       "    "
      ],
      "text/plain": [
       "<IPython.core.display.HTML object>"
      ]
     },
     "metadata": {},
     "output_type": "display_data"
    },
    {
     "data": {
      "text/html": [
       "\n",
       "        <div id=\"4kHWYyUJyUR8eMtP7NKazn\"></div>\n",
       "        <script>netpixi.call('4kHWYyUJyUR8eMtP7NKazn', 'AnJyRkriswZ5Ueyrc5sfma', 'changeGraph', 'eyJ0eXBlIjogInNldHRpbmdzIiwgInByb3BzIjogeyJ2ZXJ0ZXgiOiB7InNpemUiOiA0LCAiYndpZHRoIjogMX19fQo=');</script>\n",
       "    "
      ],
      "text/plain": [
       "<IPython.core.display.HTML object>"
      ]
     },
     "metadata": {},
     "output_type": "display_data"
    },
    {
     "data": {
      "text/html": [
       "\n",
       "        <div id=\"RkpCSWNoZkbDTrM5NhBjxA\"></div>\n",
       "        <script>netpixi.call('RkpCSWNoZkbDTrM5NhBjxA', 'AnJyRkriswZ5Ueyrc5sfma', 'changeGraph', 'eyJ0eXBlIjogInNldHRpbmdzIiwgInByb3BzIjogeyJlZGdlIjogeyJ3aWR0aCI6IDF9fX0K');</script>\n",
       "    "
      ],
      "text/plain": [
       "<IPython.core.display.HTML object>"
      ]
     },
     "metadata": {},
     "output_type": "display_data"
    }
   ],
   "source": [
    "time.sleep(1)\n",
    "r.vertex_set_key('name')\n",
    "r.vertex_default(size=4, bwidth=1)\n",
    "r.edge_default(width=1)"
   ]
  },
  {
   "cell_type": "code",
   "execution_count": 19,
   "metadata": {
    "execution": {
     "iopub.execute_input": "2024-11-04T14:25:20.872723Z",
     "iopub.status.busy": "2024-11-04T14:25:20.872501Z",
     "iopub.status.idle": "2024-11-04T14:25:20.898083Z",
     "shell.execute_reply": "2024-11-04T14:25:20.896974Z",
     "shell.execute_reply.started": "2024-11-04T14:25:20.872704Z"
    }
   },
   "outputs": [
    {
     "data": {
      "text/html": [
       "<div>\n",
       "<style scoped>\n",
       "    .dataframe tbody tr th:only-of-type {\n",
       "        vertical-align: middle;\n",
       "    }\n",
       "\n",
       "    .dataframe tbody tr th {\n",
       "        vertical-align: top;\n",
       "    }\n",
       "\n",
       "    .dataframe thead th {\n",
       "        text-align: right;\n",
       "    }\n",
       "</style>\n",
       "<table border=\"1\" class=\"dataframe\">\n",
       "  <thead>\n",
       "    <tr style=\"text-align: right;\">\n",
       "      <th></th>\n",
       "      <th>id</th>\n",
       "      <th>aisle</th>\n",
       "      <th>department</th>\n",
       "      <th>name</th>\n",
       "      <th>purchased_once</th>\n",
       "      <th>purchased_more_than_once</th>\n",
       "      <th>number_of_users_purchased</th>\n",
       "      <th>total_purchases</th>\n",
       "      <th>PRC</th>\n",
       "      <th>_x</th>\n",
       "      <th>_y</th>\n",
       "      <th>closeness</th>\n",
       "      <th>betweenness</th>\n",
       "      <th>degree</th>\n",
       "      <th>clustering</th>\n",
       "    </tr>\n",
       "  </thead>\n",
       "  <tbody>\n",
       "    <tr>\n",
       "      <th>0</th>\n",
       "      <td>23909</td>\n",
       "      <td>milk</td>\n",
       "      <td>None</td>\n",
       "      <td>2% Reduced Fat Milk</td>\n",
       "      <td>5209</td>\n",
       "      <td>3386</td>\n",
       "      <td>8595</td>\n",
       "      <td>38631</td>\n",
       "      <td>0.393950</td>\n",
       "      <td>1.120371</td>\n",
       "      <td>4.060041</td>\n",
       "      <td>0.987500</td>\n",
       "      <td>0.330566</td>\n",
       "      <td>0.9750</td>\n",
       "      <td>0.151848</td>\n",
       "    </tr>\n",
       "    <tr>\n",
       "      <th>1</th>\n",
       "      <td>24852</td>\n",
       "      <td>fresh fruits</td>\n",
       "      <td>None</td>\n",
       "      <td>Banana</td>\n",
       "      <td>57186</td>\n",
       "      <td>18939</td>\n",
       "      <td>76125</td>\n",
       "      <td>491291</td>\n",
       "      <td>0.248788</td>\n",
       "      <td>1.353960</td>\n",
       "      <td>2.990409</td>\n",
       "      <td>0.956250</td>\n",
       "      <td>0.247796</td>\n",
       "      <td>0.9125</td>\n",
       "      <td>0.167808</td>\n",
       "    </tr>\n",
       "    <tr>\n",
       "      <th>2</th>\n",
       "      <td>35547</td>\n",
       "      <td>fresh vegetables</td>\n",
       "      <td>None</td>\n",
       "      <td>Organic Baby Kale</td>\n",
       "      <td>3234</td>\n",
       "      <td>3609</td>\n",
       "      <td>6843</td>\n",
       "      <td>18977</td>\n",
       "      <td>0.527400</td>\n",
       "      <td>1.211225</td>\n",
       "      <td>4.908073</td>\n",
       "      <td>0.825000</td>\n",
       "      <td>0.061318</td>\n",
       "      <td>0.6500</td>\n",
       "      <td>0.282051</td>\n",
       "    </tr>\n",
       "    <tr>\n",
       "      <th>3</th>\n",
       "      <td>32030</td>\n",
       "      <td>packaged cheese</td>\n",
       "      <td>None</td>\n",
       "      <td>Extra Sharp White Cheddar</td>\n",
       "      <td>836</td>\n",
       "      <td>839</td>\n",
       "      <td>1675</td>\n",
       "      <td>4703</td>\n",
       "      <td>0.500896</td>\n",
       "      <td>0.233841</td>\n",
       "      <td>4.611439</td>\n",
       "      <td>0.818750</td>\n",
       "      <td>0.057247</td>\n",
       "      <td>0.6375</td>\n",
       "      <td>0.299608</td>\n",
       "    </tr>\n",
       "    <tr>\n",
       "      <th>4</th>\n",
       "      <td>4920</td>\n",
       "      <td>packaged vegetables fruits</td>\n",
       "      <td>None</td>\n",
       "      <td>Seedless Red Grapes</td>\n",
       "      <td>15150</td>\n",
       "      <td>13552</td>\n",
       "      <td>28702</td>\n",
       "      <td>86748</td>\n",
       "      <td>0.472162</td>\n",
       "      <td>0.376036</td>\n",
       "      <td>2.856399</td>\n",
       "      <td>0.793750</td>\n",
       "      <td>0.045656</td>\n",
       "      <td>0.5875</td>\n",
       "      <td>0.333025</td>\n",
       "    </tr>\n",
       "    <tr>\n",
       "      <th>...</th>\n",
       "      <td>...</td>\n",
       "      <td>...</td>\n",
       "      <td>...</td>\n",
       "      <td>...</td>\n",
       "      <td>...</td>\n",
       "      <td>...</td>\n",
       "      <td>...</td>\n",
       "      <td>...</td>\n",
       "      <td>...</td>\n",
       "      <td>...</td>\n",
       "      <td>...</td>\n",
       "      <td>...</td>\n",
       "      <td>...</td>\n",
       "      <td>...</td>\n",
       "      <td>...</td>\n",
       "    </tr>\n",
       "    <tr>\n",
       "      <th>76</th>\n",
       "      <td>29941</td>\n",
       "      <td>fresh fruits</td>\n",
       "      <td>None</td>\n",
       "      <td>Red Plums</td>\n",
       "      <td>1763</td>\n",
       "      <td>2534</td>\n",
       "      <td>4297</td>\n",
       "      <td>9105</td>\n",
       "      <td>0.589714</td>\n",
       "      <td>3.324208</td>\n",
       "      <td>-5.376997</td>\n",
       "      <td>0.491667</td>\n",
       "      <td>0.000000</td>\n",
       "      <td>0.0125</td>\n",
       "      <td>0.000000</td>\n",
       "    </tr>\n",
       "    <tr>\n",
       "      <th>77</th>\n",
       "      <td>40229</td>\n",
       "      <td>dry pasta</td>\n",
       "      <td>None</td>\n",
       "      <td>Organic Whole Wheat Penne Rigate</td>\n",
       "      <td>1039</td>\n",
       "      <td>1817</td>\n",
       "      <td>2856</td>\n",
       "      <td>5706</td>\n",
       "      <td>0.636204</td>\n",
       "      <td>-0.667210</td>\n",
       "      <td>12.774269</td>\n",
       "      <td>0.502083</td>\n",
       "      <td>0.000000</td>\n",
       "      <td>0.0125</td>\n",
       "      <td>0.000000</td>\n",
       "    </tr>\n",
       "    <tr>\n",
       "      <th>78</th>\n",
       "      <td>23178</td>\n",
       "      <td>juice nectars</td>\n",
       "      <td>None</td>\n",
       "      <td>Pure Lemon Juice</td>\n",
       "      <td>743</td>\n",
       "      <td>1188</td>\n",
       "      <td>1931</td>\n",
       "      <td>4548</td>\n",
       "      <td>0.615225</td>\n",
       "      <td>-4.387919</td>\n",
       "      <td>11.277456</td>\n",
       "      <td>0.502083</td>\n",
       "      <td>0.000000</td>\n",
       "      <td>0.0125</td>\n",
       "      <td>0.000000</td>\n",
       "    </tr>\n",
       "    <tr>\n",
       "      <th>79</th>\n",
       "      <td>34243</td>\n",
       "      <td>fresh vegetables</td>\n",
       "      <td>None</td>\n",
       "      <td>Organic Baby Broccoli</td>\n",
       "      <td>5772</td>\n",
       "      <td>5884</td>\n",
       "      <td>11656</td>\n",
       "      <td>33143</td>\n",
       "      <td>0.504804</td>\n",
       "      <td>6.410682</td>\n",
       "      <td>11.310194</td>\n",
       "      <td>0.502083</td>\n",
       "      <td>0.000000</td>\n",
       "      <td>0.0125</td>\n",
       "      <td>0.000000</td>\n",
       "    </tr>\n",
       "    <tr>\n",
       "      <th>80</th>\n",
       "      <td>29987</td>\n",
       "      <td>packaged cheese</td>\n",
       "      <td>None</td>\n",
       "      <td>Shredded Mozzarella</td>\n",
       "      <td>4528</td>\n",
       "      <td>6527</td>\n",
       "      <td>11055</td>\n",
       "      <td>22943</td>\n",
       "      <td>0.590412</td>\n",
       "      <td>8.695012</td>\n",
       "      <td>2.394570</td>\n",
       "      <td>0.508333</td>\n",
       "      <td>0.000000</td>\n",
       "      <td>0.0250</td>\n",
       "      <td>1.000000</td>\n",
       "    </tr>\n",
       "  </tbody>\n",
       "</table>\n",
       "<p>81 rows × 15 columns</p>\n",
       "</div>"
      ],
      "text/plain": [
       "       id                       aisle department  \\\n",
       "0   23909                        milk       None   \n",
       "1   24852                fresh fruits       None   \n",
       "2   35547            fresh vegetables       None   \n",
       "3   32030             packaged cheese       None   \n",
       "4    4920  packaged vegetables fruits       None   \n",
       "..    ...                         ...        ...   \n",
       "76  29941                fresh fruits       None   \n",
       "77  40229                   dry pasta       None   \n",
       "78  23178               juice nectars       None   \n",
       "79  34243            fresh vegetables       None   \n",
       "80  29987             packaged cheese       None   \n",
       "\n",
       "                                name  purchased_once  \\\n",
       "0                2% Reduced Fat Milk            5209   \n",
       "1                             Banana           57186   \n",
       "2                  Organic Baby Kale            3234   \n",
       "3          Extra Sharp White Cheddar             836   \n",
       "4                Seedless Red Grapes           15150   \n",
       "..                               ...             ...   \n",
       "76                         Red Plums            1763   \n",
       "77  Organic Whole Wheat Penne Rigate            1039   \n",
       "78                  Pure Lemon Juice             743   \n",
       "79             Organic Baby Broccoli            5772   \n",
       "80               Shredded Mozzarella            4528   \n",
       "\n",
       "    purchased_more_than_once  number_of_users_purchased  total_purchases  \\\n",
       "0                       3386                       8595            38631   \n",
       "1                      18939                      76125           491291   \n",
       "2                       3609                       6843            18977   \n",
       "3                        839                       1675             4703   \n",
       "4                      13552                      28702            86748   \n",
       "..                       ...                        ...              ...   \n",
       "76                      2534                       4297             9105   \n",
       "77                      1817                       2856             5706   \n",
       "78                      1188                       1931             4548   \n",
       "79                      5884                      11656            33143   \n",
       "80                      6527                      11055            22943   \n",
       "\n",
       "         PRC        _x         _y  closeness  betweenness  degree  clustering  \n",
       "0   0.393950  1.120371   4.060041   0.987500     0.330566  0.9750    0.151848  \n",
       "1   0.248788  1.353960   2.990409   0.956250     0.247796  0.9125    0.167808  \n",
       "2   0.527400  1.211225   4.908073   0.825000     0.061318  0.6500    0.282051  \n",
       "3   0.500896  0.233841   4.611439   0.818750     0.057247  0.6375    0.299608  \n",
       "4   0.472162  0.376036   2.856399   0.793750     0.045656  0.5875    0.333025  \n",
       "..       ...       ...        ...        ...          ...     ...         ...  \n",
       "76  0.589714  3.324208  -5.376997   0.491667     0.000000  0.0125    0.000000  \n",
       "77  0.636204 -0.667210  12.774269   0.502083     0.000000  0.0125    0.000000  \n",
       "78  0.615225 -4.387919  11.277456   0.502083     0.000000  0.0125    0.000000  \n",
       "79  0.504804  6.410682  11.310194   0.502083     0.000000  0.0125    0.000000  \n",
       "80  0.590412  8.695012   2.394570   0.508333     0.000000  0.0250    1.000000  \n",
       "\n",
       "[81 rows x 15 columns]"
      ]
     },
     "execution_count": 19,
     "metadata": {},
     "output_type": "execute_result"
    }
   ],
   "source": [
    "data = from_net_to_dataframe(g)\n",
    "data"
   ]
  },
  {
   "cell_type": "code",
   "execution_count": 20,
   "metadata": {
    "execution": {
     "iopub.execute_input": "2024-11-04T14:25:20.899414Z",
     "iopub.status.busy": "2024-11-04T14:25:20.899169Z",
     "iopub.status.idle": "2024-11-04T14:25:20.904493Z",
     "shell.execute_reply": "2024-11-04T14:25:20.903580Z",
     "shell.execute_reply.started": "2024-11-04T14:25:20.899396Z"
    }
   },
   "outputs": [],
   "source": [
    "independente = data['clustering']\n",
    "dependente = data['PRC']\n",
    "controle = np.log(data['degree'])\n",
    "\n",
    "data_hipotese = pd.DataFrame({\n",
    "    'dependente': dependente, \n",
    "    'independente': independente, \n",
    "    'controle': controle\n",
    "})"
   ]
  },
  {
   "cell_type": "code",
   "execution_count": 21,
   "metadata": {
    "execution": {
     "iopub.execute_input": "2024-11-04T14:25:20.907866Z",
     "iopub.status.busy": "2024-11-04T14:25:20.907605Z",
     "iopub.status.idle": "2024-11-04T14:25:22.146338Z",
     "shell.execute_reply": "2024-11-04T14:25:22.145371Z",
     "shell.execute_reply.started": "2024-11-04T14:25:20.907847Z"
    }
   },
   "outputs": [
    {
     "data": {
      "image/png": "[encoded data removed]",
      "text/plain": [
       "<Figure size 1600x1600 with 9 Axes>"
      ]
     },
     "metadata": {},
     "output_type": "display_data"
    }
   ],
   "source": [
    "fig, axes = plt.subplots(3, 3, figsize=(16, 16))\n",
    "\n",
    "fig.suptitle(\"Relação entre as propriedades da rede\\n Horizontal X Vertical\")\n",
    "\n",
    "sns.histplot(independente, ax=axes[0, 0]).set_title(\"Independente\")\n",
    "sns.scatterplot(x=dependente, y=independente, ax=axes[0, 1]).set_title(\"Dependente X Independente\")\n",
    "sns.scatterplot(x=controle, y=independente, ax=axes[0, 2]).set_title(\"Controle X Independente\")\n",
    "\n",
    "sns.scatterplot(x=independente, y=dependente, ax=axes[1, 0]).set_title(\"Independente X Dependente\")\n",
    "sns.histplot(dependente, ax=axes[1, 1]).set_title(\"Dependente\")\n",
    "sns.scatterplot(x=controle, y=dependente, ax=axes[1, 2]).set_title(\"Controle X Dependente\")\n",
    "\n",
    "sns.scatterplot(x=independente, y=controle, ax=axes[2, 0]).set_title(\"Independente X Controle\")\n",
    "sns.scatterplot(x=dependente, y=controle, ax=axes[2, 1]).set_title(\"Dependente X Controle\")\n",
    "sns.histplot(controle, ax=axes[2, 2]).set_title(\"Controle\")\n",
    "\n",
    "plt.show()"
   ]
  },
  {
   "cell_type": "code",
   "execution_count": 22,
   "metadata": {
    "execution": {
     "iopub.execute_input": "2024-11-04T14:25:22.147643Z",
     "iopub.status.busy": "2024-11-04T14:25:22.147405Z",
     "iopub.status.idle": "2024-11-04T14:25:22.168986Z",
     "shell.execute_reply": "2024-11-04T14:25:22.168114Z",
     "shell.execute_reply.started": "2024-11-04T14:25:22.147624Z"
    }
   },
   "outputs": [
    {
     "data": {
      "text/html": [
       "<div>\n",
       "<style scoped>\n",
       "    .dataframe tbody tr th:only-of-type {\n",
       "        vertical-align: middle;\n",
       "    }\n",
       "\n",
       "    .dataframe tbody tr th {\n",
       "        vertical-align: top;\n",
       "    }\n",
       "\n",
       "    .dataframe thead th {\n",
       "        text-align: right;\n",
       "    }\n",
       "</style>\n",
       "<table border=\"1\" class=\"dataframe\">\n",
       "  <thead>\n",
       "    <tr style=\"text-align: right;\">\n",
       "      <th></th>\n",
       "      <th>independente</th>\n",
       "      <th>dependente</th>\n",
       "      <th>controle</th>\n",
       "    </tr>\n",
       "  </thead>\n",
       "  <tbody>\n",
       "    <tr>\n",
       "      <th>0</th>\n",
       "      <td>1.0  (óbvio)</td>\n",
       "      <td>0.2037250371  *</td>\n",
       "      <td>-0.1856915169  *</td>\n",
       "    </tr>\n",
       "    <tr>\n",
       "      <th>1</th>\n",
       "      <td>0.2037250371  *</td>\n",
       "      <td>1.0  (óbvio)</td>\n",
       "      <td>-0.2992560956  ***</td>\n",
       "    </tr>\n",
       "    <tr>\n",
       "      <th>2</th>\n",
       "      <td>-0.1856915169  *</td>\n",
       "      <td>-0.2992560956  ***</td>\n",
       "      <td>1.0  (óbvio)</td>\n",
       "    </tr>\n",
       "  </tbody>\n",
       "</table>\n",
       "</div>"
      ],
      "text/plain": [
       "       independente          dependente            controle\n",
       "0      1.0  (óbvio)     0.2037250371  *    -0.1856915169  *\n",
       "1   0.2037250371  *        1.0  (óbvio)  -0.2992560956  ***\n",
       "2  -0.1856915169  *  -0.2992560956  ***        1.0  (óbvio)"
      ]
     },
     "execution_count": 22,
     "metadata": {},
     "output_type": "execute_result"
    }
   ],
   "source": [
    "columns = ['independente', 'dependente', 'controle']\n",
    "pd.DataFrame([[pearsonr(data_hipotese[j], data_hipotese[i]) for j in columns] for i in columns], columns=columns)"
   ]
  },
  {
   "cell_type": "code",
   "execution_count": 23,
   "metadata": {
    "execution": {
     "iopub.execute_input": "2024-11-04T14:25:22.170336Z",
     "iopub.status.busy": "2024-11-04T14:25:22.169925Z",
     "iopub.status.idle": "2024-11-04T14:25:22.202074Z",
     "shell.execute_reply": "2024-11-04T14:25:22.201285Z",
     "shell.execute_reply.started": "2024-11-04T14:25:22.170315Z"
    }
   },
   "outputs": [
    {
     "data": {
      "text/html": [
       "<table class=\"simpletable\">\n",
       "<caption>OLS Regression Results</caption>\n",
       "<tr>\n",
       "  <th>Dep. Variable:</th>       <td>dependente</td>    <th>  R-squared:         </th> <td>   0.112</td>\n",
       "</tr>\n",
       "<tr>\n",
       "  <th>Model:</th>                   <td>OLS</td>       <th>  Adj. R-squared:    </th> <td>   0.090</td>\n",
       "</tr>\n",
       "<tr>\n",
       "  <th>Method:</th>             <td>Least Squares</td>  <th>  F-statistic:       </th> <td>   4.933</td>\n",
       "</tr>\n",
       "<tr>\n",
       "  <th>Date:</th>             <td>Mon, 04 Nov 2024</td> <th>  Prob (F-statistic):</th>  <td>0.00961</td>\n",
       "</tr>\n",
       "<tr>\n",
       "  <th>Time:</th>                 <td>14:25:22</td>     <th>  Log-Likelihood:    </th> <td>  81.635</td>\n",
       "</tr>\n",
       "<tr>\n",
       "  <th>No. Observations:</th>      <td>    81</td>      <th>  AIC:               </th> <td>  -157.3</td>\n",
       "</tr>\n",
       "<tr>\n",
       "  <th>Df Residuals:</th>          <td>    78</td>      <th>  BIC:               </th> <td>  -150.1</td>\n",
       "</tr>\n",
       "<tr>\n",
       "  <th>Df Model:</th>              <td>     2</td>      <th>                     </th>     <td> </td>   \n",
       "</tr>\n",
       "<tr>\n",
       "  <th>Covariance Type:</th>      <td>nonrobust</td>    <th>                     </th>     <td> </td>   \n",
       "</tr>\n",
       "</table>\n",
       "<table class=\"simpletable\">\n",
       "<tr>\n",
       "        <td></td>          <th>coef</th>     <th>std err</th>      <th>t</th>      <th>P>|t|</th>  <th>[0.025</th>    <th>0.975]</th>  \n",
       "</tr>\n",
       "<tr>\n",
       "  <th>Intercept</th>    <td>    0.4531</td> <td>    0.034</td> <td>   13.431</td> <td> 0.000</td> <td>    0.386</td> <td>    0.520</td>\n",
       "</tr>\n",
       "<tr>\n",
       "  <th>independente</th> <td>    0.0495</td> <td>    0.035</td> <td>    1.413</td> <td> 0.162</td> <td>   -0.020</td> <td>    0.119</td>\n",
       "</tr>\n",
       "<tr>\n",
       "  <th>controle</th>     <td>   -0.0243</td> <td>    0.010</td> <td>   -2.494</td> <td> 0.015</td> <td>   -0.044</td> <td>   -0.005</td>\n",
       "</tr>\n",
       "</table>\n",
       "<table class=\"simpletable\">\n",
       "<tr>\n",
       "  <th>Omnibus:</th>       <td> 7.752</td> <th>  Durbin-Watson:     </th> <td>   2.173</td>\n",
       "</tr>\n",
       "<tr>\n",
       "  <th>Prob(Omnibus):</th> <td> 0.021</td> <th>  Jarque-Bera (JB):  </th> <td>   7.679</td>\n",
       "</tr>\n",
       "<tr>\n",
       "  <th>Skew:</th>          <td>-0.751</td> <th>  Prob(JB):          </th> <td>  0.0215</td>\n",
       "</tr>\n",
       "<tr>\n",
       "  <th>Kurtosis:</th>      <td> 3.132</td> <th>  Cond. No.          </th> <td>    12.6</td>\n",
       "</tr>\n",
       "</table><br/><br/>Notes:<br/>[1] Standard Errors assume that the covariance matrix of the errors is correctly specified."
      ],
      "text/latex": [
       "\\begin{center}\n",
       "\\begin{tabular}{lclc}\n",
       "\\toprule\n",
       "\\textbf{Dep. Variable:}    &    dependente    & \\textbf{  R-squared:         } &     0.112   \\\\\n",
       "\\textbf{Model:}            &       OLS        & \\textbf{  Adj. R-squared:    } &     0.090   \\\\\n",
       "\\textbf{Method:}           &  Least Squares   & \\textbf{  F-statistic:       } &     4.933   \\\\\n",
       "\\textbf{Date:}             & Mon, 04 Nov 2024 & \\textbf{  Prob (F-statistic):} &  0.00961    \\\\\n",
       "\\textbf{Time:}             &     14:25:22     & \\textbf{  Log-Likelihood:    } &    81.635   \\\\\n",
       "\\textbf{No. Observations:} &          81      & \\textbf{  AIC:               } &    -157.3   \\\\\n",
       "\\textbf{Df Residuals:}     &          78      & \\textbf{  BIC:               } &    -150.1   \\\\\n",
       "\\textbf{Df Model:}         &           2      & \\textbf{                     } &             \\\\\n",
       "\\textbf{Covariance Type:}  &    nonrobust     & \\textbf{                     } &             \\\\\n",
       "\\bottomrule\n",
       "\\end{tabular}\n",
       "\\begin{tabular}{lcccccc}\n",
       "                      & \\textbf{coef} & \\textbf{std err} & \\textbf{t} & \\textbf{P$> |$t$|$} & \\textbf{[0.025} & \\textbf{0.975]}  \\\\\n",
       "\\midrule\n",
       "\\textbf{Intercept}    &       0.4531  &        0.034     &    13.431  &         0.000        &        0.386    &        0.520     \\\\\n",
       "\\textbf{independente} &       0.0495  &        0.035     &     1.413  &         0.162        &       -0.020    &        0.119     \\\\\n",
       "\\textbf{controle}     &      -0.0243  &        0.010     &    -2.494  &         0.015        &       -0.044    &       -0.005     \\\\\n",
       "\\bottomrule\n",
       "\\end{tabular}\n",
       "\\begin{tabular}{lclc}\n",
       "\\textbf{Omnibus:}       &  7.752 & \\textbf{  Durbin-Watson:     } &    2.173  \\\\\n",
       "\\textbf{Prob(Omnibus):} &  0.021 & \\textbf{  Jarque-Bera (JB):  } &    7.679  \\\\\n",
       "\\textbf{Skew:}          & -0.751 & \\textbf{  Prob(JB):          } &   0.0215  \\\\\n",
       "\\textbf{Kurtosis:}      &  3.132 & \\textbf{  Cond. No.          } &     12.6  \\\\\n",
       "\\bottomrule\n",
       "\\end{tabular}\n",
       "%\\caption{OLS Regression Results}\n",
       "\\end{center}\n",
       "\n",
       "Notes: \\newline\n",
       " [1] Standard Errors assume that the covariance matrix of the errors is correctly specified."
      ],
      "text/plain": [
       "<class 'statsmodels.iolib.summary.Summary'>\n",
       "\"\"\"\n",
       "                            OLS Regression Results                            \n",
       "==============================================================================\n",
       "Dep. Variable:             dependente   R-squared:                       0.112\n",
       "Model:                            OLS   Adj. R-squared:                  0.090\n",
       "Method:                 Least Squares   F-statistic:                     4.933\n",
       "Date:                Mon, 04 Nov 2024   Prob (F-statistic):            0.00961\n",
       "Time:                        14:25:22   Log-Likelihood:                 81.635\n",
       "No. Observations:                  81   AIC:                            -157.3\n",
       "Df Residuals:                      78   BIC:                            -150.1\n",
       "Df Model:                           2                                         \n",
       "Covariance Type:            nonrobust                                         \n",
       "================================================================================\n",
       "                   coef    std err          t      P>|t|      [0.025      0.975]\n",
       "--------------------------------------------------------------------------------\n",
       "Intercept        0.4531      0.034     13.431      0.000       0.386       0.520\n",
       "independente     0.0495      0.035      1.413      0.162      -0.020       0.119\n",
       "controle        -0.0243      0.010     -2.494      0.015      -0.044      -0.005\n",
       "==============================================================================\n",
       "Omnibus:                        7.752   Durbin-Watson:                   2.173\n",
       "Prob(Omnibus):                  0.021   Jarque-Bera (JB):                7.679\n",
       "Skew:                          -0.751   Prob(JB):                       0.0215\n",
       "Kurtosis:                       3.132   Cond. No.                         12.6\n",
       "==============================================================================\n",
       "\n",
       "Notes:\n",
       "[1] Standard Errors assume that the covariance matrix of the errors is correctly specified.\n",
       "\"\"\""
      ]
     },
     "execution_count": 23,
     "metadata": {},
     "output_type": "execute_result"
    }
   ],
   "source": [
    "result = reg.linear(data=data_hipotese, formula='dependente ~ independente + controle') # dependente à esquerda!\n",
    "result.summary()"
   ]
  }
 ],
 "metadata": {
  "kernelspec": {
   "display_name": "Python 3 (ipykernel)",
   "language": "python",
   "name": "python3"
  },
  "language_info": {
   "codemirror_mode": {
    "name": "ipython",
    "version": 3
   },
   "file_extension": ".py",
   "mimetype": "text/x-python",
   "name": "python",
   "nbconvert_exporter": "python",
   "pygments_lexer": "ipython3",
   "version": "3.12.4"
  }
 },
 "nbformat": 4,
 "nbformat_minor": 4
}
