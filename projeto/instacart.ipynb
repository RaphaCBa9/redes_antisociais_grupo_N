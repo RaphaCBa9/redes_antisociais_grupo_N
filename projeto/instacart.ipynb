{
 "cells": [
  {
   "cell_type": "code",
   "execution_count": 5,
   "metadata": {},
   "outputs": [],
   "source": [
    "import pandas as pd\n",
    "import numpy as np\n",
    "from matplotlib import pyplot as plt\n",
    "\n",
    "from instacart_data import *"
   ]
  },
  {
   "cell_type": "markdown",
   "metadata": {},
   "source": [
    "**Dado em Análise:** \n",
    "\n",
    "https://www.kaggle.com/competitions/instacart-market-basket-analysis/data"
   ]
  },
  {
   "cell_type": "code",
   "execution_count": 6,
   "metadata": {},
   "outputs": [
    {
     "name": "stdout",
     "output_type": "stream",
     "text": [
      "Carregando dados dos produtos dos pedidos...\n",
      "Fazendo varredura no arquivo de pedidos...\n",
      "Salvando dados dos pedidos dos usuários...\n"
     ]
    }
   ],
   "source": [
    "order_products = get_order_products()\n",
    "user_orders = get_user_orders()"
   ]
  },
  {
   "cell_type": "code",
   "execution_count": 8,
   "metadata": {},
   "outputs": [
    {
     "data": {
      "text/plain": [
       "206209"
      ]
     },
     "execution_count": 8,
     "metadata": {},
     "output_type": "execute_result"
    }
   ],
   "source": [
    "n_user = len(user_orders)\n",
    "n_user"
   ]
  },
  {
   "cell_type": "code",
   "execution_count": 22,
   "metadata": {},
   "outputs": [
    {
     "data": {
      "text/plain": [
       "count    3346083.00\n",
       "mean          10.11\n",
       "std            7.54\n",
       "min            1.00\n",
       "25%            5.00\n",
       "50%            8.00\n",
       "75%           14.00\n",
       "max          145.00\n",
       "dtype: float64"
      ]
     },
     "execution_count": 22,
     "metadata": {},
     "output_type": "execute_result"
    }
   ],
   "source": [
    "n_products = [ len(order) for order in order_products.values() ]\n",
    "pd.Series(n_products).describe().round(2)"
   ]
  },
  {
   "cell_type": "code",
   "execution_count": 32,
   "metadata": {},
   "outputs": [
    {
     "data": {
      "image/png": "[encoded data removed]",
      "text/plain": [
       "<Figure size 640x480 with 1 Axes>"
      ]
     },
     "metadata": {},
     "output_type": "display_data"
    }
   ],
   "source": [
    "plt.hist(n_products, edgecolor='white')\n",
    "plt.show()"
   ]
  },
  {
   "cell_type": "code",
   "execution_count": null,
   "metadata": {},
   "outputs": [],
   "source": [
    "raise Exception('STOP')"
   ]
  },
  {
   "cell_type": "code",
   "execution_count": 27,
   "metadata": {},
   "outputs": [],
   "source": [
    "edges = gen_edges_data(order_products)"
   ]
  },
  {
   "cell_type": "code",
   "execution_count": 34,
   "metadata": {},
   "outputs": [
    {
     "data": {
      "text/plain": [
       "count    42025637.00\n",
       "mean           11.86\n",
       "std           137.64\n",
       "min             2.00\n",
       "25%             2.00\n",
       "50%             2.00\n",
       "75%             6.00\n",
       "max        129522.00\n",
       "dtype: float64"
      ]
     },
     "execution_count": 34,
     "metadata": {},
     "output_type": "execute_result"
    }
   ],
   "source": [
    "pd.Series(edges.values()).describe().round(2)"
   ]
  },
  {
   "cell_type": "code",
   "execution_count": 33,
   "metadata": {},
   "outputs": [
    {
     "data": {
      "text/plain": [
       "count    4.202564e+07\n",
       "mean     5.750483e-05\n",
       "std      6.674760e-04\n",
       "min      9.698898e-06\n",
       "25%      9.698898e-06\n",
       "50%      9.698898e-06\n",
       "75%      2.909669e-05\n",
       "max      6.281103e-01\n",
       "dtype: float64"
      ]
     },
     "execution_count": 33,
     "metadata": {},
     "output_type": "execute_result"
    }
   ],
   "source": [
    "edges_ = pd.Series(edges.values()).apply(lambda x: x/n_user)\n",
    "edges_.describe()"
   ]
  },
  {
   "cell_type": "code",
   "execution_count": null,
   "metadata": {},
   "outputs": [],
   "source": [
    "edges_weights = list(edges.values())\n",
    "threshold = round(np.mean(edges_weights) + np.std(edges_weights), 0)\n",
    "threshold"
   ]
  },
  {
   "cell_type": "code",
   "execution_count": null,
   "metadata": {},
   "outputs": [],
   "source": [
    "gen_edges_csv('edges', edges, threshold)"
   ]
  }
 ],
 "metadata": {
  "kernelspec": {
   "display_name": "Python 3",
   "language": "python",
   "name": "python3"
  },
  "language_info": {
   "codemirror_mode": {
    "name": "ipython",
    "version": 3
   },
   "file_extension": ".py",
   "mimetype": "text/x-python",
   "name": "python",
   "nbconvert_exporter": "python",
   "pygments_lexer": "ipython3",
   "version": "3.12.4"
  }
 },
 "nbformat": 4,
 "nbformat_minor": 4
}
