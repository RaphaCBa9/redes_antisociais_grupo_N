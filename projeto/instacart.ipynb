{
 "cells": [
  {
   "cell_type": "code",
   "execution_count": 1,
   "metadata": {},
   "outputs": [],
   "source": [
    "from matplotlib import pyplot as plt\n",
    "import numpy as np\n",
    "import pandas as pd\n",
    "import json, time, os, zipfile"
   ]
  },
  {
   "cell_type": "markdown",
   "metadata": {},
   "source": [
    "**Dado em Análise:** \n",
    "\n",
    "https://www.kaggle.com/competitions/instacart-market-basket-analysis/data"
   ]
  },
  {
   "cell_type": "code",
   "execution_count": 2,
   "metadata": {},
   "outputs": [],
   "source": [
    "if not os.path.isdir('./data'):\n",
    "    os.mkdir('./data')\n",
    "\n",
    "if os.path.isfile('./data/order_products.zip'):\n",
    "    with zipfile.ZipFile('./data/order_products.zip', 'r') as zip_ref:\n",
    "        zip_ref.extractall('./data')"
   ]
  },
  {
   "cell_type": "code",
   "execution_count": 3,
   "metadata": {},
   "outputs": [],
   "source": [
    "orders = {}\n",
    "if not os.path.isfile('./data/orders.json'):\n",
    "    with open('./data/order_products.csv', 'r') as file:\n",
    "        next(file)\n",
    "        for line in file:\n",
    "            order_id, product_id, _, _ = line.strip().split(',')\n",
    "\n",
    "            if order_id not in orders.keys():\n",
    "                orders[order_id] = [product_id]\n",
    "            else:\n",
    "                orders[order_id].append(product_id)\n",
    "    json.dump(orders, open('./data/orders.json', 'w'))\n",
    "else:\n",
    "    orders = json.load(open('./data/orders.json', 'r'))\n",
    "orders = orders.values()"
   ]
  },
  {
   "cell_type": "code",
   "execution_count": 4,
   "metadata": {},
   "outputs": [
    {
     "data": {
      "text/plain": [
       "count    3214874.00\n",
       "mean          10.09\n",
       "std            7.53\n",
       "min            1.00\n",
       "25%            5.00\n",
       "50%            8.00\n",
       "75%           14.00\n",
       "max          145.00\n",
       "dtype: float64"
      ]
     },
     "execution_count": 4,
     "metadata": {},
     "output_type": "execute_result"
    }
   ],
   "source": [
    "n_products = [ len(order) for order in orders ]\n",
    "pd.Series(n_products).describe().round(2)"
   ]
  },
  {
   "cell_type": "code",
   "execution_count": 5,
   "metadata": {},
   "outputs": [
    {
     "data": {
      "image/png": "[encoded data removed]",
      "text/plain": [
       "<Figure size 640x480 with 1 Axes>"
      ]
     },
     "metadata": {},
     "output_type": "display_data"
    }
   ],
   "source": [
    "plt.hist(n_products, bins=np.max(n_products), edgecolor='white', linewidth=0.5)\n",
    "plt.show()"
   ]
  },
  {
   "cell_type": "code",
   "execution_count": 6,
   "metadata": {},
   "outputs": [],
   "source": [
    "# filtred_orders = [order for order in orders if len(order) > 3 and len(order) <= 40]\n",
    "# n__filtred_products = [ len(order) for order in filtred_orders ]\n",
    "# pd.Series(n__filtred_products).describe().round(2)"
   ]
  },
  {
   "cell_type": "code",
   "execution_count": 7,
   "metadata": {},
   "outputs": [],
   "source": [
    "# plt.hist(n__filtred_products, bins=np.max(n__filtred_products), edgecolor='white', linewidth=0.5)\n",
    "# plt.show()"
   ]
  },
  {
   "cell_type": "code",
   "execution_count": 8,
   "metadata": {},
   "outputs": [
    {
     "name": "stdout",
     "output_type": "stream",
     "text": [
      "Gerando dados...\n",
      "4.0755%\n",
      "7.3235%\n",
      "10.7344%\n",
      "13.8632%\n",
      "17.3867%\n",
      "20.5722%\n",
      "24.2561%\n",
      "27.9524%\n",
      "31.4987%\n",
      "34.9960%\n",
      "38.0766%\n",
      "41.7201%\n",
      "45.2949%\n",
      "48.8510%\n",
      "52.4966%\n",
      "56.2040%\n",
      "59.8805%\n",
      "63.5912%\n",
      "67.2138%\n",
      "70.8421%\n",
      "74.4885%\n",
      "78.0808%\n",
      "81.6504%\n",
      "85.2637%\n",
      "88.8321%\n",
      "92.4260%\n",
      "95.9928%\n",
      "99.5608%\n",
      "Ordenando...\n",
      "Salvando...\n"
     ]
    }
   ],
   "source": [
    "def gen_edges_data(orders, filename):\n",
    "    edges = {}\n",
    "    if not os.path.isfile(f'./data/{filename}.json'):\n",
    "        t = time.time()\n",
    "        print('Gerando dados...')\n",
    "        for i, order in enumerate(orders):\n",
    "            for productA in order:\n",
    "                for productB in order:\n",
    "                    if productA != productB: \n",
    "                        A, B = sorted([productA, productB])\n",
    "                        edge = f'{A},{B}'\n",
    "                        edges[edge] = edges.get(edge, 0)+1\n",
    "            \n",
    "            if time.time()-t > 10:\n",
    "                t = time.time()\n",
    "                print(f'{i/len(orders)*100:.4f}%')\n",
    "        print('Ordenando...')\n",
    "        edges = dict(sorted(edges.items(), key=lambda x: x[1], reverse=True))\n",
    "        print('Salvando...')\n",
    "        json.dump(edges, open(f'./data/{filename}.json', 'w'), indent=2)\n",
    "    else:\n",
    "        edges = json.load(open(f'./data/{filename}.json', 'r'))\n",
    "    return edges\n",
    "\n",
    "edges = gen_edges_data(orders, 'edges')\n"
   ]
  },
  {
   "cell_type": "code",
   "execution_count": 9,
   "metadata": {},
   "outputs": [
    {
     "data": {
      "text/plain": [
       "count    40749010.00\n",
       "mean           11.70\n",
       "std           133.96\n",
       "min             2.00\n",
       "25%             2.00\n",
       "50%             2.00\n",
       "75%             6.00\n",
       "max        124682.00\n",
       "dtype: float64"
      ]
     },
     "execution_count": 9,
     "metadata": {},
     "output_type": "execute_result"
    }
   ],
   "source": [
    "pd.Series(edges.values()).describe().round(2)"
   ]
  },
  {
   "cell_type": "code",
   "execution_count": 11,
   "metadata": {},
   "outputs": [],
   "source": [
    "threshold = 1000\n",
    "\n",
    "with open('./data/edges.csv', 'w') as file:\n",
    "    for edge, value in edges.items():\n",
    "        if value > threshold:\n",
    "            file.write(f'{edge},{value}\\n')"
   ]
  }
 ],
 "metadata": {
  "kernelspec": {
   "display_name": "Python 3",
   "language": "python",
   "name": "python3"
  },
  "language_info": {
   "codemirror_mode": {
    "name": "ipython",
    "version": 3
   },
   "file_extension": ".py",
   "mimetype": "text/x-python",
   "name": "python",
   "nbconvert_exporter": "python",
   "pygments_lexer": "ipython3",
   "version": "3.12.4"
  }
 },
 "nbformat": 4,
 "nbformat_minor": 2
}
