{
 "cells": [
  {
   "cell_type": "code",
   "execution_count": 1,
   "metadata": {
    "execution": {
     "iopub.execute_input": "2024-11-06T11:24:34.753864Z",
     "iopub.status.busy": "2024-11-06T11:24:34.753643Z",
     "iopub.status.idle": "2024-11-06T11:24:35.410509Z",
     "shell.execute_reply": "2024-11-06T11:24:35.409813Z",
     "shell.execute_reply.started": "2024-11-06T11:24:34.753843Z"
    }
   },
   "outputs": [],
   "source": [
    "import pandas as pd\n",
    "import numpy as np\n",
    "from matplotlib import pyplot as plt\n",
    "\n",
    "from instacart_data import *"
   ]
  },
  {
   "cell_type": "markdown",
   "metadata": {},
   "source": [
    "**Dado em Análise:** \n",
    "\n",
    "https://www.kaggle.com/competitions/instacart-market-basket-analysis/data"
   ]
  },
  {
   "cell_type": "code",
   "execution_count": 2,
   "metadata": {
    "execution": {
     "iopub.execute_input": "2024-11-06T11:24:35.411532Z",
     "iopub.status.busy": "2024-11-06T11:24:35.411245Z",
     "iopub.status.idle": "2024-11-06T11:24:49.101705Z",
     "shell.execute_reply": "2024-11-06T11:24:49.100673Z",
     "shell.execute_reply.started": "2024-11-06T11:24:35.411515Z"
    }
   },
   "outputs": [
    {
     "name": "stdout",
     "output_type": "stream",
     "text": [
      "Carregando dados dos produtos dos pedidos...\n"
     ]
    }
   ],
   "source": [
    "order_products = get_order_products()"
   ]
  },
  {
   "cell_type": "code",
   "execution_count": 3,
   "metadata": {
    "execution": {
     "iopub.execute_input": "2024-11-06T11:24:49.103383Z",
     "iopub.status.busy": "2024-11-06T11:24:49.102936Z",
     "iopub.status.idle": "2024-11-06T11:24:49.106932Z",
     "shell.execute_reply": "2024-11-06T11:24:49.106099Z",
     "shell.execute_reply.started": "2024-11-06T11:24:49.103360Z"
    }
   },
   "outputs": [],
   "source": [
    "# n_products = [ len(order) for order in order_products.values() ]\n",
    "# pd.Series(n_products).describe().round(2)"
   ]
  },
  {
   "cell_type": "code",
   "execution_count": 4,
   "metadata": {
    "execution": {
     "iopub.execute_input": "2024-11-06T11:24:49.108576Z",
     "iopub.status.busy": "2024-11-06T11:24:49.108161Z",
     "iopub.status.idle": "2024-11-06T11:24:49.112537Z",
     "shell.execute_reply": "2024-11-06T11:24:49.111802Z",
     "shell.execute_reply.started": "2024-11-06T11:24:49.108542Z"
    }
   },
   "outputs": [],
   "source": [
    "# plt.hist(n_products, edgecolor='white')\n",
    "# plt.show()"
   ]
  },
  {
   "cell_type": "code",
   "execution_count": 5,
   "metadata": {
    "execution": {
     "iopub.execute_input": "2024-11-06T11:24:49.113975Z",
     "iopub.status.busy": "2024-11-06T11:24:49.113681Z"
    }
   },
   "outputs": [],
   "source": [
    "edges = gen_edges_data(order_products)"
   ]
  },
  {
   "cell_type": "code",
   "execution_count": 6,
   "metadata": {},
   "outputs": [],
   "source": [
    "edges_data = pd.DataFrame(list(edges.values()), columns=['score', 'weight', 'users'])"
   ]
  },
  {
   "cell_type": "code",
   "execution_count": 7,
   "metadata": {},
   "outputs": [
    {
     "data": {
      "text/html": [
       "<div>\n",
       "<style scoped>\n",
       "    .dataframe tbody tr th:only-of-type {\n",
       "        vertical-align: middle;\n",
       "    }\n",
       "\n",
       "    .dataframe tbody tr th {\n",
       "        vertical-align: top;\n",
       "    }\n",
       "\n",
       "    .dataframe thead th {\n",
       "        text-align: right;\n",
       "    }\n",
       "</style>\n",
       "<table border=\"1\" class=\"dataframe\">\n",
       "  <thead>\n",
       "    <tr style=\"text-align: right;\">\n",
       "      <th></th>\n",
       "      <th>score</th>\n",
       "      <th>weight</th>\n",
       "      <th>users</th>\n",
       "    </tr>\n",
       "  </thead>\n",
       "  <tbody>\n",
       "    <tr>\n",
       "      <th>0</th>\n",
       "      <td>6.524023</td>\n",
       "      <td>129404</td>\n",
       "      <td>19835</td>\n",
       "    </tr>\n",
       "    <tr>\n",
       "      <th>1</th>\n",
       "      <td>6.225519</td>\n",
       "      <td>116660</td>\n",
       "      <td>18739</td>\n",
       "    </tr>\n",
       "    <tr>\n",
       "      <th>2</th>\n",
       "      <td>6.029225</td>\n",
       "      <td>105216</td>\n",
       "      <td>17451</td>\n",
       "    </tr>\n",
       "    <tr>\n",
       "      <th>3</th>\n",
       "      <td>6.304014</td>\n",
       "      <td>106790</td>\n",
       "      <td>16940</td>\n",
       "    </tr>\n",
       "    <tr>\n",
       "      <th>4</th>\n",
       "      <td>7.646378</td>\n",
       "      <td>129522</td>\n",
       "      <td>16939</td>\n",
       "    </tr>\n",
       "    <tr>\n",
       "      <th>5</th>\n",
       "      <td>6.614058</td>\n",
       "      <td>111222</td>\n",
       "      <td>16816</td>\n",
       "    </tr>\n",
       "    <tr>\n",
       "      <th>6</th>\n",
       "      <td>5.214515</td>\n",
       "      <td>86076</td>\n",
       "      <td>16507</td>\n",
       "    </tr>\n",
       "    <tr>\n",
       "      <th>7</th>\n",
       "      <td>4.908126</td>\n",
       "      <td>79546</td>\n",
       "      <td>16207</td>\n",
       "    </tr>\n",
       "    <tr>\n",
       "      <th>8</th>\n",
       "      <td>5.401889</td>\n",
       "      <td>86360</td>\n",
       "      <td>15987</td>\n",
       "    </tr>\n",
       "    <tr>\n",
       "      <th>9</th>\n",
       "      <td>5.914082</td>\n",
       "      <td>84666</td>\n",
       "      <td>14316</td>\n",
       "    </tr>\n",
       "  </tbody>\n",
       "</table>\n",
       "</div>"
      ],
      "text/plain": [
       "      score  weight  users\n",
       "0  6.524023  129404  19835\n",
       "1  6.225519  116660  18739\n",
       "2  6.029225  105216  17451\n",
       "3  6.304014  106790  16940\n",
       "4  7.646378  129522  16939\n",
       "5  6.614058  111222  16816\n",
       "6  5.214515   86076  16507\n",
       "7  4.908126   79546  16207\n",
       "8  5.401889   86360  15987\n",
       "9  5.914082   84666  14316"
      ]
     },
     "execution_count": 7,
     "metadata": {},
     "output_type": "execute_result"
    }
   ],
   "source": [
    "edges_data.head(10)"
   ]
  },
  {
   "cell_type": "code",
   "execution_count": 8,
   "metadata": {},
   "outputs": [
    {
     "data": {
      "text/html": [
       "<div>\n",
       "<style scoped>\n",
       "    .dataframe tbody tr th:only-of-type {\n",
       "        vertical-align: middle;\n",
       "    }\n",
       "\n",
       "    .dataframe tbody tr th {\n",
       "        vertical-align: top;\n",
       "    }\n",
       "\n",
       "    .dataframe thead th {\n",
       "        text-align: right;\n",
       "    }\n",
       "</style>\n",
       "<table border=\"1\" class=\"dataframe\">\n",
       "  <thead>\n",
       "    <tr style=\"text-align: right;\">\n",
       "      <th></th>\n",
       "      <th>score</th>\n",
       "      <th>weight</th>\n",
       "      <th>users</th>\n",
       "    </tr>\n",
       "  </thead>\n",
       "  <tbody>\n",
       "    <tr>\n",
       "      <th>count</th>\n",
       "      <td>42025637.00</td>\n",
       "      <td>42025637.00</td>\n",
       "      <td>42025637.00</td>\n",
       "    </tr>\n",
       "    <tr>\n",
       "      <th>mean</th>\n",
       "      <td>2.57</td>\n",
       "      <td>11.86</td>\n",
       "      <td>4.09</td>\n",
       "    </tr>\n",
       "    <tr>\n",
       "      <th>std</th>\n",
       "      <td>1.74</td>\n",
       "      <td>137.64</td>\n",
       "      <td>33.94</td>\n",
       "    </tr>\n",
       "    <tr>\n",
       "      <th>min</th>\n",
       "      <td>2.00</td>\n",
       "      <td>2.00</td>\n",
       "      <td>1.00</td>\n",
       "    </tr>\n",
       "    <tr>\n",
       "      <th>25%</th>\n",
       "      <td>2.00</td>\n",
       "      <td>2.00</td>\n",
       "      <td>1.00</td>\n",
       "    </tr>\n",
       "    <tr>\n",
       "      <th>50%</th>\n",
       "      <td>2.00</td>\n",
       "      <td>2.00</td>\n",
       "      <td>1.00</td>\n",
       "    </tr>\n",
       "    <tr>\n",
       "      <th>75%</th>\n",
       "      <td>2.31</td>\n",
       "      <td>6.00</td>\n",
       "      <td>2.00</td>\n",
       "    </tr>\n",
       "    <tr>\n",
       "      <th>max</th>\n",
       "      <td>166.00</td>\n",
       "      <td>129522.00</td>\n",
       "      <td>19835.00</td>\n",
       "    </tr>\n",
       "  </tbody>\n",
       "</table>\n",
       "</div>"
      ],
      "text/plain": [
       "             score       weight        users\n",
       "count  42025637.00  42025637.00  42025637.00\n",
       "mean          2.57        11.86         4.09\n",
       "std           1.74       137.64        33.94\n",
       "min           2.00         2.00         1.00\n",
       "25%           2.00         2.00         1.00\n",
       "50%           2.00         2.00         1.00\n",
       "75%           2.31         6.00         2.00\n",
       "max         166.00    129522.00     19835.00"
      ]
     },
     "execution_count": 8,
     "metadata": {},
     "output_type": "execute_result"
    }
   ],
   "source": [
    "edges_data.describe().round(2)"
   ]
  },
  {
   "cell_type": "code",
   "execution_count": 9,
   "metadata": {},
   "outputs": [
    {
     "data": {
      "image/png": "[encoded data removed]",
      "text/plain": [
       "<Figure size 640x480 with 1 Axes>"
      ]
     },
     "metadata": {},
     "output_type": "display_data"
    }
   ],
   "source": [
    "plt.hist(edges_data['score'], bins=83)\n",
    "plt.show()"
   ]
  },
  {
   "cell_type": "code",
   "execution_count": 10,
   "metadata": {},
   "outputs": [
    {
     "name": "stdout",
     "output_type": "stream",
     "text": [
      "481037 arestas geradas com o threshold de 9\n"
     ]
    }
   ],
   "source": [
    "gen_edges_csv('edges', edges, 0, 9)"
   ]
  }
 ],
 "metadata": {
  "kernelspec": {
   "display_name": "Python 3",
   "language": "python",
   "name": "python3"
  },
  "language_info": {
   "codemirror_mode": {
    "name": "ipython",
    "version": 3
   },
   "file_extension": ".py",
   "mimetype": "text/x-python",
   "name": "python",
   "nbconvert_exporter": "python",
   "pygments_lexer": "ipython3",
   "version": "3.12.4"
  }
 },
 "nbformat": 4,
 "nbformat_minor": 4
}
