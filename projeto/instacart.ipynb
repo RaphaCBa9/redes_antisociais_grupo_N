{
 "cells": [
  {
   "cell_type": "code",
   "execution_count": 2,
   "metadata": {},
   "outputs": [],
   "source": [
    "from matplotlib import pyplot as plt\n",
    "import numpy as np\n",
    "import pandas as pd\n",
    "import json, time, os, zipfile"
   ]
  },
  {
   "cell_type": "markdown",
   "metadata": {},
   "source": [
    "**Dado em Análise:** \n",
    "\n",
    "https://www.kaggle.com/competitions/instacart-market-basket-analysis/data"
   ]
  },
  {
   "cell_type": "code",
   "execution_count": 6,
   "metadata": {},
   "outputs": [],
   "source": [
    "if not os.path.isdir('./data'):\n",
    "    os.mkdir('./data')\n",
    "\n",
    "if os.path.isfile('./data/order_products.zip'):\n",
    "    with zipfile.ZipFile('./data/order_products.zip', 'r') as zip_ref:\n",
    "        zip_ref.extractall('./data')"
   ]
  },
  {
   "cell_type": "code",
   "execution_count": 2,
   "metadata": {},
   "outputs": [],
   "source": [
    "orders = {}\n",
    "with open('./data/order_products.csv', 'r') as file:\n",
    "    next(file)\n",
    "    for line in file:\n",
    "        order_id, product_id, _, _ = line.strip().split(',')\n",
    "\n",
    "        if order_id not in orders.keys():\n",
    "            orders[order_id] = [product_id]\n",
    "        else:\n",
    "            orders[order_id].append(product_id)\n",
    "orders = orders.values()"
   ]
  },
  {
   "cell_type": "code",
   "execution_count": 3,
   "metadata": {},
   "outputs": [
    {
     "data": {
      "text/plain": [
       "count    3214874.00\n",
       "mean          10.09\n",
       "std            7.53\n",
       "min            1.00\n",
       "25%            5.00\n",
       "50%            8.00\n",
       "75%           14.00\n",
       "max          145.00\n",
       "dtype: float64"
      ]
     },
     "execution_count": 3,
     "metadata": {},
     "output_type": "execute_result"
    }
   ],
   "source": [
    "n_products = [ len(order) for order in orders ]\n",
    "pd.Series(n_products).describe().round(2)"
   ]
  },
  {
   "cell_type": "code",
   "execution_count": 4,
   "metadata": {},
   "outputs": [
    {
     "data": {
      "image/png": "[encoded data removed]",
      "text/plain": [
       "<Figure size 640x480 with 1 Axes>"
      ]
     },
     "metadata": {},
     "output_type": "display_data"
    }
   ],
   "source": [
    "plt.hist(n_products, bins=np.max(n_products), edgecolor='white', linewidth=0.5)\n",
    "plt.show()"
   ]
  },
  {
   "cell_type": "code",
   "execution_count": 5,
   "metadata": {},
   "outputs": [],
   "source": [
    "filtred_orders = [order for order in orders if len(order) <= 40]"
   ]
  },
  {
   "cell_type": "code",
   "execution_count": 6,
   "metadata": {},
   "outputs": [
    {
     "data": {
      "text/plain": [
       "count    3201186.00\n",
       "mean           9.93\n",
       "std            7.11\n",
       "min            1.00\n",
       "25%            5.00\n",
       "50%            8.00\n",
       "75%           14.00\n",
       "max           40.00\n",
       "dtype: float64"
      ]
     },
     "execution_count": 6,
     "metadata": {},
     "output_type": "execute_result"
    }
   ],
   "source": [
    "n__filtred_products = [ len(order) for order in filtred_orders ]\n",
    "pd.Series(n__filtred_products).describe().round(2)"
   ]
  },
  {
   "cell_type": "code",
   "execution_count": 7,
   "metadata": {},
   "outputs": [],
   "source": [
    "filtred_orders = [order for order in orders if len(order) > 3 and len(order) <= 40]"
   ]
  },
  {
   "cell_type": "code",
   "execution_count": 8,
   "metadata": {},
   "outputs": [
    {
     "data": {
      "text/plain": [
       "count    2650418.00\n",
       "mean          11.56\n",
       "std            6.75\n",
       "min            4.00\n",
       "25%            6.00\n",
       "50%           10.00\n",
       "75%           15.00\n",
       "max           40.00\n",
       "dtype: float64"
      ]
     },
     "execution_count": 8,
     "metadata": {},
     "output_type": "execute_result"
    }
   ],
   "source": [
    "n__filtred_products = [ len(order) for order in filtred_orders ]\n",
    "pd.Series(n__filtred_products).describe().round(2)"
   ]
  },
  {
   "cell_type": "code",
   "execution_count": 9,
   "metadata": {},
   "outputs": [
    {
     "data": {
      "image/png": "[encoded data removed]",
      "text/plain": [
       "<Figure size 640x480 with 1 Axes>"
      ]
     },
     "metadata": {},
     "output_type": "display_data"
    }
   ],
   "source": [
    "plt.hist(n__filtred_products, bins=np.max(n__filtred_products), edgecolor='white', linewidth=0.5)\n",
    "plt.show()"
   ]
  },
  {
   "cell_type": "code",
   "execution_count": 10,
   "metadata": {},
   "outputs": [],
   "source": [
    "edges = {}\n",
    "if not os.path.isfile('./data/edges.json'):\n",
    "    t = time.time()\n",
    "    for i, order in enumerate(filtred_orders):\n",
    "        for productA in order:\n",
    "            for productB in order:\n",
    "                if productA != productB: \n",
    "                    A, B = sorted([productA, productB])\n",
    "                    edge = f'{A},{B}'\n",
    "                    if edge in edges.keys(): edges[edge] += 1\n",
    "                    else: edges[edge] = 1 \n",
    "        \n",
    "        if t-time.time() > 10:\n",
    "            t = time.time()\n",
    "            print(i/len(filtred_orders)*100, '%')\n",
    "\n",
    "    json.dump(edges, open('./data/edges.json', 'w'), indent=2)\n",
    "else:\n",
    "    edges = json.load(open('./data/edges.json', 'r'))\n"
   ]
  },
  {
   "cell_type": "code",
   "execution_count": 11,
   "metadata": {},
   "outputs": [
    {
     "data": {
      "text/plain": [
       "count    38742669.00\n",
       "mean           11.47\n",
       "std           132.03\n",
       "min             2.00\n",
       "25%             2.00\n",
       "50%             2.00\n",
       "75%             6.00\n",
       "max        120698.00\n",
       "dtype: float64"
      ]
     },
     "execution_count": 11,
     "metadata": {},
     "output_type": "execute_result"
    }
   ],
   "source": [
    "pd.Series(edges.values()).describe().round(2)"
   ]
  },
  {
   "cell_type": "code",
   "execution_count": 13,
   "metadata": {},
   "outputs": [],
   "source": [
    "threshold = 143\n",
    "\n",
    "with open('./data/edges.csv', 'w') as file:\n",
    "    for edge, value in edges.items():\n",
    "        if value > threshold:\n",
    "            file.write(f'{edge},{value}\\n')"
   ]
  }
 ],
 "metadata": {
  "kernelspec": {
   "display_name": "Python 3",
   "language": "python",
   "name": "python3"
  },
  "language_info": {
   "codemirror_mode": {
    "name": "ipython",
    "version": 3
   },
   "file_extension": ".py",
   "mimetype": "text/x-python",
   "name": "python",
   "nbconvert_exporter": "python",
   "pygments_lexer": "ipython3",
   "version": "3.12.4"
  }
 },
 "nbformat": 4,
 "nbformat_minor": 2
}
