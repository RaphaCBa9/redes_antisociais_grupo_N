{
 "cells": [
  {
   "cell_type": "code",
   "execution_count": 1,
   "metadata": {},
   "outputs": [],
   "source": [
    "import pandas as pd\n",
    "\n",
    "from instacart_data import *"
   ]
  },
  {
   "cell_type": "markdown",
   "metadata": {},
   "source": [
    "**Dado em Análise:** \n",
    "\n",
    "https://www.kaggle.com/competitions/instacart-market-basket-analysis/data"
   ]
  },
  {
   "cell_type": "code",
   "execution_count": 2,
   "metadata": {},
   "outputs": [
    {
     "name": "stdout",
     "output_type": "stream",
     "text": [
      "Carregando dados dos produtos dos pedidos...\n"
     ]
    }
   ],
   "source": [
    "order_products = get_order_products()"
   ]
  },
  {
   "cell_type": "code",
   "execution_count": 3,
   "metadata": {},
   "outputs": [
    {
     "data": {
      "text/plain": [
       "count    3214874.00\n",
       "mean           6.68\n",
       "std            0.54\n",
       "min            1.00\n",
       "25%            6.00\n",
       "50%            7.00\n",
       "75%            7.00\n",
       "max            7.00\n",
       "dtype: float64"
      ]
     },
     "execution_count": 3,
     "metadata": {},
     "output_type": "execute_result"
    }
   ],
   "source": [
    "n_products = [ len(order) for order in order_products ]\n",
    "pd.Series(n_products).describe().round(2)"
   ]
  },
  {
   "cell_type": "code",
   "execution_count": 4,
   "metadata": {},
   "outputs": [
    {
     "name": "stdout",
     "output_type": "stream",
     "text": [
      "Gerando dados das arestas...\n",
      "4.1485%\n",
      "8.0260%\n",
      "11.5842%\n",
      "15.2892%\n",
      "19.1673%\n",
      "22.9515%\n",
      "26.6571%\n",
      "30.2656%\n",
      "33.9172%\n",
      "37.3324%\n",
      "41.0885%\n",
      "44.8554%\n",
      "48.5525%\n",
      "52.2371%\n",
      "55.9373%\n",
      "59.6226%\n",
      "63.3421%\n",
      "66.9799%\n",
      "70.6221%\n",
      "74.2472%\n",
      "77.8682%\n",
      "81.4735%\n",
      "85.1044%\n",
      "88.7181%\n",
      "92.3335%\n",
      "95.9234%\n",
      "99.4777%\n",
      "Ordenando arestas por peso...\n",
      "Salvando dados das arestas...\n"
     ]
    }
   ],
   "source": [
    "edges = gen_edges_data(order_products)"
   ]
  },
  {
   "cell_type": "code",
   "execution_count": 5,
   "metadata": {},
   "outputs": [
    {
     "data": {
      "text/plain": [
       "count    40749010.00\n",
       "mean           11.70\n",
       "std           133.96\n",
       "min             2.00\n",
       "25%             2.00\n",
       "50%             2.00\n",
       "75%             6.00\n",
       "max        124682.00\n",
       "dtype: float64"
      ]
     },
     "execution_count": 5,
     "metadata": {},
     "output_type": "execute_result"
    }
   ],
   "source": [
    "pd.Series(edges.values()).describe().round(2)"
   ]
  },
  {
   "cell_type": "code",
   "execution_count": 6,
   "metadata": {},
   "outputs": [],
   "source": [
    "gen_edges_csv(edges, threshold=round(11.7+133.96, 0))\n"
   ]
  }
 ],
 "metadata": {
  "kernelspec": {
   "display_name": "Python 3",
   "language": "python",
   "name": "python3"
  },
  "language_info": {
   "codemirror_mode": {
    "name": "ipython",
    "version": 3
   },
   "file_extension": ".py",
   "mimetype": "text/x-python",
   "name": "python",
   "nbconvert_exporter": "python",
   "pygments_lexer": "ipython3",
   "version": "3.12.4"
  }
 },
 "nbformat": 4,
 "nbformat_minor": 2
}
