{
 "cells": [
  {
   "cell_type": "code",
   "execution_count": 1,
   "metadata": {
    "execution": {
     "iopub.execute_input": "2024-10-14T17:17:18.656448Z",
     "iopub.status.busy": "2024-10-14T17:17:18.655738Z",
     "iopub.status.idle": "2024-10-14T17:18:16.947370Z",
     "shell.execute_reply": "2024-10-14T17:18:16.944954Z",
     "shell.execute_reply.started": "2024-10-14T17:17:18.656418Z"
    }
   },
   "outputs": [
    {
     "data": {
      "text/html": [
       "\n",
       "    <script src=\"/static/.hidden/netpixi.min.js\"></script>\n"
      ],
      "text/plain": [
       "<IPython.core.display.HTML object>"
      ]
     },
     "metadata": {},
     "output_type": "display_data"
    }
   ],
   "source": [
    "import netpixi\n",
    "from graph_tool import draw\n",
    "import graph_tool_extras as gte\n",
    "\n",
    "import time\n",
    "\n",
    "from data import PRODUCTS"
   ]
  },
  {
   "cell_type": "code",
   "execution_count": 6,
   "metadata": {
    "execution": {
     "iopub.execute_input": "2024-10-14T17:22:13.605477Z",
     "iopub.status.busy": "2024-10-14T17:22:13.604986Z",
     "iopub.status.idle": "2024-10-14T17:22:13.609736Z",
     "shell.execute_reply": "2024-10-14T17:22:13.609037Z",
     "shell.execute_reply.started": "2024-10-14T17:22:13.605451Z"
    }
   },
   "outputs": [],
   "source": [
    "def get_or_add_vertex(g, id):\n",
    "    v = g.vertex_by_id(id)\n",
    "    if v is None:\n",
    "        v = g.add_vertex_by_id(id)\n",
    "        p = PRODUCTS[str(id)]\n",
    "        v['aisle'] = p['aisle']\n",
    "        v['department'] = v['department']\n",
    "        v['name'] = p['name']\n",
    "    return v\n",
    "\n",
    "def get_or_add_edge(g, a, b, v):\n",
    "    e = g.edge_by_ids(a, b)\n",
    "    if e is None:\n",
    "        e = g.add_edge_by_ids(a, b)\n",
    "        e['orders'] = v\n",
    "    return e"
   ]
  },
  {
   "cell_type": "code",
   "execution_count": 7,
   "metadata": {
    "execution": {
     "iopub.execute_input": "2024-10-14T17:22:14.937430Z",
     "iopub.status.busy": "2024-10-14T17:22:14.936929Z",
     "iopub.status.idle": "2024-10-14T17:22:26.495372Z",
     "shell.execute_reply": "2024-10-14T17:22:26.494613Z",
     "shell.execute_reply.started": "2024-10-14T17:22:14.937406Z"
    }
   },
   "outputs": [],
   "source": [
    "g = gte.Graph(directed=False)\n",
    "g.add_ep('orders')\n",
    "g.add_vp('aisle')\n",
    "g.add_vp('department')\n",
    "g.add_vp('name')\n",
    "\n",
    "with open('./data/edges.csv') as file:\n",
    "    for line in file:\n",
    "        a, b, v = [int(x) for x in line.strip().replace('\\n', '').split(',')]\n",
    "        vA = get_or_add_vertex(g, a)\n",
    "        vB = get_or_add_vertex(g, b)\n",
    "    \n",
    "        e = get_or_add_edge(g, a, b, v)"
   ]
  },
  {
   "cell_type": "markdown",
   "metadata": {},
   "source": [
    "### 04: Construindo e renderizando a Rede"
   ]
  },
  {
   "cell_type": "code",
   "execution_count": 8,
   "metadata": {
    "execution": {
     "iopub.execute_input": "2024-10-14T17:23:59.640636Z",
     "iopub.status.busy": "2024-10-14T17:23:59.640147Z",
     "iopub.status.idle": "2024-10-14T17:24:14.238272Z",
     "shell.execute_reply": "2024-10-14T17:24:14.237575Z",
     "shell.execute_reply.started": "2024-10-14T17:23:59.640612Z"
    }
   },
   "outputs": [],
   "source": [
    "layout = draw.sfdp_layout(g)"
   ]
  },
  {
   "cell_type": "code",
   "execution_count": 9,
   "metadata": {
    "execution": {
     "iopub.execute_input": "2024-10-14T17:24:14.240421Z",
     "iopub.status.busy": "2024-10-14T17:24:14.239816Z",
     "iopub.status.idle": "2024-10-14T17:24:16.425757Z",
     "shell.execute_reply": "2024-10-14T17:24:16.424935Z",
     "shell.execute_reply.started": "2024-10-14T17:24:14.240398Z"
    }
   },
   "outputs": [],
   "source": [
    "gte.move(g, layout)"
   ]
  },
  {
   "cell_type": "code",
   "execution_count": 10,
   "metadata": {
    "execution": {
     "iopub.execute_input": "2024-10-14T17:24:16.426897Z",
     "iopub.status.busy": "2024-10-14T17:24:16.426666Z",
     "iopub.status.idle": "2024-10-14T17:24:16.540266Z",
     "shell.execute_reply": "2024-10-14T17:24:16.539416Z",
     "shell.execute_reply.started": "2024-10-14T17:24:16.426881Z"
    }
   },
   "outputs": [],
   "source": [
    "g = gte.clean(g)"
   ]
  },
  {
   "cell_type": "code",
   "execution_count": 11,
   "metadata": {
    "execution": {
     "iopub.execute_input": "2024-10-14T17:24:16.542191Z",
     "iopub.status.busy": "2024-10-14T17:24:16.541867Z",
     "iopub.status.idle": "2024-10-14T17:24:33.020380Z",
     "shell.execute_reply": "2024-10-14T17:24:33.019628Z",
     "shell.execute_reply.started": "2024-10-14T17:24:16.542163Z"
    }
   },
   "outputs": [],
   "source": [
    "gte.save(g, 'rede.net.gz')"
   ]
  },
  {
   "cell_type": "code",
   "execution_count": null,
   "metadata": {
    "scrolled": true
   },
   "outputs": [],
   "source": [
    "r = netpixi.render('./rede.net.gz', infinite=True)"
   ]
  },
  {
   "cell_type": "code",
   "execution_count": 9,
   "metadata": {
    "execution": {
     "iopub.execute_input": "2024-09-25T16:50:31.937196Z",
     "iopub.status.busy": "2024-09-25T16:50:31.936978Z",
     "iopub.status.idle": "2024-09-25T16:50:36.949397Z",
     "shell.execute_reply": "2024-09-25T16:50:36.948638Z",
     "shell.execute_reply.started": "2024-09-25T16:50:31.937179Z"
    }
   },
   "outputs": [
    {
     "data": {
      "text/html": [
       "\n",
       "        <div id=\"fAqTojgJi33VEHsHEJWPbn\"></div>\n",
       "        <script>netpixi.call('fAqTojgJi33VEHsHEJWPbn', 'TMyb7MMD4P9sG7fk4yPXNc', 'changeGraph', 'eyJ0eXBlIjogInNldHRpbmdzIiwgInByb3BzIjogeyJ2ZXJ0ZXgiOiB7InNpemUiOiA0LCAiYndpZHRoIjogMX19fQo=');</script>\n",
       "    "
      ],
      "text/plain": [
       "<IPython.core.display.HTML object>"
      ]
     },
     "metadata": {},
     "output_type": "display_data"
    },
    {
     "data": {
      "text/html": [
       "\n",
       "        <div id=\"G9gfkepxvWkmVHyMspXcLC\"></div>\n",
       "        <script>netpixi.call('G9gfkepxvWkmVHyMspXcLC', 'TMyb7MMD4P9sG7fk4yPXNc', 'changeGraph', 'eyJ0eXBlIjogInNldHRpbmdzIiwgInByb3BzIjogeyJlZGdlIjogeyJ3aWR0aCI6IDF9fX0K');</script>\n",
       "    "
      ],
      "text/plain": [
       "<IPython.core.display.HTML object>"
      ]
     },
     "metadata": {},
     "output_type": "display_data"
    }
   ],
   "source": [
    "time.sleep(5)\n",
    "r.vertex_default(size=4, bwidth=1)\n",
    "r.edge_default(width=1)"
   ]
  }
 ],
 "metadata": {
  "kernelspec": {
   "display_name": "Python 3 (ipykernel)",
   "language": "python",
   "name": "python3"
  },
  "language_info": {
   "codemirror_mode": {
    "name": "ipython",
    "version": 3
   },
   "file_extension": ".py",
   "mimetype": "text/x-python",
   "name": "python",
   "nbconvert_exporter": "python",
   "pygments_lexer": "ipython3",
   "version": "3.12.4"
  }
 },
 "nbformat": 4,
 "nbformat_minor": 4
}
