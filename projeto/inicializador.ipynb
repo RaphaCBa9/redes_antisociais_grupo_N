{
 "cells": [
  {
   "cell_type": "code",
   "execution_count": 1,
   "metadata": {
    "execution": {
     "iopub.execute_input": "2024-10-28T14:12:05.817935Z",
     "iopub.status.busy": "2024-10-28T14:12:05.817703Z",
     "iopub.status.idle": "2024-10-28T14:12:07.676468Z",
     "shell.execute_reply": "2024-10-28T14:12:07.675825Z",
     "shell.execute_reply.started": "2024-10-28T14:12:05.817915Z"
    }
   },
   "outputs": [
    {
     "data": {
      "text/html": [
       "\n",
       "    <script src=\"/static/.hidden/netpixi.min.js\"></script>\n"
      ],
      "text/plain": [
       "<IPython.core.display.HTML object>"
      ]
     },
     "metadata": {},
     "output_type": "display_data"
    }
   ],
   "source": [
    "import netpixi\n",
    "from graph_tool import draw\n",
    "import graph_tool_extras as gte\n",
    "\n",
    "import time\n",
    "\n",
    "from instacart_data import get_products"
   ]
  },
  {
   "cell_type": "code",
   "execution_count": 2,
   "metadata": {
    "execution": {
     "iopub.execute_input": "2024-10-28T14:12:07.677525Z",
     "iopub.status.busy": "2024-10-28T14:12:07.677149Z",
     "iopub.status.idle": "2024-10-28T14:12:07.868447Z",
     "shell.execute_reply": "2024-10-28T14:12:07.867550Z",
     "shell.execute_reply.started": "2024-10-28T14:12:07.677507Z"
    }
   },
   "outputs": [
    {
     "name": "stdout",
     "output_type": "stream",
     "text": [
      "Carregando dados de \"./data/products.json\"...\n"
     ]
    }
   ],
   "source": [
    "PRODUCTS = get_products()"
   ]
  },
  {
   "cell_type": "code",
   "execution_count": 3,
   "metadata": {
    "execution": {
     "iopub.execute_input": "2024-10-28T14:12:07.870339Z",
     "iopub.status.busy": "2024-10-28T14:12:07.870113Z",
     "iopub.status.idle": "2024-10-28T14:12:07.875093Z",
     "shell.execute_reply": "2024-10-28T14:12:07.874374Z",
     "shell.execute_reply.started": "2024-10-28T14:12:07.870322Z"
    }
   },
   "outputs": [],
   "source": [
    "def get_or_add_vertex(g, id):\n",
    "    v = g.vertex_by_id(id)\n",
    "    if v is None:\n",
    "        v = g.add_vertex_by_id(id)\n",
    "        p = PRODUCTS[str(id)]\n",
    "        v['aisle'] = p['aisle']\n",
    "        v['department'] = v['department']\n",
    "        v['name'] = p['name']\n",
    "        v['purchased once'] = p['purchased once']\n",
    "        v['purchased more than once'] = p['purchased more than once']\n",
    "        v['number of users purchased'] = p['number of users purchased']\n",
    "        v['total purchases'] = p['total purchases']\n",
    "        v['PRC'] = p['PRC']\n",
    "    return v\n",
    "\n",
    "def get_or_add_edge(g, a, b, v):\n",
    "    e = g.edge_by_ids(a, b)\n",
    "    if e is None:\n",
    "        e = g.add_edge_by_ids(a, b)\n",
    "        e['orders'] = v\n",
    "    return e"
   ]
  },
  {
   "cell_type": "code",
   "execution_count": 4,
   "metadata": {
    "execution": {
     "iopub.execute_input": "2024-10-28T14:12:07.876473Z",
     "iopub.status.busy": "2024-10-28T14:12:07.875992Z",
     "iopub.status.idle": "2024-10-28T14:12:19.840736Z",
     "shell.execute_reply": "2024-10-28T14:12:19.840132Z",
     "shell.execute_reply.started": "2024-10-28T14:12:07.876452Z"
    }
   },
   "outputs": [],
   "source": [
    "g = gte.Graph(directed=False)\n",
    "g.add_ep('orders')\n",
    "\n",
    "g.add_vp('aisle')\n",
    "g.add_vp('department')\n",
    "g.add_vp('name')\n",
    "g.add_vp('purchased once')\n",
    "g.add_vp('purchased more than once')\n",
    "g.add_vp('number of users purchased')\n",
    "g.add_vp('total purchases')\n",
    "g.add_vp('PRC')\n",
    "\n",
    "with open('./data/edges.csv') as file:\n",
    "    for line in file:\n",
    "        a, b, v = [int(x) for x in line.strip().replace('\\n', '').split(',')]\n",
    "        vA = get_or_add_vertex(g, a)\n",
    "        vB = get_or_add_vertex(g, b)\n",
    "    \n",
    "        e = get_or_add_edge(g, a, b, v)"
   ]
  },
  {
   "cell_type": "markdown",
   "metadata": {},
   "source": [
    "### 04: Construindo e renderizando a Rede"
   ]
  },
  {
   "cell_type": "code",
   "execution_count": 5,
   "metadata": {
    "execution": {
     "iopub.execute_input": "2024-10-28T14:12:19.841933Z",
     "iopub.status.busy": "2024-10-28T14:12:19.841649Z",
     "iopub.status.idle": "2024-10-28T14:12:35.274829Z",
     "shell.execute_reply": "2024-10-28T14:12:35.274196Z",
     "shell.execute_reply.started": "2024-10-28T14:12:19.841902Z"
    }
   },
   "outputs": [],
   "source": [
    "layout = draw.sfdp_layout(g)"
   ]
  },
  {
   "cell_type": "code",
   "execution_count": 6,
   "metadata": {
    "execution": {
     "iopub.execute_input": "2024-10-28T14:12:35.276138Z",
     "iopub.status.busy": "2024-10-28T14:12:35.275778Z",
     "iopub.status.idle": "2024-10-28T14:12:37.343277Z",
     "shell.execute_reply": "2024-10-28T14:12:37.342626Z",
     "shell.execute_reply.started": "2024-10-28T14:12:35.276121Z"
    }
   },
   "outputs": [],
   "source": [
    "gte.move(g, layout)"
   ]
  },
  {
   "cell_type": "code",
   "execution_count": 7,
   "metadata": {
    "execution": {
     "iopub.execute_input": "2024-10-28T14:12:37.344841Z",
     "iopub.status.busy": "2024-10-28T14:12:37.344615Z",
     "iopub.status.idle": "2024-10-28T14:12:37.454752Z",
     "shell.execute_reply": "2024-10-28T14:12:37.454019Z",
     "shell.execute_reply.started": "2024-10-28T14:12:37.344824Z"
    }
   },
   "outputs": [],
   "source": [
    "g = gte.clean(g)"
   ]
  },
  {
   "cell_type": "code",
   "execution_count": 8,
   "metadata": {
    "execution": {
     "iopub.execute_input": "2024-10-28T14:12:37.455861Z",
     "iopub.status.busy": "2024-10-28T14:12:37.455589Z",
     "iopub.status.idle": "2024-10-28T14:12:54.790201Z",
     "shell.execute_reply": "2024-10-28T14:12:54.789483Z",
     "shell.execute_reply.started": "2024-10-28T14:12:37.455844Z"
    }
   },
   "outputs": [],
   "source": [
    "gte.save(g, 'rede.net.gz')"
   ]
  },
  {
   "cell_type": "code",
   "execution_count": null,
   "metadata": {
    "scrolled": true
   },
   "outputs": [],
   "source": [
    "r = netpixi.render('./rede.net.gz', infinite=True)"
   ]
  },
  {
   "cell_type": "code",
   "execution_count": 10,
   "metadata": {
    "execution": {
     "iopub.execute_input": "2024-10-28T14:12:54.810611Z",
     "iopub.status.busy": "2024-10-28T14:12:54.809743Z",
     "iopub.status.idle": "2024-10-28T14:12:59.818616Z",
     "shell.execute_reply": "2024-10-28T14:12:59.817674Z",
     "shell.execute_reply.started": "2024-10-28T14:12:54.810589Z"
    }
   },
   "outputs": [
    {
     "data": {
      "text/html": [
       "\n",
       "        <div id=\"ZdwLJKfnXpDxH72RNH2qUY\"></div>\n",
       "        <script>netpixi.call('ZdwLJKfnXpDxH72RNH2qUY', 'FCbQzfWL8GfTxfjehEXuPM', 'changeGraph', 'eyJ0eXBlIjogInNldHRpbmdzIiwgInByb3BzIjogeyJ2ZXJ0ZXgiOiB7InNpemUiOiA0LCAiYndpZHRoIjogMX19fQo=');</script>\n",
       "    "
      ],
      "text/plain": [
       "<IPython.core.display.HTML object>"
      ]
     },
     "metadata": {},
     "output_type": "display_data"
    },
    {
     "data": {
      "text/html": [
       "\n",
       "        <div id=\"X4rQi7PBh8t3GPG7bEsHNn\"></div>\n",
       "        <script>netpixi.call('X4rQi7PBh8t3GPG7bEsHNn', 'FCbQzfWL8GfTxfjehEXuPM', 'changeGraph', 'eyJ0eXBlIjogInNldHRpbmdzIiwgInByb3BzIjogeyJlZGdlIjogeyJ3aWR0aCI6IDF9fX0K');</script>\n",
       "    "
      ],
      "text/plain": [
       "<IPython.core.display.HTML object>"
      ]
     },
     "metadata": {},
     "output_type": "display_data"
    }
   ],
   "source": [
    "time.sleep(5)\n",
    "r.vertex_default(size=4, bwidth=1)\n",
    "r.edge_default(width=1)"
   ]
  }
 ],
 "metadata": {
  "kernelspec": {
   "display_name": "Python 3 (ipykernel)",
   "language": "python",
   "name": "python3"
  },
  "language_info": {
   "codemirror_mode": {
    "name": "ipython",
    "version": 3
   },
   "file_extension": ".py",
   "mimetype": "text/x-python",
   "name": "python",
   "nbconvert_exporter": "python",
   "pygments_lexer": "ipython3",
   "version": "3.12.4"
  }
 },
 "nbformat": 4,
 "nbformat_minor": 4
}
