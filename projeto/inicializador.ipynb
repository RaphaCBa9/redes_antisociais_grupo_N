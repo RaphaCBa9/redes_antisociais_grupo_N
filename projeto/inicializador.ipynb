{
 "cells": [
  {
   "cell_type": "code",
   "execution_count": 1,
   "metadata": {
    "execution": {
     "iopub.execute_input": "2024-10-21T14:16:13.350093Z",
     "iopub.status.busy": "2024-10-21T14:16:13.349701Z",
     "iopub.status.idle": "2024-10-21T14:17:18.608259Z",
     "shell.execute_reply": "2024-10-21T14:17:18.603450Z",
     "shell.execute_reply.started": "2024-10-21T14:16:13.350070Z"
    }
   },
   "outputs": [
    {
     "data": {
      "text/html": [
       "\n",
       "    <script src=\"/static/.hidden/netpixi.min.js\"></script>\n"
      ],
      "text/plain": [
       "<IPython.core.display.HTML object>"
      ]
     },
     "metadata": {},
     "output_type": "display_data"
    }
   ],
   "source": [
    "import netpixi\n",
    "from graph_tool import draw\n",
    "import graph_tool_extras as gte\n",
    "\n",
    "import time\n",
    "\n",
    "from data import PRODUCTS"
   ]
  },
  {
   "cell_type": "code",
   "execution_count": 2,
   "metadata": {
    "execution": {
     "iopub.execute_input": "2024-10-21T14:17:18.613480Z",
     "iopub.status.busy": "2024-10-21T14:17:18.613032Z",
     "iopub.status.idle": "2024-10-21T14:17:18.624615Z",
     "shell.execute_reply": "2024-10-21T14:17:18.623932Z",
     "shell.execute_reply.started": "2024-10-21T14:17:18.613455Z"
    }
   },
   "outputs": [],
   "source": [
    "def get_or_add_vertex(g, id):\n",
    "    v = g.vertex_by_id(id)\n",
    "    if v is None:\n",
    "        v = g.add_vertex_by_id(id)\n",
    "        p = PRODUCTS[str(id)]\n",
    "        v['aisle'] = p['aisle']\n",
    "        v['department'] = v['department']\n",
    "        v['name'] = p['name']\n",
    "    return v\n",
    "\n",
    "def get_or_add_edge(g, a, b, v):\n",
    "    e = g.edge_by_ids(a, b)\n",
    "    if e is None:\n",
    "        e = g.add_edge_by_ids(a, b)\n",
    "        e['orders'] = v\n",
    "    return e"
   ]
  },
  {
   "cell_type": "code",
   "execution_count": 3,
   "metadata": {
    "execution": {
     "iopub.execute_input": "2024-10-21T14:17:18.626369Z",
     "iopub.status.busy": "2024-10-21T14:17:18.625751Z",
     "iopub.status.idle": "2024-10-21T14:17:19.905372Z",
     "shell.execute_reply": "2024-10-21T14:17:19.904757Z",
     "shell.execute_reply.started": "2024-10-21T14:17:18.626349Z"
    }
   },
   "outputs": [],
   "source": [
    "g = gte.Graph(directed=False)\n",
    "g.add_ep('orders')\n",
    "g.add_vp('aisle')\n",
    "g.add_vp('department')\n",
    "g.add_vp('name')\n",
    "\n",
    "with open('./data/edges.csv') as file:\n",
    "    for line in file:\n",
    "        a, b, v = [int(x) for x in line.strip().replace('\\n', '').split(',')]\n",
    "        vA = get_or_add_vertex(g, a)\n",
    "        vB = get_or_add_vertex(g, b)\n",
    "    \n",
    "        e = get_or_add_edge(g, a, b, v)"
   ]
  },
  {
   "cell_type": "markdown",
   "metadata": {},
   "source": [
    "### 04: Construindo e renderizando a Rede"
   ]
  },
  {
   "cell_type": "code",
   "execution_count": 4,
   "metadata": {
    "execution": {
     "iopub.execute_input": "2024-10-21T14:17:19.907482Z",
     "iopub.status.busy": "2024-10-21T14:17:19.906866Z",
     "iopub.status.idle": "2024-10-21T14:17:22.683271Z",
     "shell.execute_reply": "2024-10-21T14:17:22.682530Z",
     "shell.execute_reply.started": "2024-10-21T14:17:19.907463Z"
    }
   },
   "outputs": [],
   "source": [
    "layout = draw.sfdp_layout(g)"
   ]
  },
  {
   "cell_type": "code",
   "execution_count": 5,
   "metadata": {
    "execution": {
     "iopub.execute_input": "2024-10-21T14:17:22.685499Z",
     "iopub.status.busy": "2024-10-21T14:17:22.684726Z",
     "iopub.status.idle": "2024-10-21T14:17:23.344673Z",
     "shell.execute_reply": "2024-10-21T14:17:23.343952Z",
     "shell.execute_reply.started": "2024-10-21T14:17:22.685467Z"
    }
   },
   "outputs": [],
   "source": [
    "gte.move(g, layout)"
   ]
  },
  {
   "cell_type": "code",
   "execution_count": 6,
   "metadata": {
    "execution": {
     "iopub.execute_input": "2024-10-21T14:17:23.353231Z",
     "iopub.status.busy": "2024-10-21T14:17:23.352779Z",
     "iopub.status.idle": "2024-10-21T14:17:23.374272Z",
     "shell.execute_reply": "2024-10-21T14:17:23.373594Z",
     "shell.execute_reply.started": "2024-10-21T14:17:23.353211Z"
    }
   },
   "outputs": [],
   "source": [
    "g = gte.clean(g)"
   ]
  },
  {
   "cell_type": "code",
   "execution_count": 7,
   "metadata": {
    "execution": {
     "iopub.execute_input": "2024-10-21T14:17:23.375237Z",
     "iopub.status.busy": "2024-10-21T14:17:23.375024Z",
     "iopub.status.idle": "2024-10-21T14:17:24.892201Z",
     "shell.execute_reply": "2024-10-21T14:17:24.891549Z",
     "shell.execute_reply.started": "2024-10-21T14:17:23.375218Z"
    }
   },
   "outputs": [],
   "source": [
    "gte.save(g, 'rede.net.gz')"
   ]
  },
  {
   "cell_type": "code",
   "execution_count": 8,
   "metadata": {
    "execution": {
     "iopub.execute_input": "2024-10-21T14:17:24.893549Z",
     "iopub.status.busy": "2024-10-21T14:17:24.892990Z",
     "iopub.status.idle": "2024-10-21T14:17:24.902542Z",
     "shell.execute_reply": "2024-10-21T14:17:24.901760Z",
     "shell.execute_reply.started": "2024-10-21T14:17:24.893526Z"
    },
    "scrolled": true
   },
   "outputs": [
    {
     "data": {
      "text/html": [
       "\n",
       "        <div id=\"646wadymNJawfKDTqwh6Xm\"></div>\n",
       "        <script>netpixi.render('646wadymNJawfKDTqwh6Xm', '/static/__shared__/redes_antisociais_grupo_N/projeto/./rede.net.gz', 1.7777777777777777, true, true, false, true);</script>\n",
       "    "
      ],
      "text/plain": [
       "<IPython.core.display.HTML object>"
      ]
     },
     "metadata": {},
     "output_type": "display_data"
    }
   ],
   "source": [
    "r = netpixi.render('./rede.net.gz', infinite=True)"
   ]
  },
  {
   "cell_type": "code",
   "execution_count": 9,
   "metadata": {
    "execution": {
     "iopub.execute_input": "2024-10-21T14:17:24.904204Z",
     "iopub.status.busy": "2024-10-21T14:17:24.903655Z",
     "iopub.status.idle": "2024-10-21T14:17:29.911393Z",
     "shell.execute_reply": "2024-10-21T14:17:29.910791Z",
     "shell.execute_reply.started": "2024-10-21T14:17:24.904178Z"
    }
   },
   "outputs": [
    {
     "data": {
      "text/html": [
       "\n",
       "        <div id=\"3EqcRq8ffniudt3nGAZ7oM\"></div>\n",
       "        <script>netpixi.call('3EqcRq8ffniudt3nGAZ7oM', '646wadymNJawfKDTqwh6Xm', 'changeGraph', 'eyJ0eXBlIjogInNldHRpbmdzIiwgInByb3BzIjogeyJ2ZXJ0ZXgiOiB7InNpemUiOiA0LCAiYndpZHRoIjogMX19fQo=');</script>\n",
       "    "
      ],
      "text/plain": [
       "<IPython.core.display.HTML object>"
      ]
     },
     "metadata": {},
     "output_type": "display_data"
    },
    {
     "data": {
      "text/html": [
       "\n",
       "        <div id=\"68dzJfoq4ipYVPB7TygTf3\"></div>\n",
       "        <script>netpixi.call('68dzJfoq4ipYVPB7TygTf3', '646wadymNJawfKDTqwh6Xm', 'changeGraph', 'eyJ0eXBlIjogInNldHRpbmdzIiwgInByb3BzIjogeyJlZGdlIjogeyJ3aWR0aCI6IDF9fX0K');</script>\n",
       "    "
      ],
      "text/plain": [
       "<IPython.core.display.HTML object>"
      ]
     },
     "metadata": {},
     "output_type": "display_data"
    }
   ],
   "source": [
    "time.sleep(5)\n",
    "r.vertex_default(size=4, bwidth=1)\n",
    "r.edge_default(width=1)"
   ]
  }
 ],
 "metadata": {
  "kernelspec": {
   "display_name": "Python 3 (ipykernel)",
   "language": "python",
   "name": "python3"
  },
  "language_info": {
   "codemirror_mode": {
    "name": "ipython",
    "version": 3
   },
   "file_extension": ".py",
   "mimetype": "text/x-python",
   "name": "python",
   "nbconvert_exporter": "python",
   "pygments_lexer": "ipython3",
   "version": "3.12.4"
  }
 },
 "nbformat": 4,
 "nbformat_minor": 4
}
