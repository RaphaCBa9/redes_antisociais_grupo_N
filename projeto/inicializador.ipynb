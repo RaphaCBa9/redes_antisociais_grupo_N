{
 "cells": [
  {
   "cell_type": "code",
   "execution_count": 1,
   "metadata": {
    "execution": {
     "iopub.execute_input": "2024-11-04T13:25:54.115035Z",
     "iopub.status.busy": "2024-11-04T13:25:54.114419Z",
     "iopub.status.idle": "2024-11-04T13:25:57.149874Z",
     "shell.execute_reply": "2024-11-04T13:25:57.149170Z",
     "shell.execute_reply.started": "2024-11-04T13:25:54.114994Z"
    }
   },
   "outputs": [
    {
     "data": {
      "text/html": [
       "\n",
       "    <script src=\"/static/.hidden/netpixi.min.js\"></script>\n"
      ],
      "text/plain": [
       "<IPython.core.display.HTML object>"
      ]
     },
     "metadata": {},
     "output_type": "display_data"
    }
   ],
   "source": [
    "import netpixi\n",
    "from graph_tool import draw\n",
    "import graph_tool_extras as gte\n",
    "\n",
    "import time\n",
    "\n",
    "from instacart_data import get_products"
   ]
  },
  {
   "cell_type": "code",
   "execution_count": 2,
   "metadata": {
    "execution": {
     "iopub.execute_input": "2024-11-04T13:25:57.150942Z",
     "iopub.status.busy": "2024-11-04T13:25:57.150579Z",
     "iopub.status.idle": "2024-11-04T13:25:57.363379Z",
     "shell.execute_reply": "2024-11-04T13:25:57.362419Z",
     "shell.execute_reply.started": "2024-11-04T13:25:57.150923Z"
    }
   },
   "outputs": [
    {
     "name": "stdout",
     "output_type": "stream",
     "text": [
      "Carregando dados dos produtos...\n"
     ]
    }
   ],
   "source": [
    "PRODUCTS = get_products()"
   ]
  },
  {
   "cell_type": "code",
   "execution_count": 3,
   "metadata": {
    "execution": {
     "iopub.execute_input": "2024-11-04T13:25:57.364889Z",
     "iopub.status.busy": "2024-11-04T13:25:57.364362Z",
     "iopub.status.idle": "2024-11-04T13:25:57.369577Z",
     "shell.execute_reply": "2024-11-04T13:25:57.368803Z",
     "shell.execute_reply.started": "2024-11-04T13:25:57.364868Z"
    }
   },
   "outputs": [],
   "source": [
    "def get_or_add_vertex(g, id):\n",
    "    v = g.vertex_by_id(id)\n",
    "    if v is None:\n",
    "        v = g.add_vertex_by_id(id)\n",
    "        p = PRODUCTS[str(id)]\n",
    "        v['aisle'] = p['aisle']\n",
    "        v['department'] = v['department']\n",
    "        v['name'] = p['name']\n",
    "        v['purchased once'] = p['purchased once']\n",
    "        v['purchased more than once'] = p['purchased more than once']\n",
    "        v['number of users purchased'] = p['number of users purchased']\n",
    "        v['total purchases'] = p['total purchases']\n",
    "        v['PRC'] = p['PRC']\n",
    "    return v\n",
    "\n",
    "def get_or_add_edge(g, a, b, v):\n",
    "    e = g.edge_by_ids(a, b)\n",
    "    if e is None:\n",
    "        e = g.add_edge_by_ids(a, b)\n",
    "        e['orders'] = v\n",
    "    return e"
   ]
  },
  {
   "cell_type": "code",
   "execution_count": 4,
   "metadata": {
    "execution": {
     "iopub.execute_input": "2024-11-04T13:25:57.370878Z",
     "iopub.status.busy": "2024-11-04T13:25:57.370598Z",
     "iopub.status.idle": "2024-11-04T13:26:09.530974Z",
     "shell.execute_reply": "2024-11-04T13:26:09.530378Z",
     "shell.execute_reply.started": "2024-11-04T13:25:57.370852Z"
    }
   },
   "outputs": [],
   "source": [
    "g = gte.Graph(directed=False)\n",
    "g.add_ep('orders')\n",
    "\n",
    "g.add_vp('aisle')\n",
    "g.add_vp('department')\n",
    "g.add_vp('name')\n",
    "g.add_vp('purchased once')\n",
    "g.add_vp('purchased more than once')\n",
    "g.add_vp('number of users purchased')\n",
    "g.add_vp('total purchases')\n",
    "g.add_vp('PRC')\n",
    "\n",
    "with open('./data/edges.csv') as file:\n",
    "    for line in file:\n",
    "        a, b, v = [int(x) for x in line.strip().replace('\\n', '').split(',')]\n",
    "        vA = get_or_add_vertex(g, a)\n",
    "        vB = get_or_add_vertex(g, b)\n",
    "    \n",
    "        e = get_or_add_edge(g, a, b, v)"
   ]
  },
  {
   "cell_type": "markdown",
   "metadata": {},
   "source": [
    "### 04: Construindo e renderizando a Rede"
   ]
  },
  {
   "cell_type": "code",
   "execution_count": 5,
   "metadata": {
    "execution": {
     "iopub.execute_input": "2024-11-04T13:26:09.532315Z",
     "iopub.status.busy": "2024-11-04T13:26:09.531742Z",
     "iopub.status.idle": "2024-11-04T13:26:25.205460Z",
     "shell.execute_reply": "2024-11-04T13:26:25.204582Z",
     "shell.execute_reply.started": "2024-11-04T13:26:09.532287Z"
    }
   },
   "outputs": [],
   "source": [
    "layout = draw.sfdp_layout(g)"
   ]
  },
  {
   "cell_type": "code",
   "execution_count": 6,
   "metadata": {
    "execution": {
     "iopub.execute_input": "2024-11-04T13:26:25.207739Z",
     "iopub.status.busy": "2024-11-04T13:26:25.207498Z",
     "iopub.status.idle": "2024-11-04T13:26:27.246172Z",
     "shell.execute_reply": "2024-11-04T13:26:27.245493Z",
     "shell.execute_reply.started": "2024-11-04T13:26:25.207720Z"
    }
   },
   "outputs": [],
   "source": [
    "gte.move(g, layout)"
   ]
  },
  {
   "cell_type": "code",
   "execution_count": 7,
   "metadata": {
    "execution": {
     "iopub.execute_input": "2024-11-04T13:26:27.247353Z",
     "iopub.status.busy": "2024-11-04T13:26:27.247154Z",
     "iopub.status.idle": "2024-11-04T13:26:27.349800Z",
     "shell.execute_reply": "2024-11-04T13:26:27.349068Z",
     "shell.execute_reply.started": "2024-11-04T13:26:27.247336Z"
    }
   },
   "outputs": [],
   "source": [
    "g = gte.clean(g)"
   ]
  },
  {
   "cell_type": "code",
   "execution_count": 8,
   "metadata": {
    "execution": {
     "iopub.execute_input": "2024-11-04T13:26:27.351154Z",
     "iopub.status.busy": "2024-11-04T13:26:27.350677Z",
     "iopub.status.idle": "2024-11-04T13:26:45.762390Z",
     "shell.execute_reply": "2024-11-04T13:26:45.761601Z",
     "shell.execute_reply.started": "2024-11-04T13:26:27.351137Z"
    }
   },
   "outputs": [],
   "source": [
    "gte.save(g, 'rede.net.gz')"
   ]
  },
  {
   "cell_type": "code",
   "execution_count": null,
   "metadata": {},
   "outputs": [],
   "source": [
    "r = netpixi.render('./rede.net.gz', infinite=True)"
   ]
  },
  {
   "cell_type": "code",
   "execution_count": 10,
   "metadata": {
    "execution": {
     "iopub.execute_input": "2024-11-04T13:26:45.773361Z",
     "iopub.status.busy": "2024-11-04T13:26:45.772737Z",
     "iopub.status.idle": "2024-11-04T13:26:48.283164Z",
     "shell.execute_reply": "2024-11-04T13:26:48.282438Z",
     "shell.execute_reply.started": "2024-11-04T13:26:45.773333Z"
    }
   },
   "outputs": [
    {
     "data": {
      "text/html": [
       "\n",
       "        <div id=\"BqvJKm7qAzYGTMe3oEkq7F\"></div>\n",
       "        <script>netpixi.call('BqvJKm7qAzYGTMe3oEkq7F', 'E3HVgmn6irk6AjjeTnBeaj', 'setGraph', 'eyJ0eXBlIjogInZlcnRleCIsICJwcm9wcyI6IHsic3JjIjogIm5hbWUiLCAiZHN0IjogIl9rZXkifX0K');</script>\n",
       "    "
      ],
      "text/plain": [
       "<IPython.core.display.HTML object>"
      ]
     },
     "metadata": {},
     "output_type": "display_data"
    },
    {
     "data": {
      "text/html": [
       "\n",
       "        <div id=\"dA4ApyE73VbJkzGFiPHx2M\"></div>\n",
       "        <script>netpixi.call('dA4ApyE73VbJkzGFiPHx2M', 'E3HVgmn6irk6AjjeTnBeaj', 'changeGraph', 'eyJ0eXBlIjogInNldHRpbmdzIiwgInByb3BzIjogeyJ2ZXJ0ZXgiOiB7InNpemUiOiA0LCAiYndpZHRoIjogMX19fQo=');</script>\n",
       "    "
      ],
      "text/plain": [
       "<IPython.core.display.HTML object>"
      ]
     },
     "metadata": {},
     "output_type": "display_data"
    },
    {
     "data": {
      "text/html": [
       "\n",
       "        <div id=\"dYjuUtrRZSFFXXycDRmtZV\"></div>\n",
       "        <script>netpixi.call('dYjuUtrRZSFFXXycDRmtZV', 'E3HVgmn6irk6AjjeTnBeaj', 'changeGraph', 'eyJ0eXBlIjogInNldHRpbmdzIiwgInByb3BzIjogeyJlZGdlIjogeyJ3aWR0aCI6IDF9fX0K');</script>\n",
       "    "
      ],
      "text/plain": [
       "<IPython.core.display.HTML object>"
      ]
     },
     "metadata": {},
     "output_type": "display_data"
    }
   ],
   "source": [
    "time.sleep(2.5)\n",
    "r.vertex_set_key('name')\n",
    "r.vertex_default(size=4, bwidth=1)\n",
    "r.edge_default(width=1)"
   ]
  }
 ],
 "metadata": {
  "kernelspec": {
   "display_name": "Python 3 (ipykernel)",
   "language": "python",
   "name": "python3"
  },
  "language_info": {
   "codemirror_mode": {
    "name": "ipython",
    "version": 3
   },
   "file_extension": ".py",
   "mimetype": "text/x-python",
   "name": "python",
   "nbconvert_exporter": "python",
   "pygments_lexer": "ipython3",
   "version": "3.12.4"
  }
 },
 "nbformat": 4,
 "nbformat_minor": 4
}
