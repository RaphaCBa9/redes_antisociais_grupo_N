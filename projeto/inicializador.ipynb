{
 "cells": [
  {
   "cell_type": "code",
   "execution_count": 1,
   "metadata": {
    "execution": {
     "iopub.execute_input": "2024-10-27T04:37:56.125332Z",
     "iopub.status.busy": "2024-10-27T04:37:56.124710Z",
     "iopub.status.idle": "2024-10-27T04:37:59.239334Z",
     "shell.execute_reply": "2024-10-27T04:37:59.238640Z",
     "shell.execute_reply.started": "2024-10-27T04:37:56.125301Z"
    }
   },
   "outputs": [
    {
     "data": {
      "text/html": [
       "\n",
       "    <script src=\"/static/.hidden/netpixi.min.js\"></script>\n"
      ],
      "text/plain": [
       "<IPython.core.display.HTML object>"
      ]
     },
     "metadata": {},
     "output_type": "display_data"
    }
   ],
   "source": [
    "import netpixi\n",
    "from graph_tool import draw\n",
    "import graph_tool_extras as gte\n",
    "\n",
    "import time\n",
    "\n",
    "from instacart_data import get_products"
   ]
  },
  {
   "cell_type": "code",
   "execution_count": 2,
   "metadata": {
    "execution": {
     "iopub.execute_input": "2024-10-27T04:37:59.240779Z",
     "iopub.status.busy": "2024-10-27T04:37:59.240373Z",
     "iopub.status.idle": "2024-10-27T04:37:59.492741Z",
     "shell.execute_reply": "2024-10-27T04:37:59.491838Z",
     "shell.execute_reply.started": "2024-10-27T04:37:59.240758Z"
    }
   },
   "outputs": [
    {
     "name": "stdout",
     "output_type": "stream",
     "text": [
      "Carregando dados dos produtos...\n"
     ]
    }
   ],
   "source": [
    "PRODUCTS = get_products()"
   ]
  },
  {
   "cell_type": "code",
   "execution_count": 3,
   "metadata": {
    "execution": {
     "iopub.execute_input": "2024-10-27T04:37:59.494115Z",
     "iopub.status.busy": "2024-10-27T04:37:59.493850Z",
     "iopub.status.idle": "2024-10-27T04:37:59.499592Z",
     "shell.execute_reply": "2024-10-27T04:37:59.498462Z",
     "shell.execute_reply.started": "2024-10-27T04:37:59.494095Z"
    }
   },
   "outputs": [],
   "source": [
    "def get_or_add_vertex(g, id):\n",
    "    v = g.vertex_by_id(id)\n",
    "    if v is None:\n",
    "        v = g.add_vertex_by_id(id)\n",
    "        p = PRODUCTS[str(id)]\n",
    "        v['aisle'] = p['aisle']\n",
    "        v['department'] = v['department']\n",
    "        v['name'] = p['name']\n",
    "        v['purchased once'] = p['purchased once']\n",
    "        v['purchased more than once'] = p['purchased more than once']\n",
    "        v['number of users purchased'] = p['number of users purchased']\n",
    "        v['total purchases'] = p['total purchases']\n",
    "        v['PRC'] = p['PRC']\n",
    "    return v\n",
    "\n",
    "def get_or_add_edge(g, a, b, v):\n",
    "    e = g.edge_by_ids(a, b)\n",
    "    if e is None:\n",
    "        e = g.add_edge_by_ids(a, b)\n",
    "        e['orders'] = v\n",
    "    return e"
   ]
  },
  {
   "cell_type": "code",
   "execution_count": 4,
   "metadata": {
    "execution": {
     "iopub.execute_input": "2024-10-27T04:37:59.500765Z",
     "iopub.status.busy": "2024-10-27T04:37:59.500502Z",
     "iopub.status.idle": "2024-10-27T04:38:11.774971Z",
     "shell.execute_reply": "2024-10-27T04:38:11.774228Z",
     "shell.execute_reply.started": "2024-10-27T04:37:59.500741Z"
    }
   },
   "outputs": [],
   "source": [
    "g = gte.Graph(directed=False)\n",
    "g.add_ep('orders')\n",
    "\n",
    "g.add_vp('aisle')\n",
    "g.add_vp('department')\n",
    "g.add_vp('name')\n",
    "g.add_vp('purchased once')\n",
    "g.add_vp('purchased more than once')\n",
    "g.add_vp('number of users purchased')\n",
    "g.add_vp('total purchases')\n",
    "g.add_vp('PRC')\n",
    "\n",
    "with open('./data/edges.csv') as file:\n",
    "    for line in file:\n",
    "        a, b, v = [int(x) for x in line.strip().replace('\\n', '').split(',')]\n",
    "        vA = get_or_add_vertex(g, a)\n",
    "        vB = get_or_add_vertex(g, b)\n",
    "    \n",
    "        e = get_or_add_edge(g, a, b, v)"
   ]
  },
  {
   "cell_type": "markdown",
   "metadata": {},
   "source": [
    "### 04: Construindo e renderizando a Rede"
   ]
  },
  {
   "cell_type": "code",
   "execution_count": 5,
   "metadata": {
    "execution": {
     "iopub.execute_input": "2024-10-27T04:38:11.776185Z",
     "iopub.status.busy": "2024-10-27T04:38:11.775927Z",
     "iopub.status.idle": "2024-10-27T04:38:27.327133Z",
     "shell.execute_reply": "2024-10-27T04:38:27.326378Z",
     "shell.execute_reply.started": "2024-10-27T04:38:11.776166Z"
    }
   },
   "outputs": [],
   "source": [
    "layout = draw.sfdp_layout(g)"
   ]
  },
  {
   "cell_type": "code",
   "execution_count": 6,
   "metadata": {
    "execution": {
     "iopub.execute_input": "2024-10-27T04:38:27.329191Z",
     "iopub.status.busy": "2024-10-27T04:38:27.328785Z",
     "iopub.status.idle": "2024-10-27T04:38:29.599415Z",
     "shell.execute_reply": "2024-10-27T04:38:29.598741Z",
     "shell.execute_reply.started": "2024-10-27T04:38:27.329170Z"
    }
   },
   "outputs": [],
   "source": [
    "gte.move(g, layout)"
   ]
  },
  {
   "cell_type": "code",
   "execution_count": 7,
   "metadata": {
    "execution": {
     "iopub.execute_input": "2024-10-27T04:38:29.600411Z",
     "iopub.status.busy": "2024-10-27T04:38:29.600190Z",
     "iopub.status.idle": "2024-10-27T04:38:29.714784Z",
     "shell.execute_reply": "2024-10-27T04:38:29.714124Z",
     "shell.execute_reply.started": "2024-10-27T04:38:29.600370Z"
    }
   },
   "outputs": [],
   "source": [
    "g = gte.clean(g)"
   ]
  },
  {
   "cell_type": "code",
   "execution_count": 8,
   "metadata": {
    "execution": {
     "iopub.execute_input": "2024-10-27T04:38:29.715711Z",
     "iopub.status.busy": "2024-10-27T04:38:29.715528Z",
     "iopub.status.idle": "2024-10-27T04:38:48.243552Z",
     "shell.execute_reply": "2024-10-27T04:38:48.242842Z",
     "shell.execute_reply.started": "2024-10-27T04:38:29.715694Z"
    }
   },
   "outputs": [],
   "source": [
    "gte.save(g, 'rede.net.gz')"
   ]
  },
  {
   "cell_type": "code",
   "execution_count": 9,
   "metadata": {
    "execution": {
     "iopub.execute_input": "2024-10-27T04:38:48.244833Z",
     "iopub.status.busy": "2024-10-27T04:38:48.244571Z",
     "iopub.status.idle": "2024-10-27T04:38:48.259146Z",
     "shell.execute_reply": "2024-10-27T04:38:48.258240Z",
     "shell.execute_reply.started": "2024-10-27T04:38:48.244812Z"
    },
    "scrolled": true
   },
   "outputs": [
    {
     "data": {
      "text/html": [
       "\n",
       "        <div id=\"26GuzD6qFzwEnvGVxxMSpG\"></div>\n",
       "        <script>netpixi.render('26GuzD6qFzwEnvGVxxMSpG', '/static/__shared__/redes_antisociais_grupo_N/projeto/./rede.net.gz', 1.7777777777777777, true, true, false, true);</script>\n",
       "    "
      ],
      "text/plain": [
       "<IPython.core.display.HTML object>"
      ]
     },
     "metadata": {},
     "output_type": "display_data"
    }
   ],
   "source": [
    "r = netpixi.render('./rede.net.gz', infinite=True)"
   ]
  },
  {
   "cell_type": "code",
   "execution_count": 10,
   "metadata": {
    "execution": {
     "iopub.execute_input": "2024-10-27T04:38:48.260981Z",
     "iopub.status.busy": "2024-10-27T04:38:48.260518Z",
     "iopub.status.idle": "2024-10-27T04:38:53.272997Z",
     "shell.execute_reply": "2024-10-27T04:38:53.271753Z",
     "shell.execute_reply.started": "2024-10-27T04:38:48.260945Z"
    }
   },
   "outputs": [
    {
     "data": {
      "text/html": [
       "\n",
       "        <div id=\"nZLR9K7MShKif5mTbw6j72\"></div>\n",
       "        <script>netpixi.call('nZLR9K7MShKif5mTbw6j72', '26GuzD6qFzwEnvGVxxMSpG', 'changeGraph', 'eyJ0eXBlIjogInNldHRpbmdzIiwgInByb3BzIjogeyJ2ZXJ0ZXgiOiB7InNpemUiOiA0LCAiYndpZHRoIjogMX19fQo=');</script>\n",
       "    "
      ],
      "text/plain": [
       "<IPython.core.display.HTML object>"
      ]
     },
     "metadata": {},
     "output_type": "display_data"
    },
    {
     "data": {
      "text/html": [
       "\n",
       "        <div id=\"UERfux76hAekYMgo9sBYKk\"></div>\n",
       "        <script>netpixi.call('UERfux76hAekYMgo9sBYKk', '26GuzD6qFzwEnvGVxxMSpG', 'changeGraph', 'eyJ0eXBlIjogInNldHRpbmdzIiwgInByb3BzIjogeyJlZGdlIjogeyJ3aWR0aCI6IDF9fX0K');</script>\n",
       "    "
      ],
      "text/plain": [
       "<IPython.core.display.HTML object>"
      ]
     },
     "metadata": {},
     "output_type": "display_data"
    }
   ],
   "source": [
    "time.sleep(5)\n",
    "r.vertex_default(size=4, bwidth=1)\n",
    "r.edge_default(width=1)"
   ]
  }
 ],
 "metadata": {
  "kernelspec": {
   "display_name": "Python 3 (ipykernel)",
   "language": "python",
   "name": "python3"
  },
  "language_info": {
   "codemirror_mode": {
    "name": "ipython",
    "version": 3
   },
   "file_extension": ".py",
   "mimetype": "text/x-python",
   "name": "python",
   "nbconvert_exporter": "python",
   "pygments_lexer": "ipython3",
   "version": "3.12.4"
  }
 },
 "nbformat": 4,
 "nbformat_minor": 4
}
