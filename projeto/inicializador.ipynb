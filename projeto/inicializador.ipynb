{
 "cells": [
  {
   "cell_type": "code",
   "execution_count": 1,
   "metadata": {
    "execution": {
     "iopub.execute_input": "2024-09-25T16:49:45.183215Z",
     "iopub.status.busy": "2024-09-25T16:49:45.182821Z",
     "iopub.status.idle": "2024-09-25T16:49:47.308572Z",
     "shell.execute_reply": "2024-09-25T16:49:47.307788Z",
     "shell.execute_reply.started": "2024-09-25T16:49:45.183173Z"
    }
   },
   "outputs": [
    {
     "data": {
      "text/html": [
       "\n",
       "    <script src=\"/static/.hidden/netpixi.min.js\"></script>\n"
      ],
      "text/plain": [
       "<IPython.core.display.HTML object>"
      ]
     },
     "metadata": {},
     "output_type": "display_data"
    }
   ],
   "source": [
    "import netpixi\n",
    "from graph_tool import draw\n",
    "import graph_tool_extras as gte\n",
    "\n",
    "import time"
   ]
  },
  {
   "cell_type": "code",
   "execution_count": 2,
   "metadata": {
    "execution": {
     "iopub.execute_input": "2024-09-25T16:49:47.310103Z",
     "iopub.status.busy": "2024-09-25T16:49:47.309613Z",
     "iopub.status.idle": "2024-09-25T16:49:47.314507Z",
     "shell.execute_reply": "2024-09-25T16:49:47.313778Z",
     "shell.execute_reply.started": "2024-09-25T16:49:47.310079Z"
    }
   },
   "outputs": [],
   "source": [
    "def get_or_add_vertex(g, id):\n",
    "    v = g.vertex_by_id(id)\n",
    "    if v is None:\n",
    "        v = g.add_vertex_by_id(id)\n",
    "    return v\n",
    "\n",
    "def get_or_add_edge(g, a, b, v):\n",
    "    e = g.edge_by_ids(a, b)\n",
    "    if e is None:\n",
    "        e = g.add_edge_by_ids(a, b)\n",
    "        e['orders'] = v\n",
    "    return e"
   ]
  },
  {
   "cell_type": "code",
   "execution_count": 3,
   "metadata": {
    "execution": {
     "iopub.execute_input": "2024-09-25T16:49:47.315957Z",
     "iopub.status.busy": "2024-09-25T16:49:47.315482Z",
     "iopub.status.idle": "2024-09-25T16:49:58.765175Z",
     "shell.execute_reply": "2024-09-25T16:49:58.764184Z",
     "shell.execute_reply.started": "2024-09-25T16:49:47.315932Z"
    }
   },
   "outputs": [],
   "source": [
    "g = gte.Graph(directed=False)\n",
    "g.add_ep('orders')\n",
    "\n",
    "with open('./data/edges.csv') as file:\n",
    "    for line in file:\n",
    "        a, b, v = [int(x) for x in line.strip().replace('\\n', '').split(',')]\n",
    "        vA = get_or_add_vertex(g, a)\n",
    "        vB = get_or_add_vertex(g, b)\n",
    "    \n",
    "        e = get_or_add_edge(g, a, b, v)"
   ]
  },
  {
   "cell_type": "markdown",
   "metadata": {},
   "source": [
    "### 04: Construindo e renderizando a Rede"
   ]
  },
  {
   "cell_type": "code",
   "execution_count": 4,
   "metadata": {
    "execution": {
     "iopub.execute_input": "2024-09-25T16:49:58.766859Z",
     "iopub.status.busy": "2024-09-25T16:49:58.766473Z",
     "iopub.status.idle": "2024-09-25T16:50:13.728251Z",
     "shell.execute_reply": "2024-09-25T16:50:13.727530Z",
     "shell.execute_reply.started": "2024-09-25T16:49:58.766833Z"
    }
   },
   "outputs": [],
   "source": [
    "layout = draw.sfdp_layout(g)"
   ]
  },
  {
   "cell_type": "code",
   "execution_count": 5,
   "metadata": {
    "execution": {
     "iopub.execute_input": "2024-09-25T16:50:13.729767Z",
     "iopub.status.busy": "2024-09-25T16:50:13.729255Z",
     "iopub.status.idle": "2024-09-25T16:50:15.847941Z",
     "shell.execute_reply": "2024-09-25T16:50:15.847116Z",
     "shell.execute_reply.started": "2024-09-25T16:50:13.729747Z"
    }
   },
   "outputs": [],
   "source": [
    "gte.move(g, layout)"
   ]
  },
  {
   "cell_type": "code",
   "execution_count": 6,
   "metadata": {
    "execution": {
     "iopub.execute_input": "2024-09-25T16:50:15.850407Z",
     "iopub.status.busy": "2024-09-25T16:50:15.849822Z",
     "iopub.status.idle": "2024-09-25T16:50:15.945769Z",
     "shell.execute_reply": "2024-09-25T16:50:15.944777Z",
     "shell.execute_reply.started": "2024-09-25T16:50:15.850387Z"
    }
   },
   "outputs": [],
   "source": [
    "g = gte.clean(g)"
   ]
  },
  {
   "cell_type": "code",
   "execution_count": 7,
   "metadata": {
    "execution": {
     "iopub.execute_input": "2024-09-25T16:50:15.947506Z",
     "iopub.status.busy": "2024-09-25T16:50:15.946911Z",
     "iopub.status.idle": "2024-09-25T16:50:31.928781Z",
     "shell.execute_reply": "2024-09-25T16:50:31.928011Z",
     "shell.execute_reply.started": "2024-09-25T16:50:15.947480Z"
    }
   },
   "outputs": [],
   "source": [
    "gte.save(g, 'rede.net.gz')"
   ]
  },
  {
   "cell_type": "code",
   "execution_count": 8,
   "metadata": {
    "execution": {
     "iopub.execute_input": "2024-09-25T16:50:31.930215Z",
     "iopub.status.busy": "2024-09-25T16:50:31.929674Z",
     "iopub.status.idle": "2024-09-25T16:50:31.936202Z",
     "shell.execute_reply": "2024-09-25T16:50:31.935506Z",
     "shell.execute_reply.started": "2024-09-25T16:50:31.930193Z"
    },
    "scrolled": true
   },
   "outputs": [
    {
     "data": {
      "text/html": [
       "\n",
       "        <div id=\"TMyb7MMD4P9sG7fk4yPXNc\"></div>\n",
       "        <script>netpixi.render('TMyb7MMD4P9sG7fk4yPXNc', '/static/__shared__/redes_antisociais_grupo_N/projeto/./rede.net.gz', 1.7777777777777777, true, true, false, true);</script>\n",
       "    "
      ],
      "text/plain": [
       "<IPython.core.display.HTML object>"
      ]
     },
     "metadata": {},
     "output_type": "display_data"
    }
   ],
   "source": [
    "r = netpixi.render('./rede.net.gz', infinite=True)"
   ]
  },
  {
   "cell_type": "code",
   "execution_count": 9,
   "metadata": {
    "execution": {
     "iopub.execute_input": "2024-09-25T16:50:31.937196Z",
     "iopub.status.busy": "2024-09-25T16:50:31.936978Z",
     "iopub.status.idle": "2024-09-25T16:50:36.949397Z",
     "shell.execute_reply": "2024-09-25T16:50:36.948638Z",
     "shell.execute_reply.started": "2024-09-25T16:50:31.937179Z"
    }
   },
   "outputs": [
    {
     "data": {
      "text/html": [
       "\n",
       "        <div id=\"fAqTojgJi33VEHsHEJWPbn\"></div>\n",
       "        <script>netpixi.call('fAqTojgJi33VEHsHEJWPbn', 'TMyb7MMD4P9sG7fk4yPXNc', 'changeGraph', 'eyJ0eXBlIjogInNldHRpbmdzIiwgInByb3BzIjogeyJ2ZXJ0ZXgiOiB7InNpemUiOiA0LCAiYndpZHRoIjogMX19fQo=');</script>\n",
       "    "
      ],
      "text/plain": [
       "<IPython.core.display.HTML object>"
      ]
     },
     "metadata": {},
     "output_type": "display_data"
    },
    {
     "data": {
      "text/html": [
       "\n",
       "        <div id=\"G9gfkepxvWkmVHyMspXcLC\"></div>\n",
       "        <script>netpixi.call('G9gfkepxvWkmVHyMspXcLC', 'TMyb7MMD4P9sG7fk4yPXNc', 'changeGraph', 'eyJ0eXBlIjogInNldHRpbmdzIiwgInByb3BzIjogeyJlZGdlIjogeyJ3aWR0aCI6IDF9fX0K');</script>\n",
       "    "
      ],
      "text/plain": [
       "<IPython.core.display.HTML object>"
      ]
     },
     "metadata": {},
     "output_type": "display_data"
    }
   ],
   "source": [
    "time.sleep(5)\n",
    "r.vertex_default(size=4, bwidth=1)\n",
    "r.edge_default(width=1)"
   ]
  }
 ],
 "metadata": {
  "kernelspec": {
   "display_name": "Python 3 (ipykernel)",
   "language": "python",
   "name": "python3"
  },
  "language_info": {
   "codemirror_mode": {
    "name": "ipython",
    "version": 3
   },
   "file_extension": ".py",
   "mimetype": "text/x-python",
   "name": "python",
   "nbconvert_exporter": "python",
   "pygments_lexer": "ipython3",
   "version": "3.12.4"
  }
 },
 "nbformat": 4,
 "nbformat_minor": 4
}
