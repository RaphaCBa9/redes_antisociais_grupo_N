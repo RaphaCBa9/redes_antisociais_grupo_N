{
 "cells": [
  {
   "cell_type": "code",
   "execution_count": 1,
   "metadata": {
    "execution": {
     "iopub.execute_input": "2024-11-06T14:37:15.263522Z",
     "iopub.status.busy": "2024-11-06T14:37:15.263308Z",
     "iopub.status.idle": "2024-11-06T14:37:20.338690Z",
     "shell.execute_reply": "2024-11-06T14:37:20.337848Z",
     "shell.execute_reply.started": "2024-11-06T14:37:15.263502Z"
    }
   },
   "outputs": [
    {
     "data": {
      "text/html": [
       "\n",
       "    <script src=\"/static/.hidden/netpixi.min.js\"></script>\n"
      ],
      "text/plain": [
       "<IPython.core.display.HTML object>"
      ]
     },
     "metadata": {},
     "output_type": "display_data"
    }
   ],
   "source": [
    "import netpixi\n",
    "from graph_tool import draw\n",
    "import graph_tool_extras as gte\n",
    "\n",
    "import time\n",
    "\n",
    "from instacart_data import get_products"
   ]
  },
  {
   "cell_type": "code",
   "execution_count": 2,
   "metadata": {
    "execution": {
     "iopub.execute_input": "2024-11-06T14:37:20.340545Z",
     "iopub.status.busy": "2024-11-06T14:37:20.339714Z",
     "iopub.status.idle": "2024-11-06T14:37:20.705772Z",
     "shell.execute_reply": "2024-11-06T14:37:20.704968Z",
     "shell.execute_reply.started": "2024-11-06T14:37:20.340520Z"
    }
   },
   "outputs": [
    {
     "name": "stdout",
     "output_type": "stream",
     "text": [
      "Carregando dados dos produtos...\n"
     ]
    }
   ],
   "source": [
    "PRODUCTS = get_products()"
   ]
  },
  {
   "cell_type": "code",
   "execution_count": 3,
   "metadata": {
    "execution": {
     "iopub.execute_input": "2024-11-06T14:37:20.707192Z",
     "iopub.status.busy": "2024-11-06T14:37:20.706746Z",
     "iopub.status.idle": "2024-11-06T14:37:20.713170Z",
     "shell.execute_reply": "2024-11-06T14:37:20.712339Z",
     "shell.execute_reply.started": "2024-11-06T14:37:20.707170Z"
    }
   },
   "outputs": [],
   "source": [
    "def get_or_add_vertex(g, id):\n",
    "    v = g.vertex_by_id(id)\n",
    "    if v is None:\n",
    "        v = g.add_vertex_by_id(id)\n",
    "        p = PRODUCTS[str(id)]\n",
    "        v['aisle'] = p['aisle']\n",
    "        v['department'] = v['department']\n",
    "        v['name'] = p['name']\n",
    "        v['purchased once'] = p['purchased once']\n",
    "        v['purchased more than once'] = p['purchased more than once']\n",
    "        v['number of users purchased'] = p['number of users purchased']\n",
    "        v['total purchases'] = p['total purchases']\n",
    "        v['PRC'] = p['PRC']\n",
    "    return v\n",
    "\n",
    "def get_or_add_edge(g, a, b, v):\n",
    "    e = g.edge_by_ids(a, b)\n",
    "    if e is None:\n",
    "        e = g.add_edge_by_ids(a, b)\n",
    "        e['node1']= PRODUCTS[str(a)]['name'] \n",
    "        e['node2'] = PRODUCTS[str(b)]['name']\n",
    "        e['purchases per user'] = v[0]\n",
    "        e['purchased together'] = v[1]\n",
    "        e['user purchased together'] = v[2]\n",
    "    return e"
   ]
  },
  {
   "cell_type": "code",
   "execution_count": 4,
   "metadata": {
    "execution": {
     "iopub.execute_input": "2024-11-06T14:37:20.714302Z",
     "iopub.status.busy": "2024-11-06T14:37:20.714036Z",
     "iopub.status.idle": "2024-11-06T14:37:50.821593Z",
     "shell.execute_reply": "2024-11-06T14:37:50.820885Z",
     "shell.execute_reply.started": "2024-11-06T14:37:20.714282Z"
    }
   },
   "outputs": [],
   "source": [
    "g = gte.Graph(directed=False)\n",
    "g.add_ep('node1')\n",
    "g.add_ep('node2')\n",
    "g.add_ep('purchased together')\n",
    "g.add_ep('user purchased together')\n",
    "g.add_ep('purchases per user')\n",
    "\n",
    "g.add_vp('aisle')\n",
    "g.add_vp('department')\n",
    "g.add_vp('name')\n",
    "g.add_vp('purchased once')\n",
    "g.add_vp('purchased more than once')\n",
    "g.add_vp('number of users purchased')\n",
    "g.add_vp('total purchases')\n",
    "g.add_vp('PRC')\n",
    "\n",
    "with open('./data/edges.csv') as file:\n",
    "    for line in file:\n",
    "        a, b, *v = [(int(x) if '.' not in x else float(x)) for x in line.strip().replace('\\n', '').split(',')]\n",
    "        vA = get_or_add_vertex(g, a)\n",
    "        vB = get_or_add_vertex(g, b)\n",
    "    \n",
    "        e = get_or_add_edge(g, a, b, v)"
   ]
  },
  {
   "cell_type": "markdown",
   "metadata": {},
   "source": [
    "### 04: Construindo e renderizando a Rede"
   ]
  },
  {
   "cell_type": "code",
   "execution_count": 5,
   "metadata": {
    "execution": {
     "iopub.execute_input": "2024-11-06T14:37:50.822646Z",
     "iopub.status.busy": "2024-11-06T14:37:50.822432Z",
     "iopub.status.idle": "2024-11-06T14:38:57.956602Z",
     "shell.execute_reply": "2024-11-06T14:38:57.955824Z",
     "shell.execute_reply.started": "2024-11-06T14:37:50.822627Z"
    }
   },
   "outputs": [],
   "source": [
    "layout = draw.sfdp_layout(g)"
   ]
  },
  {
   "cell_type": "code",
   "execution_count": 6,
   "metadata": {
    "execution": {
     "iopub.execute_input": "2024-11-06T14:38:57.960480Z",
     "iopub.status.busy": "2024-11-06T14:38:57.959843Z",
     "iopub.status.idle": "2024-11-06T14:39:03.841104Z",
     "shell.execute_reply": "2024-11-06T14:39:03.840360Z",
     "shell.execute_reply.started": "2024-11-06T14:38:57.960443Z"
    }
   },
   "outputs": [],
   "source": [
    "gte.move(g, layout)"
   ]
  },
  {
   "cell_type": "code",
   "execution_count": 7,
   "metadata": {
    "execution": {
     "iopub.execute_input": "2024-11-06T14:39:03.842325Z",
     "iopub.status.busy": "2024-11-06T14:39:03.842083Z",
     "iopub.status.idle": "2024-11-06T14:39:04.156558Z",
     "shell.execute_reply": "2024-11-06T14:39:04.155733Z",
     "shell.execute_reply.started": "2024-11-06T14:39:03.842309Z"
    }
   },
   "outputs": [],
   "source": [
    "g = gte.clean(g)"
   ]
  },
  {
   "cell_type": "code",
   "execution_count": 8,
   "metadata": {
    "execution": {
     "iopub.execute_input": "2024-11-06T14:39:04.158020Z",
     "iopub.status.busy": "2024-11-06T14:39:04.157585Z",
     "iopub.status.idle": "2024-11-06T14:40:01.594416Z",
     "shell.execute_reply": "2024-11-06T14:40:01.593609Z",
     "shell.execute_reply.started": "2024-11-06T14:39:04.157997Z"
    }
   },
   "outputs": [],
   "source": [
    "gte.save(g, 'rede.net.gz')"
   ]
  },
  {
   "cell_type": "code",
   "execution_count": null,
   "metadata": {},
   "outputs": [],
   "source": [
    "r = netpixi.render('./rede.net.gz', infinite=True)"
   ]
  },
  {
   "cell_type": "code",
   "execution_count": 12,
   "metadata": {
    "execution": {
     "iopub.execute_input": "2024-11-06T18:43:48.610242Z",
     "iopub.status.busy": "2024-11-06T18:43:48.608922Z",
     "iopub.status.idle": "2024-11-06T18:43:48.623819Z",
     "shell.execute_reply": "2024-11-06T18:43:48.622794Z",
     "shell.execute_reply.started": "2024-11-06T18:43:48.610197Z"
    }
   },
   "outputs": [
    {
     "data": {
      "text/html": [
       "\n",
       "        <div id=\"jXMUmkjdHhgLFMVjvnhXx6\"></div>\n",
       "        <script>netpixi.call('jXMUmkjdHhgLFMVjvnhXx6', 'epJoTd4m64VMzcbS3cArD4', 'changeGraph', 'eyJ0eXBlIjogInNldHRpbmdzIiwgInByb3BzIjogeyJ2ZXJ0ZXgiOiB7InNpemUiOiA0LCAiYndpZHRoIjogMX19fQo=');</script>\n",
       "    "
      ],
      "text/plain": [
       "<IPython.core.display.HTML object>"
      ]
     },
     "metadata": {},
     "output_type": "display_data"
    },
    {
     "data": {
      "text/html": [
       "\n",
       "        <div id=\"CVM9KNq5bNznwyscuywK7G\"></div>\n",
       "        <script>netpixi.call('CVM9KNq5bNznwyscuywK7G', 'epJoTd4m64VMzcbS3cArD4', 'changeGraph', 'eyJ0eXBlIjogInNldHRpbmdzIiwgInByb3BzIjogeyJlZGdlIjogeyJ3aWR0aCI6IDF9fX0K');</script>\n",
       "    "
      ],
      "text/plain": [
       "<IPython.core.display.HTML object>"
      ]
     },
     "metadata": {},
     "output_type": "display_data"
    }
   ],
   "source": [
    "# time.sleep(2.5)\n",
    "# r.vertex_set_key('name')\n",
    "r.vertex_default(size=4, bwidth=1)\n",
    "r.edge_default(width=1)"
   ]
  }
 ],
 "metadata": {
  "kernelspec": {
   "display_name": "Python 3 (ipykernel)",
   "language": "python",
   "name": "python3"
  },
  "language_info": {
   "codemirror_mode": {
    "name": "ipython",
    "version": 3
   },
   "file_extension": ".py",
   "mimetype": "text/x-python",
   "name": "python",
   "nbconvert_exporter": "python",
   "pygments_lexer": "ipython3",
   "version": "3.12.4"
  }
 },
 "nbformat": 4,
 "nbformat_minor": 4
}
