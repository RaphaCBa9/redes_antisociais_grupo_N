{
 "cells": [
  {
   "cell_type": "code",
   "execution_count": 2,
   "metadata": {},
   "outputs": [],
   "source": [
    "from data import PRODUCTS, DEPARTMENTS, AISLES, DEPARTMENT_COUNTS, AISLE_COUNTS\n",
    "import json, time, os, zipfile"
   ]
  },
  {
   "cell_type": "code",
   "execution_count": null,
   "metadata": {},
   "outputs": [],
   "source": [
    "print(f'Há {len(DEPARTMENTS)} departamentos\\n')\n",
    "for key, value in DEPARTMENT_COUNTS.items():\n",
    "    print(f\"{DEPARTMENTS[key]}: {value}\")"
   ]
  },
  {
   "cell_type": "code",
   "execution_count": null,
   "metadata": {},
   "outputs": [],
   "source": [
    "print(f'Há {len(AISLES)} corredores\\n')\n",
    "for key, value in AISLE_COUNTS.items():\n",
    "    print(f\"{AISLES[key]}: {value}\")"
   ]
  },
  {
   "cell_type": "code",
   "execution_count": 5,
   "metadata": {},
   "outputs": [],
   "source": [
    "# EDGES = json.load(open('./data/edges.json'))\n",
    "\n",
    "# def formater(string:str, spaces:int=40) -> str:\n",
    "#     return string + \" \"*(spaces-len(string)) + \"\\t\"\n",
    "\n",
    "# t = time.time()\n",
    "# i = 0\n",
    "# with open('view.txt', 'w', encoding='utf8') as f:\n",
    "#     for edge, value in EDGES.items():\n",
    "#         a, b = edge.split(\",\")\n",
    "#         product_a = PRODUCTS[a]\n",
    "#         product_b = PRODUCTS[b]\n",
    "        \n",
    "#         f.write(f\"{formater(product_a['name'])} -> {formater(product_b['name'])} -> {value}\\n\")\n",
    "#         f.write(f\"{formater(product_a['aisle'])}    {formater(product_b['aisle'])}\\n\")\n",
    "#         f.write(f\"{formater(product_a['department'])}    {formater(product_b['department'])}\\n\\n\")\n",
    "        \n",
    "#         if time.time()-t > 5:\n",
    "#             break"
   ]
  }
 ],
 "metadata": {
  "kernelspec": {
   "display_name": "Python 3",
   "language": "python",
   "name": "python3"
  },
  "language_info": {
   "codemirror_mode": {
    "name": "ipython",
    "version": 3
   },
   "file_extension": ".py",
   "mimetype": "text/x-python",
   "name": "python",
   "nbconvert_exporter": "python",
   "pygments_lexer": "ipython3",
   "version": "3.12.4"
  }
 },
 "nbformat": 4,
 "nbformat_minor": 2
}
